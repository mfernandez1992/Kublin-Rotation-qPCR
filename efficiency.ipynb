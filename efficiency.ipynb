{
 "cells": [
  {
   "cell_type": "code",
   "execution_count": null,
   "metadata": {},
   "outputs": [],
   "source": [
    "library(tidyverse)"
   ]
  },
  {
   "cell_type": "code",
   "execution_count": 1,
   "metadata": {},
   "outputs": [
    {
     "ename": "ERROR",
     "evalue": "Error in read.table(file = file, header = header, sep = sep, quote = quote, : object 'efficiency.csv' not found\n",
     "execution_count": 1,
     "output_type": "error",
     "traceback": [
      "Error in read.table(file = file, header = header, sep = sep, quote = quote, : object 'efficiency.csv' not found\nTraceback:\n",
      "1. read.csv(efficiency.csv)",
      "2. read.table(file = file, header = header, sep = sep, quote = quote, \n .     dec = dec, fill = fill, comment.char = comment.char, ...)"
     ]
    }
   ],
   "source": [
    "read.csv(efficiency.csv)"
   ]
  },
  {
   "cell_type": "code",
   "execution_count": 5,
   "metadata": {},
   "outputs": [
    {
     "name": "stderr",
     "output_type": "stream",
     "text": [
      "Warning message in file(file, \"rt\"):\n",
      "“cannot open file '~fh/fast/kublin_j/microbiome/mark/efficiency.csv': No such file or directory”"
     ]
    },
    {
     "ename": "ERROR",
     "evalue": "Error in file(file, \"rt\"): cannot open the connection\n",
     "execution_count": 5,
     "output_type": "error",
     "traceback": [
      "Error in file(file, \"rt\"): cannot open the connection\nTraceback:\n",
      "1. read.csv(\"~fh/fast/kublin_j/microbiome/mark/efficiency.csv\")",
      "2. read.table(file = file, header = header, sep = sep, quote = quote, \n .     dec = dec, fill = fill, comment.char = comment.char, ...)",
      "3. file(file, \"rt\")"
     ]
    }
   ],
   "source": [
    "read.csv('~fh/fast/kublin_j/microbiome/mark/efficiency.csv')"
   ]
  },
  {
   "cell_type": "code",
   "execution_count": 6,
   "metadata": {},
   "outputs": [
    {
     "data": {
      "text/html": [
       "<ol class=list-inline>\n",
       "\t<li>'data.ipynb'</li>\n",
       "\t<li>'efficiency.ipynb'</li>\n",
       "\t<li>'qpcr.csv'</li>\n",
       "</ol>\n"
      ],
      "text/latex": [
       "\\begin{enumerate*}\n",
       "\\item 'data.ipynb'\n",
       "\\item 'efficiency.ipynb'\n",
       "\\item 'qpcr.csv'\n",
       "\\end{enumerate*}\n"
      ],
      "text/markdown": [
       "1. 'data.ipynb'\n",
       "2. 'efficiency.ipynb'\n",
       "3. 'qpcr.csv'\n",
       "\n",
       "\n"
      ],
      "text/plain": [
       "[1] \"data.ipynb\"       \"efficiency.ipynb\" \"qpcr.csv\"        "
      ]
     },
     "metadata": {},
     "output_type": "display_data"
    }
   ],
   "source": [
    "list.files()"
   ]
  },
  {
   "cell_type": "code",
   "execution_count": 8,
   "metadata": {},
   "outputs": [
    {
     "name": "stderr",
     "output_type": "stream",
     "text": [
      "Warning message in file(file, \"rt\"):\n",
      "“cannot open file 'efficiency.csv': No such file or directory”"
     ]
    },
    {
     "ename": "ERROR",
     "evalue": "Error in file(file, \"rt\"): cannot open the connection\n",
     "execution_count": 8,
     "output_type": "error",
     "traceback": [
      "Error in file(file, \"rt\"): cannot open the connection\nTraceback:\n",
      "1. read.csv(\"efficiency.csv\")",
      "2. read.table(file = file, header = header, sep = sep, quote = quote, \n .     dec = dec, fill = fill, comment.char = comment.char, ...)",
      "3. file(file, \"rt\")"
     ]
    }
   ],
   "source": [
    "read.csv('efficiency.csv')"
   ]
  },
  {
   "cell_type": "code",
   "execution_count": 10,
   "metadata": {},
   "outputs": [
    {
     "ename": "ERROR",
     "evalue": "Error in setwd(\"~fh/fast/kublin_j/microbiome/mark\"): cannot change working directory\n",
     "execution_count": 10,
     "output_type": "error",
     "traceback": [
      "Error in setwd(\"~fh/fast/kublin_j/microbiome/mark\"): cannot change working directory\nTraceback:\n",
      "1. setwd(\"~fh/fast/kublin_j/microbiome/mark\")"
     ]
    }
   ],
   "source": [
    "setwd('~fh/fast/kublin_j/microbiome/mark')"
   ]
  },
  {
   "cell_type": "code",
   "execution_count": 11,
   "metadata": {},
   "outputs": [
    {
     "data": {
      "text/html": [
       "<ol>\n",
       "</ol>\n"
      ],
      "text/latex": [
       "\\begin{enumerate}\n",
       "\\end{enumerate}\n"
      ],
      "text/markdown": [
       "\n",
       "\n"
      ],
      "text/plain": [
       "list()"
      ]
     },
     "metadata": {},
     "output_type": "display_data"
    }
   ],
   "source": [
    "list()"
   ]
  },
  {
   "cell_type": "code",
   "execution_count": 12,
   "metadata": {},
   "outputs": [
    {
     "data": {
      "text/html": [
       "<ol class=list-inline>\n",
       "\t<li>'data.ipynb'</li>\n",
       "\t<li>'efficiency.ipynb'</li>\n",
       "\t<li>'qpcr.csv'</li>\n",
       "</ol>\n"
      ],
      "text/latex": [
       "\\begin{enumerate*}\n",
       "\\item 'data.ipynb'\n",
       "\\item 'efficiency.ipynb'\n",
       "\\item 'qpcr.csv'\n",
       "\\end{enumerate*}\n"
      ],
      "text/markdown": [
       "1. 'data.ipynb'\n",
       "2. 'efficiency.ipynb'\n",
       "3. 'qpcr.csv'\n",
       "\n",
       "\n"
      ],
      "text/plain": [
       "[1] \"data.ipynb\"       \"efficiency.ipynb\" \"qpcr.csv\"        "
      ]
     },
     "metadata": {},
     "output_type": "display_data"
    }
   ],
   "source": [
    "list.files()"
   ]
  },
  {
   "cell_type": "code",
   "execution_count": 20,
   "metadata": {},
   "outputs": [],
   "source": [
    "efficiency = read.csv('efficiency2.csv')"
   ]
  },
  {
   "cell_type": "code",
   "execution_count": 14,
   "metadata": {},
   "outputs": [
    {
     "ename": "ERROR",
     "evalue": "Error in View(efficiency): ‘View()’ not yet supported in the Jupyter R kernel\n",
     "execution_count": 14,
     "output_type": "error",
     "traceback": [
      "Error in View(efficiency): ‘View()’ not yet supported in the Jupyter R kernel\nTraceback:\n",
      "1. View(efficiency)",
      "2. stop(sQuote(\"View()\"), \" not yet supported in the Jupyter R kernel\")"
     ]
    }
   ],
   "source": [
    "View(efficiency)"
   ]
  },
  {
   "cell_type": "code",
   "execution_count": 21,
   "metadata": {},
   "outputs": [
    {
     "data": {
      "text/html": [
       "<table>\n",
       "<thead><tr><th scope=col>Primers</th><th scope=col>Mic.E</th><th scope=col>Primers.1</th></tr></thead>\n",
       "<tbody>\n",
       "\t<tr><td>Mic      </td><td>120.200  </td><td>EcNissle </td></tr>\n",
       "\t<tr><td>Quant E  </td><td> 95.412  </td><td>EcNissle </td></tr>\n",
       "\t<tr><td>Mic      </td><td>125.739  </td><td>EcNissle2</td></tr>\n",
       "\t<tr><td>Quant E  </td><td> 99.677  </td><td>EcNissle2</td></tr>\n",
       "\t<tr><td>Mic      </td><td>119.020  </td><td>Cbut     </td></tr>\n",
       "\t<tr><td>Quant E  </td><td> 92.816  </td><td>Cbut     </td></tr>\n",
       "\t<tr><td>Mic      </td><td>112.644  </td><td>Cbut 2   </td></tr>\n",
       "\t<tr><td>Quant E  </td><td> 80.000  </td><td>Cbut 2   </td></tr>\n",
       "\t<tr><td>Mic      </td><td>116.388  </td><td>Fvarium  </td></tr>\n",
       "\t<tr><td>Quant E  </td><td> 98.064  </td><td>Fvarium  </td></tr>\n",
       "\t<tr><td>Mic      </td><td>137.189  </td><td>Fvarium 2</td></tr>\n",
       "\t<tr><td>Quant E  </td><td> 94.870  </td><td>Fvarium 2</td></tr>\n",
       "\t<tr><td>Mic      </td><td>131.649  </td><td>Pcopri   </td></tr>\n",
       "\t<tr><td>Quant E  </td><td>102.375  </td><td>Pcopri   </td></tr>\n",
       "\t<tr><td>Mic      </td><td>135.144  </td><td>Pcopri2  </td></tr>\n",
       "\t<tr><td>Quant E  </td><td>103.904  </td><td>Pcopri2  </td></tr>\n",
       "</tbody>\n",
       "</table>\n"
      ],
      "text/latex": [
       "\\begin{tabular}{r|lll}\n",
       " Primers & Mic.E & Primers.1\\\\\n",
       "\\hline\n",
       "\t Mic       & 120.200   & EcNissle \\\\\n",
       "\t Quant E   &  95.412   & EcNissle \\\\\n",
       "\t Mic       & 125.739   & EcNissle2\\\\\n",
       "\t Quant E   &  99.677   & EcNissle2\\\\\n",
       "\t Mic       & 119.020   & Cbut     \\\\\n",
       "\t Quant E   &  92.816   & Cbut     \\\\\n",
       "\t Mic       & 112.644   & Cbut 2   \\\\\n",
       "\t Quant E   &  80.000   & Cbut 2   \\\\\n",
       "\t Mic       & 116.388   & Fvarium  \\\\\n",
       "\t Quant E   &  98.064   & Fvarium  \\\\\n",
       "\t Mic       & 137.189   & Fvarium 2\\\\\n",
       "\t Quant E   &  94.870   & Fvarium 2\\\\\n",
       "\t Mic       & 131.649   & Pcopri   \\\\\n",
       "\t Quant E   & 102.375   & Pcopri   \\\\\n",
       "\t Mic       & 135.144   & Pcopri2  \\\\\n",
       "\t Quant E   & 103.904   & Pcopri2  \\\\\n",
       "\\end{tabular}\n"
      ],
      "text/markdown": [
       "\n",
       "Primers | Mic.E | Primers.1 | \n",
       "|---|---|---|---|---|---|---|---|---|---|---|---|---|---|---|---|\n",
       "| Mic       | 120.200   | EcNissle  | \n",
       "| Quant E   |  95.412   | EcNissle  | \n",
       "| Mic       | 125.739   | EcNissle2 | \n",
       "| Quant E   |  99.677   | EcNissle2 | \n",
       "| Mic       | 119.020   | Cbut      | \n",
       "| Quant E   |  92.816   | Cbut      | \n",
       "| Mic       | 112.644   | Cbut 2    | \n",
       "| Quant E   |  80.000   | Cbut 2    | \n",
       "| Mic       | 116.388   | Fvarium   | \n",
       "| Quant E   |  98.064   | Fvarium   | \n",
       "| Mic       | 137.189   | Fvarium 2 | \n",
       "| Quant E   |  94.870   | Fvarium 2 | \n",
       "| Mic       | 131.649   | Pcopri    | \n",
       "| Quant E   | 102.375   | Pcopri    | \n",
       "| Mic       | 135.144   | Pcopri2   | \n",
       "| Quant E   | 103.904   | Pcopri2   | \n",
       "\n",
       "\n"
      ],
      "text/plain": [
       "   Primers Mic.E   Primers.1\n",
       "1  Mic     120.200 EcNissle \n",
       "2  Quant E  95.412 EcNissle \n",
       "3  Mic     125.739 EcNissle2\n",
       "4  Quant E  99.677 EcNissle2\n",
       "5  Mic     119.020 Cbut     \n",
       "6  Quant E  92.816 Cbut     \n",
       "7  Mic     112.644 Cbut 2   \n",
       "8  Quant E  80.000 Cbut 2   \n",
       "9  Mic     116.388 Fvarium  \n",
       "10 Quant E  98.064 Fvarium  \n",
       "11 Mic     137.189 Fvarium 2\n",
       "12 Quant E  94.870 Fvarium 2\n",
       "13 Mic     131.649 Pcopri   \n",
       "14 Quant E 102.375 Pcopri   \n",
       "15 Mic     135.144 Pcopri2  \n",
       "16 Quant E 103.904 Pcopri2  "
      ]
     },
     "metadata": {},
     "output_type": "display_data"
    }
   ],
   "source": [
    "efficiency"
   ]
  },
  {
   "cell_type": "code",
   "execution_count": 24,
   "metadata": {},
   "outputs": [
    {
     "ename": "ERROR",
     "evalue": "Error in parse(text = x, srcfile = src): <text>:3:0: unexpected end of input\n1: ggplot(data=efficiency, aes(x = Primers, y = Mic.E,\n2:         color = Primers.1)\n  ^\n",
     "execution_count": 24,
     "output_type": "error",
     "traceback": [
      "Error in parse(text = x, srcfile = src): <text>:3:0: unexpected end of input\n1: ggplot(data=efficiency, aes(x = Primers, y = Mic.E,\n2:         color = Primers.1)\n  ^\nTraceback:\n"
     ]
    }
   ],
   "source": [
    "ggplot(data=efficiency, aes(x = Primers, y = Mic.E,\n",
    "        color = Primers.1)"
   ]
  },
  {
   "cell_type": "code",
   "execution_count": 25,
   "metadata": {},
   "outputs": [],
   "source": [
    "library(ggplot2)"
   ]
  },
  {
   "cell_type": "code",
   "execution_count": 27,
   "metadata": {},
   "outputs": [
    {
     "ename": "ERROR",
     "evalue": "Error in parse(text = x, srcfile = src): <text>:2:0: unexpected end of input\n1: ggplot(data=efficiency, aes(x = Primers, y = Mic.E)\n   ^\n",
     "execution_count": 27,
     "output_type": "error",
     "traceback": [
      "Error in parse(text = x, srcfile = src): <text>:2:0: unexpected end of input\n1: ggplot(data=efficiency, aes(x = Primers, y = Mic.E)\n   ^\nTraceback:\n"
     ]
    }
   ],
   "source": [
    "ggplot(data=efficiency, aes(x = Primers, y = Mic.E)"
   ]
  },
  {
   "cell_type": "code",
   "execution_count": 28,
   "metadata": {},
   "outputs": [
    {
     "name": "stderr",
     "output_type": "stream",
     "text": [
      "Updating HTML index of packages in '.Library'\n",
      "Making 'packages.html' ... done\n"
     ]
    }
   ],
   "source": [
    "install.packages('ggplot2')"
   ]
  },
  {
   "cell_type": "code",
   "execution_count": 30,
   "metadata": {},
   "outputs": [
    {
     "ename": "ERROR",
     "evalue": "Error in parse(text = x, srcfile = src): <text>:2:0: unexpected end of input\n1: ggplot(data=efficiency, aes(x = Primers, y = Mic.E)\n   ^\n",
     "execution_count": 30,
     "output_type": "error",
     "traceback": [
      "Error in parse(text = x, srcfile = src): <text>:2:0: unexpected end of input\n1: ggplot(data=efficiency, aes(x = Primers, y = Mic.E)\n   ^\nTraceback:\n"
     ]
    }
   ],
   "source": [
    "ggplot(data=efficiency, aes(x = Primers, y = Mic.E)"
   ]
  },
  {
   "cell_type": "code",
   "execution_count": 31,
   "metadata": {},
   "outputs": [
    {
     "data": {
      "text/html": [
       "\n",
       "<table width=\"100%\" summary=\"page for ggplot2-package {ggplot2}\"><tr><td>ggplot2-package {ggplot2}</td><td style=\"text-align: right;\">R Documentation</td></tr></table>\n",
       "\n",
       "<h2>ggplot2: Create Elegant Data Visualisations Using the Grammar of Graphics</h2>\n",
       "\n",
       "<h3>Description</h3>\n",
       "\n",
       "<p>A system for 'declaratively' creating graphics,\n",
       "based on &quot;The Grammar of Graphics&quot;. You provide the data, tell 'ggplot2'\n",
       "how to map variables to aesthetics, what graphical primitives to use,\n",
       "and it takes care of the details.\n",
       "</p>\n",
       "\n",
       "\n",
       "<h3>Author(s)</h3>\n",
       "\n",
       "<p><strong>Maintainer</strong>: Hadley Wickham <a href=\"mailto:hadley@rstudio.com\">hadley@rstudio.com</a>\n",
       "</p>\n",
       "<p>Authors:\n",
       "</p>\n",
       "\n",
       "<ul>\n",
       "<li><p> Winston Chang <a href=\"mailto:winston@rstudio.com\">winston@rstudio.com</a>\n",
       "</p>\n",
       "</li></ul>\n",
       "\n",
       "<p>Other contributors:\n",
       "</p>\n",
       "\n",
       "<ul>\n",
       "<li><p> RStudio [copyright holder]\n",
       "</p>\n",
       "</li></ul>\n",
       "\n",
       "\n",
       "\n",
       "<h3>See Also</h3>\n",
       "\n",
       "<p>Useful links:\n",
       "</p>\n",
       "\n",
       "<ul>\n",
       "<li> <p><a href=\"http://ggplot2.tidyverse.org\">http://ggplot2.tidyverse.org</a>\n",
       "</p>\n",
       "</li>\n",
       "<li> <p><a href=\"https://github.com/tidyverse/ggplot2\">https://github.com/tidyverse/ggplot2</a>\n",
       "</p>\n",
       "</li>\n",
       "<li><p> Report bugs at <a href=\"https://github.com/tidyverse/ggplot2/issues\">https://github.com/tidyverse/ggplot2/issues</a>\n",
       "</p>\n",
       "</li></ul>\n",
       "\n",
       "\n",
       "<hr /><div style=\"text-align: center;\">[Package <em>ggplot2</em> version 2.2.1 ]</div>"
      ],
      "text/latex": [
       "\\inputencoding{utf8}\n",
       "\\HeaderA{ggplot2-package}{ggplot2: Create Elegant Data Visualisations Using the Grammar of Graphics}{ggplot2.Rdash.package}\n",
       "\\aliasA{ggplot2}{ggplot2-package}{ggplot2}\n",
       "\\keyword{internal}{ggplot2-package}\n",
       "%\n",
       "\\begin{Description}\\relax\n",
       "A system for 'declaratively' creating graphics,\n",
       "based on \"The Grammar of Graphics\". You provide the data, tell 'ggplot2'\n",
       "how to map variables to aesthetics, what graphical primitives to use,\n",
       "and it takes care of the details.\n",
       "\\end{Description}\n",
       "%\n",
       "\\begin{Author}\\relax\n",
       "\\strong{Maintainer}: Hadley Wickham \\email{hadley@rstudio.com}\n",
       "\n",
       "Authors:\n",
       "\\begin{itemize}\n",
       "\n",
       "\\item Winston Chang \\email{winston@rstudio.com}\n",
       "\n",
       "\\end{itemize}\n",
       "\n",
       "\n",
       "Other contributors:\n",
       "\\begin{itemize}\n",
       "\n",
       "\\item RStudio [copyright holder]\n",
       "\n",
       "\\end{itemize}\n",
       "\n",
       "\n",
       "\\end{Author}\n",
       "%\n",
       "\\begin{SeeAlso}\\relax\n",
       "Useful links:\n",
       "\\begin{itemize}\n",
       "\n",
       "\\item \\url{http://ggplot2.tidyverse.org}\n",
       "\\item \\url{https://github.com/tidyverse/ggplot2}\n",
       "\\item Report bugs at \\url{https://github.com/tidyverse/ggplot2/issues}\n",
       "\n",
       "\\end{itemize}\n",
       "\n",
       "\n",
       "\\end{SeeAlso}"
      ],
      "text/plain": [
       "ggplot2-package            package:ggplot2             R Documentation\n",
       "\n",
       "_\bg_\bg_\bp_\bl_\bo_\bt_\b2: _\bC_\br_\be_\ba_\bt_\be _\bE_\bl_\be_\bg_\ba_\bn_\bt _\bD_\ba_\bt_\ba _\bV_\bi_\bs_\bu_\ba_\bl_\bi_\bs_\ba_\bt_\bi_\bo_\bn_\bs _\bU_\bs_\bi_\bn_\bg _\bt_\bh_\be _\bG_\br_\ba_\bm_\bm_\ba_\br _\bo_\bf\n",
       "_\bG_\br_\ba_\bp_\bh_\bi_\bc_\bs\n",
       "\n",
       "_\bD_\be_\bs_\bc_\br_\bi_\bp_\bt_\bi_\bo_\bn:\n",
       "\n",
       "     A system for 'declaratively' creating graphics, based on \"The\n",
       "     Grammar of Graphics\". You provide the data, tell 'ggplot2' how to\n",
       "     map variables to aesthetics, what graphical primitives to use, and\n",
       "     it takes care of the details.\n",
       "\n",
       "_\bA_\bu_\bt_\bh_\bo_\br(_\bs):\n",
       "\n",
       "     *Maintainer*: Hadley Wickham <email: hadley@rstudio.com>\n",
       "\n",
       "     Authors:\n",
       "\n",
       "        • Winston Chang <email: winston@rstudio.com>\n",
       "\n",
       "     Other contributors:\n",
       "\n",
       "        • RStudio [copyright holder]\n",
       "\n",
       "_\bS_\be_\be _\bA_\bl_\bs_\bo:\n",
       "\n",
       "     Useful links:\n",
       "\n",
       "        • <URL: http://ggplot2.tidyverse.org>\n",
       "\n",
       "        • <URL: https://github.com/tidyverse/ggplot2>\n",
       "\n",
       "        • Report bugs at <URL:\n",
       "          https://github.com/tidyverse/ggplot2/issues>\n"
      ]
     },
     "metadata": {},
     "output_type": "display_data"
    }
   ],
   "source": [
    "help(ggplot2)"
   ]
  },
  {
   "cell_type": "code",
   "execution_count": 32,
   "metadata": {},
   "outputs": [],
   "source": [
    "library(ggplot2)"
   ]
  },
  {
   "cell_type": "code",
   "execution_count": 78,
   "metadata": {},
   "outputs": [
    {
     "data": {},
     "metadata": {},
     "output_type": "display_data"
    },
    {
     "data": {
      "image/png": "[encoded data removed]",
      "text/plain": [
       "plot without title"
      ]
     },
     "metadata": {},
     "output_type": "display_data",
     "source": "R display func"
    }
   ],
   "source": [
    "ggplot(data=efficiency, aes(x = Primers.1, y = Mic.E,\n",
    "    fill = Primers))+ \n",
    "geom_bar(stat = 'identity', position = position_dodge())+\n",
    "theme_bw()+\n",
    "geom_abline(slope=0, intercept=90,  col = \"black\",lty=2) +\n",
    "geom_abline(slope=0, intercept=110,  col = \"black\",lty=2) +\n",
    "scale_fill_discrete(guide = guide_legend(title = \"Machine\"))+\n",
    "labs(x = 'Primers', y = 'Efficiency')"
   ]
  },
  {
   "cell_type": "code",
   "execution_count": 80,
   "metadata": {},
   "outputs": [],
   "source": [
    "efficiency = read.csv('efficiency2.csv')"
   ]
  },
  {
   "cell_type": "code",
   "execution_count": 81,
   "metadata": {},
   "outputs": [
    {
     "data": {},
     "metadata": {},
     "output_type": "display_data"
    },
    {
     "data": {
      "image/png": "[encoded data removed]",
      "text/plain": [
       "plot without title"
      ]
     },
     "metadata": {},
     "output_type": "display_data",
     "source": "R display func"
    }
   ],
   "source": [
    "ggplot(data=efficiency, aes(x = Primers.1, y = Mic.E,\n",
    "    fill = Primers))+ \n",
    "geom_bar(stat = 'identity', position = position_dodge())+\n",
    "theme_bw()+\n",
    "geom_abline(slope=0, intercept=90,  col = \"black\",lty=2) +\n",
    "geom_abline(slope=0, intercept=110,  col = \"black\",lty=2) +\n",
    "scale_fill_discrete(guide = guide_legend(title = \"Machine\"))+\n",
    "labs(x = 'Primers', y = 'Efficiency')"
   ]
  },
  {
   "cell_type": "code",
   "execution_count": 83,
   "metadata": {},
   "outputs": [],
   "source": [
    "EfficiencyPlot = ggplot(data=efficiency, aes(x = Primers.1, y = Mic.E,\n",
    "    fill = Primers))+ \n",
    "geom_bar(stat = 'identity', position = position_dodge())+\n",
    "theme_bw()+\n",
    "geom_abline(slope=0, intercept=90,  col = \"black\",lty=2) +\n",
    "geom_abline(slope=0, intercept=110,  col = \"black\",lty=2) +\n",
    "scale_fill_discrete(guide = guide_legend(title = \"Machine\"))+\n",
    "labs(x = 'Primers', y = 'Efficiency')"
   ]
  },
  {
   "cell_type": "code",
   "execution_count": 84,
   "metadata": {},
   "outputs": [
    {
     "data": {},
     "metadata": {},
     "output_type": "display_data"
    },
    {
     "data": {
      "image/png": "[encoded data removed]",
      "text/plain": [
       "plot without title"
      ]
     },
     "metadata": {},
     "output_type": "display_data",
     "source": "R display func"
    }
   ],
   "source": [
    "EfficiencyPlot\n"
   ]
  },
  {
   "cell_type": "code",
   "execution_count": 89,
   "metadata": {},
   "outputs": [
    {
     "name": "stderr",
     "output_type": "stream",
     "text": [
      "Saving 6.67 x 6.67 in image\n"
     ]
    }
   ],
   "source": [
    "ggsave('EfficiencyPlot.png')"
   ]
  },
  {
   "cell_type": "code",
   "execution_count": 88,
   "metadata": {},
   "outputs": [
    {
     "name": "stdout",
     "output_type": "stream",
     "text": [
      "[1] \"EfficencyPlot.png\"\n"
     ]
    }
   ],
   "source": [
    "print('EfficencyPlot.png')"
   ]
  },
  {
   "cell_type": "code",
   "execution_count": 90,
   "metadata": {},
   "outputs": [
    {
     "data": {
      "text/html": [
       "<table>\n",
       "<thead><tr><th scope=col>Primers</th><th scope=col>Mic.E</th><th scope=col>Primers.1</th></tr></thead>\n",
       "<tbody>\n",
       "\t<tr><td>Mic        </td><td>120.200    </td><td>EcNissle   </td></tr>\n",
       "\t<tr><td>QuantStudio</td><td> 95.412    </td><td>EcNissle   </td></tr>\n",
       "\t<tr><td>Mic        </td><td>125.739    </td><td>EcNissle2  </td></tr>\n",
       "\t<tr><td>QuantStudio</td><td> 99.677    </td><td>EcNissle2  </td></tr>\n",
       "\t<tr><td>Mic        </td><td>119.020    </td><td>Cbut       </td></tr>\n",
       "\t<tr><td>QuantStudio</td><td> 92.816    </td><td>Cbut       </td></tr>\n",
       "\t<tr><td>Mic        </td><td>112.644    </td><td>Cbut 2     </td></tr>\n",
       "\t<tr><td>QuantStudio</td><td> 80.000    </td><td>Cbut 2     </td></tr>\n",
       "\t<tr><td>Mic        </td><td>116.388    </td><td>Fvarium    </td></tr>\n",
       "\t<tr><td>QuantStudio</td><td> 98.064    </td><td>Fvarium    </td></tr>\n",
       "\t<tr><td>Mic        </td><td>137.189    </td><td>Fvarium 2  </td></tr>\n",
       "\t<tr><td>QuantStudio</td><td> 94.870    </td><td>Fvarium 2  </td></tr>\n",
       "\t<tr><td>Mic        </td><td>131.649    </td><td>Pcopri     </td></tr>\n",
       "\t<tr><td>QuantStudio</td><td>102.375    </td><td>Pcopri     </td></tr>\n",
       "\t<tr><td>Mic        </td><td>135.144    </td><td>Pcopri2    </td></tr>\n",
       "\t<tr><td>QuantStudio</td><td>103.904    </td><td>Pcopri2    </td></tr>\n",
       "</tbody>\n",
       "</table>\n"
      ],
      "text/latex": [
       "\\begin{tabular}{r|lll}\n",
       " Primers & Mic.E & Primers.1\\\\\n",
       "\\hline\n",
       "\t Mic         & 120.200     & EcNissle   \\\\\n",
       "\t QuantStudio &  95.412     & EcNissle   \\\\\n",
       "\t Mic         & 125.739     & EcNissle2  \\\\\n",
       "\t QuantStudio &  99.677     & EcNissle2  \\\\\n",
       "\t Mic         & 119.020     & Cbut       \\\\\n",
       "\t QuantStudio &  92.816     & Cbut       \\\\\n",
       "\t Mic         & 112.644     & Cbut 2     \\\\\n",
       "\t QuantStudio &  80.000     & Cbut 2     \\\\\n",
       "\t Mic         & 116.388     & Fvarium    \\\\\n",
       "\t QuantStudio &  98.064     & Fvarium    \\\\\n",
       "\t Mic         & 137.189     & Fvarium 2  \\\\\n",
       "\t QuantStudio &  94.870     & Fvarium 2  \\\\\n",
       "\t Mic         & 131.649     & Pcopri     \\\\\n",
       "\t QuantStudio & 102.375     & Pcopri     \\\\\n",
       "\t Mic         & 135.144     & Pcopri2    \\\\\n",
       "\t QuantStudio & 103.904     & Pcopri2    \\\\\n",
       "\\end{tabular}\n"
      ],
      "text/markdown": [
       "\n",
       "Primers | Mic.E | Primers.1 | \n",
       "|---|---|---|---|---|---|---|---|---|---|---|---|---|---|---|---|\n",
       "| Mic         | 120.200     | EcNissle    | \n",
       "| QuantStudio |  95.412     | EcNissle    | \n",
       "| Mic         | 125.739     | EcNissle2   | \n",
       "| QuantStudio |  99.677     | EcNissle2   | \n",
       "| Mic         | 119.020     | Cbut        | \n",
       "| QuantStudio |  92.816     | Cbut        | \n",
       "| Mic         | 112.644     | Cbut 2      | \n",
       "| QuantStudio |  80.000     | Cbut 2      | \n",
       "| Mic         | 116.388     | Fvarium     | \n",
       "| QuantStudio |  98.064     | Fvarium     | \n",
       "| Mic         | 137.189     | Fvarium 2   | \n",
       "| QuantStudio |  94.870     | Fvarium 2   | \n",
       "| Mic         | 131.649     | Pcopri      | \n",
       "| QuantStudio | 102.375     | Pcopri      | \n",
       "| Mic         | 135.144     | Pcopri2     | \n",
       "| QuantStudio | 103.904     | Pcopri2     | \n",
       "\n",
       "\n"
      ],
      "text/plain": [
       "   Primers     Mic.E   Primers.1\n",
       "1  Mic         120.200 EcNissle \n",
       "2  QuantStudio  95.412 EcNissle \n",
       "3  Mic         125.739 EcNissle2\n",
       "4  QuantStudio  99.677 EcNissle2\n",
       "5  Mic         119.020 Cbut     \n",
       "6  QuantStudio  92.816 Cbut     \n",
       "7  Mic         112.644 Cbut 2   \n",
       "8  QuantStudio  80.000 Cbut 2   \n",
       "9  Mic         116.388 Fvarium  \n",
       "10 QuantStudio  98.064 Fvarium  \n",
       "11 Mic         137.189 Fvarium 2\n",
       "12 QuantStudio  94.870 Fvarium 2\n",
       "13 Mic         131.649 Pcopri   \n",
       "14 QuantStudio 102.375 Pcopri   \n",
       "15 Mic         135.144 Pcopri2  \n",
       "16 QuantStudio 103.904 Pcopri2  "
      ]
     },
     "metadata": {},
     "output_type": "display_data"
    }
   ],
   "source": [
    "efficiency"
   ]
  },
  {
   "cell_type": "markdown",
   "metadata": {},
   "source": [
    "# second trial\n"
   ]
  },
  {
   "cell_type": "code",
   "execution_count": 102,
   "metadata": {},
   "outputs": [
    {
     "name": "stderr",
     "output_type": "stream",
     "text": [
      "Parsed with column specification:\n",
      "cols(\n",
      "  Sample = col_character(),\n",
      "  Dilution = col_double(),\n",
      "  Mic = col_double(),\n",
      "  Quantstudio = col_double()\n",
      ")\n"
     ]
    }
   ],
   "source": [
    "data = read_csv('/fh/fast/kublin_j/microbiome/mark/MicvsQSraw.csv')"
   ]
  },
  {
   "cell_type": "code",
   "execution_count": 101,
   "metadata": {},
   "outputs": [
    {
     "name": "stdout",
     "output_type": "stream",
     "text": [
      "Classes ‘tbl_df’, ‘tbl’ and 'data.frame':\t40 obs. of  4 variables:\n",
      " $ Sample     : chr  \"Cbut\" \"Cbut\" \"Cbut\" \"Cbut\" ...\n",
      " $ Dilution   : num  1e+00 1e-01 1e-02 1e-03 1e-04 1e+00 1e-01 1e-02 1e-03 1e-04 ...\n",
      " $ Mic        : num  11.2 14 17.2 20 22.9 ...\n",
      " $ Quantstudio: num  13.1 16.7 20.2 23.6 27.1 ...\n",
      " - attr(*, \"spec\")=List of 2\n",
      "  ..$ cols   :List of 4\n",
      "  .. ..$ Sample     : list()\n",
      "  .. .. ..- attr(*, \"class\")= chr  \"collector_character\" \"collector\"\n",
      "  .. ..$ Dilution   : list()\n",
      "  .. .. ..- attr(*, \"class\")= chr  \"collector_double\" \"collector\"\n",
      "  .. ..$ Mic        : list()\n",
      "  .. .. ..- attr(*, \"class\")= chr  \"collector_double\" \"collector\"\n",
      "  .. ..$ Quantstudio: list()\n",
      "  .. .. ..- attr(*, \"class\")= chr  \"collector_double\" \"collector\"\n",
      "  ..$ default: list()\n",
      "  .. ..- attr(*, \"class\")= chr  \"collector_guess\" \"collector\"\n",
      "  ..- attr(*, \"class\")= chr \"col_spec\"\n"
     ]
    }
   ],
   "source": [
    "str(data)"
   ]
  },
  {
   "cell_type": "code",
   "execution_count": 104,
   "metadata": {},
   "outputs": [
    {
     "data": {
      "text/html": [
       "<table>\n",
       "<thead><tr><th scope=col>Sample</th><th scope=col>Dilution</th><th scope=col>Mic</th><th scope=col>Quantstudio</th></tr></thead>\n",
       "<tbody>\n",
       "\t<tr><td>Cbut  </td><td>1e+00 </td><td>11.21 </td><td>13.058</td></tr>\n",
       "\t<tr><td>Cbut  </td><td>1e-01 </td><td>14.01 </td><td>16.705</td></tr>\n",
       "\t<tr><td>Cbut  </td><td>1e-02 </td><td>17.23 </td><td>20.249</td></tr>\n",
       "\t<tr><td>Cbut  </td><td>1e-03 </td><td>19.98 </td><td>23.642</td></tr>\n",
       "\t<tr><td>Cbut  </td><td>1e-04 </td><td>22.91 </td><td>27.124</td></tr>\n",
       "\t<tr><td>Cbut 2</td><td>1e+00 </td><td>10.28 </td><td>15.830</td></tr>\n",
       "</tbody>\n",
       "</table>\n"
      ],
      "text/latex": [
       "\\begin{tabular}{r|llll}\n",
       " Sample & Dilution & Mic & Quantstudio\\\\\n",
       "\\hline\n",
       "\t Cbut   & 1e+00  & 11.21  & 13.058\\\\\n",
       "\t Cbut   & 1e-01  & 14.01  & 16.705\\\\\n",
       "\t Cbut   & 1e-02  & 17.23  & 20.249\\\\\n",
       "\t Cbut   & 1e-03  & 19.98  & 23.642\\\\\n",
       "\t Cbut   & 1e-04  & 22.91  & 27.124\\\\\n",
       "\t Cbut 2 & 1e+00  & 10.28  & 15.830\\\\\n",
       "\\end{tabular}\n"
      ],
      "text/markdown": [
       "\n",
       "Sample | Dilution | Mic | Quantstudio | \n",
       "|---|---|---|---|---|---|\n",
       "| Cbut   | 1e+00  | 11.21  | 13.058 | \n",
       "| Cbut   | 1e-01  | 14.01  | 16.705 | \n",
       "| Cbut   | 1e-02  | 17.23  | 20.249 | \n",
       "| Cbut   | 1e-03  | 19.98  | 23.642 | \n",
       "| Cbut   | 1e-04  | 22.91  | 27.124 | \n",
       "| Cbut 2 | 1e+00  | 10.28  | 15.830 | \n",
       "\n",
       "\n"
      ],
      "text/plain": [
       "  Sample Dilution Mic   Quantstudio\n",
       "1 Cbut   1e+00    11.21 13.058     \n",
       "2 Cbut   1e-01    14.01 16.705     \n",
       "3 Cbut   1e-02    17.23 20.249     \n",
       "4 Cbut   1e-03    19.98 23.642     \n",
       "5 Cbut   1e-04    22.91 27.124     \n",
       "6 Cbut 2 1e+00    10.28 15.830     "
      ]
     },
     "metadata": {},
     "output_type": "display_data"
    }
   ],
   "source": [
    "head(data)"
   ]
  },
  {
   "cell_type": "code",
   "execution_count": 110,
   "metadata": {},
   "outputs": [
    {
     "data": {},
     "metadata": {},
     "output_type": "display_data"
    },
    {
     "data": {
      "image/png": "[encoded data removed]",
      "text/plain": [
       "plot without title"
      ]
     },
     "metadata": {},
     "output_type": "display_data",
     "source": "R display func"
    }
   ],
   "source": [
    "ggplot(data = data, aes(x = Dilution, y = Mic))+\n",
    "geom_smooth(method = lm)+\n",
    "geom_point()+\n",
    "facet_wrap(facets = 'Sample')+\n",
    "scale_x_log10()\n"
   ]
  },
  {
   "cell_type": "code",
   "execution_count": 111,
   "metadata": {},
   "outputs": [
    {
     "data": {
      "text/html": [
       "\n",
       "<table width=\"100%\" summary=\"page for gather {tidyr}\"><tr><td>gather {tidyr}</td><td style=\"text-align: right;\">R Documentation</td></tr></table>\n",
       "\n",
       "<h2>Gather columns into key-value pairs.</h2>\n",
       "\n",
       "<h3>Description</h3>\n",
       "\n",
       "<p>Gather takes multiple columns and collapses into key-value pairs,\n",
       "duplicating all other columns as needed. You use <code>gather()</code> when\n",
       "you notice that you have columns that are not variables.\n",
       "</p>\n",
       "\n",
       "\n",
       "<h3>Usage</h3>\n",
       "\n",
       "<pre>\n",
       "gather(data, key = \"key\", value = \"value\", ..., na.rm = FALSE,\n",
       "  convert = FALSE, factor_key = FALSE)\n",
       "</pre>\n",
       "\n",
       "\n",
       "<h3>Arguments</h3>\n",
       "\n",
       "<table summary=\"R argblock\">\n",
       "<tr valign=\"top\"><td><code>data</code></td>\n",
       "<td>\n",
       "<p>A data frame.</p>\n",
       "</td></tr>\n",
       "<tr valign=\"top\"><td><code>key, value</code></td>\n",
       "<td>\n",
       "<p>Names of new key and value columns, as strings or\n",
       "symbols.\n",
       "</p>\n",
       "<p>This argument is passed by expression and supports\n",
       "quasiquotation (you can unquote strings\n",
       "and symbols). The name is captured from the expression with\n",
       "<code>rlang::quo_name()</code> (note that this kind of interface where\n",
       "symbols do not represent actual objects is now discouraged in the\n",
       "tidyverse; we support it here for backward compatibility).</p>\n",
       "</td></tr>\n",
       "<tr valign=\"top\"><td><code>...</code></td>\n",
       "<td>\n",
       "<p>A selection of columns. If empty, all variables are\n",
       "selected. You can supply bare variable names, select all\n",
       "variables between x and z with <code>x:z</code>, exclude y with <code>-y</code>. For\n",
       "more options, see the <code>dplyr::select()</code> documentation. See also\n",
       "the section on selection rules below.</p>\n",
       "</td></tr>\n",
       "<tr valign=\"top\"><td><code>na.rm</code></td>\n",
       "<td>\n",
       "<p>If <code>TRUE</code>, will remove rows from output where the\n",
       "value column in <code>NA</code>.</p>\n",
       "</td></tr>\n",
       "<tr valign=\"top\"><td><code>convert</code></td>\n",
       "<td>\n",
       "<p>If <code>TRUE</code> will automatically run\n",
       "<code>type.convert()</code> on the key column. This is useful if the column\n",
       "names are actually numeric, integer, or logical.</p>\n",
       "</td></tr>\n",
       "<tr valign=\"top\"><td><code>factor_key</code></td>\n",
       "<td>\n",
       "<p>If <code>FALSE</code>, the default, the key values will be\n",
       "stored as a character vector. If <code>TRUE</code>, will be stored as a factor,\n",
       "which preserves the original ordering of the columns.</p>\n",
       "</td></tr>\n",
       "</table>\n",
       "\n",
       "\n",
       "<h3>Rules for selection</h3>\n",
       "\n",
       "<p>Arguments for selecting columns are passed to\n",
       "<code>tidyselect::vars_select()</code> and are treated specially. Unlike other\n",
       "verbs, selecting functions make a strict distinction between data\n",
       "expressions and context expressions.\n",
       "</p>\n",
       "\n",
       "<ul>\n",
       "<li><p> A data expression is either a bare name like <code>x</code> or an expression\n",
       "like <code>x:y</code> or <code>c(x, y)</code>. In a data expression, you can only refer\n",
       "to columns from the data frame.\n",
       "</p>\n",
       "</li>\n",
       "<li><p> Everything else is a context expression in which you can only\n",
       "refer to objects that you have defined with <code>&lt;-</code>.\n",
       "</p>\n",
       "</li></ul>\n",
       "\n",
       "<p>For instance, <code>col1:col3</code> is a data expression that refers to data\n",
       "columns, while <code>seq(start, end)</code> is a context expression that\n",
       "refers to objects from the contexts.\n",
       "</p>\n",
       "<p>If you really need to refer to contextual objects from a data\n",
       "expression, you can unquote them with the tidy eval operator\n",
       "<code>!!</code>. This operator evaluates its argument in the context and\n",
       "inlines the result in the surrounding function call. For instance,\n",
       "<code>c(x, !! x)</code> selects the <code>x</code> column within the data frame and the\n",
       "column referred to by the object <code>x</code> defined in the context (which\n",
       "can contain either a column name as string or a column position).\n",
       "</p>\n",
       "\n",
       "\n",
       "<h3>Examples</h3>\n",
       "\n",
       "<pre>\n",
       "library(dplyr)\n",
       "# From http://stackoverflow.com/questions/1181060\n",
       "stocks &lt;- tibble(\n",
       "  time = as.Date('2009-01-01') + 0:9,\n",
       "  X = rnorm(10, 0, 1),\n",
       "  Y = rnorm(10, 0, 2),\n",
       "  Z = rnorm(10, 0, 4)\n",
       ")\n",
       "\n",
       "gather(stocks, stock, price, -time)\n",
       "stocks %&gt;% gather(stock, price, -time)\n",
       "\n",
       "# get first observation for each Species in iris data -- base R\n",
       "mini_iris &lt;- iris[c(1, 51, 101), ]\n",
       "# gather Sepal.Length, Sepal.Width, Petal.Length, Petal.Width\n",
       "gather(mini_iris, key = flower_att, value = measurement,\n",
       "       Sepal.Length, Sepal.Width, Petal.Length, Petal.Width)\n",
       "# same result but less verbose\n",
       "gather(mini_iris, key = flower_att, value = measurement, -Species)\n",
       "\n",
       "# repeat iris example using dplyr and the pipe operator\n",
       "library(dplyr)\n",
       "mini_iris &lt;-\n",
       "  iris %&gt;%\n",
       "  group_by(Species) %&gt;%\n",
       "  slice(1)\n",
       "mini_iris %&gt;% gather(key = flower_att, value = measurement, -Species)\n",
       "</pre>\n",
       "\n",
       "<hr /><div style=\"text-align: center;\">[Package <em>tidyr</em> version 0.7.2 ]</div>"
      ],
      "text/latex": [
       "\\inputencoding{utf8}\n",
       "\\HeaderA{gather}{Gather columns into key-value pairs.}{gather}\n",
       "%\n",
       "\\begin{Description}\\relax\n",
       "Gather takes multiple columns and collapses into key-value pairs,\n",
       "duplicating all other columns as needed. You use \\code{gather()} when\n",
       "you notice that you have columns that are not variables.\n",
       "\\end{Description}\n",
       "%\n",
       "\\begin{Usage}\n",
       "\\begin{verbatim}\n",
       "gather(data, key = \"key\", value = \"value\", ..., na.rm = FALSE,\n",
       "  convert = FALSE, factor_key = FALSE)\n",
       "\\end{verbatim}\n",
       "\\end{Usage}\n",
       "%\n",
       "\\begin{Arguments}\n",
       "\\begin{ldescription}\n",
       "\\item[\\code{data}] A data frame.\n",
       "\n",
       "\\item[\\code{key, value}] Names of new key and value columns, as strings or\n",
       "symbols.\n",
       "\n",
       "This argument is passed by expression and supports\n",
       "\\LinkA{quasiquotation}{quasiquotation} (you can unquote strings\n",
       "and symbols). The name is captured from the expression with\n",
       "\\code{\\LinkA{rlang::quo\\_name()}{rlang::quo.Rul.name()}} (note that this kind of interface where\n",
       "symbols do not represent actual objects is now discouraged in the\n",
       "tidyverse; we support it here for backward compatibility).\n",
       "\n",
       "\\item[\\code{...}] A selection of columns. If empty, all variables are\n",
       "selected. You can supply bare variable names, select all\n",
       "variables between x and z with \\code{x:z}, exclude y with \\code{-y}. For\n",
       "more options, see the \\code{\\LinkA{dplyr::select()}{dplyr::select()}} documentation. See also\n",
       "the section on selection rules below.\n",
       "\n",
       "\\item[\\code{na.rm}] If \\code{TRUE}, will remove rows from output where the\n",
       "value column in \\code{NA}.\n",
       "\n",
       "\\item[\\code{convert}] If \\code{TRUE} will automatically run\n",
       "\\code{\\LinkA{type.convert()}{type.convert}} on the key column. This is useful if the column\n",
       "names are actually numeric, integer, or logical.\n",
       "\n",
       "\\item[\\code{factor\\_key}] If \\code{FALSE}, the default, the key values will be\n",
       "stored as a character vector. If \\code{TRUE}, will be stored as a factor,\n",
       "which preserves the original ordering of the columns.\n",
       "\\end{ldescription}\n",
       "\\end{Arguments}\n",
       "%\n",
       "\\begin{Section}{Rules for selection}\n",
       "\n",
       "\n",
       "Arguments for selecting columns are passed to\n",
       "\\code{\\LinkA{tidyselect::vars\\_select()}{tidyselect::vars.Rul.select()}} and are treated specially. Unlike other\n",
       "verbs, selecting functions make a strict distinction between data\n",
       "expressions and context expressions.\n",
       "\\begin{itemize}\n",
       "\n",
       "\\item A data expression is either a bare name like \\code{x} or an expression\n",
       "like \\code{x:y} or \\code{c(x, y)}. In a data expression, you can only refer\n",
       "to columns from the data frame.\n",
       "\\item Everything else is a context expression in which you can only\n",
       "refer to objects that you have defined with \\code{<-}.\n",
       "\n",
       "\\end{itemize}\n",
       "\n",
       "\n",
       "For instance, \\code{col1:col3} is a data expression that refers to data\n",
       "columns, while \\code{seq(start, end)} is a context expression that\n",
       "refers to objects from the contexts.\n",
       "\n",
       "If you really need to refer to contextual objects from a data\n",
       "expression, you can unquote them with the tidy eval operator\n",
       "\\code{!!}. This operator evaluates its argument in the context and\n",
       "inlines the result in the surrounding function call. For instance,\n",
       "\\code{c(x, !! x)} selects the \\code{x} column within the data frame and the\n",
       "column referred to by the object \\code{x} defined in the context (which\n",
       "can contain either a column name as string or a column position).\n",
       "\\end{Section}\n",
       "%\n",
       "\\begin{Examples}\n",
       "\\begin{ExampleCode}\n",
       "library(dplyr)\n",
       "# From http://stackoverflow.com/questions/1181060\n",
       "stocks <- tibble(\n",
       "  time = as.Date('2009-01-01') + 0:9,\n",
       "  X = rnorm(10, 0, 1),\n",
       "  Y = rnorm(10, 0, 2),\n",
       "  Z = rnorm(10, 0, 4)\n",
       ")\n",
       "\n",
       "gather(stocks, stock, price, -time)\n",
       "stocks %>% gather(stock, price, -time)\n",
       "\n",
       "# get first observation for each Species in iris data -- base R\n",
       "mini_iris <- iris[c(1, 51, 101), ]\n",
       "# gather Sepal.Length, Sepal.Width, Petal.Length, Petal.Width\n",
       "gather(mini_iris, key = flower_att, value = measurement,\n",
       "       Sepal.Length, Sepal.Width, Petal.Length, Petal.Width)\n",
       "# same result but less verbose\n",
       "gather(mini_iris, key = flower_att, value = measurement, -Species)\n",
       "\n",
       "# repeat iris example using dplyr and the pipe operator\n",
       "library(dplyr)\n",
       "mini_iris <-\n",
       "  iris %>%\n",
       "  group_by(Species) %>%\n",
       "  slice(1)\n",
       "mini_iris %>% gather(key = flower_att, value = measurement, -Species)\n",
       "\\end{ExampleCode}\n",
       "\\end{Examples}"
      ],
      "text/plain": [
       "gather                  package:tidyr                  R Documentation\n",
       "\n",
       "_\bG_\ba_\bt_\bh_\be_\br _\bc_\bo_\bl_\bu_\bm_\bn_\bs _\bi_\bn_\bt_\bo _\bk_\be_\by-_\bv_\ba_\bl_\bu_\be _\bp_\ba_\bi_\br_\bs.\n",
       "\n",
       "_\bD_\be_\bs_\bc_\br_\bi_\bp_\bt_\bi_\bo_\bn:\n",
       "\n",
       "     Gather takes multiple columns and collapses into key-value pairs,\n",
       "     duplicating all other columns as needed. You use ‘gather()’ when\n",
       "     you notice that you have columns that are not variables.\n",
       "\n",
       "_\bU_\bs_\ba_\bg_\be:\n",
       "\n",
       "     gather(data, key = \"key\", value = \"value\", ..., na.rm = FALSE,\n",
       "       convert = FALSE, factor_key = FALSE)\n",
       "     \n",
       "_\bA_\br_\bg_\bu_\bm_\be_\bn_\bt_\bs:\n",
       "\n",
       "    data: A data frame.\n",
       "\n",
       "key, value: Names of new key and value columns, as strings or symbols.\n",
       "\n",
       "          This argument is passed by expression and supports\n",
       "          quasiquotation (you can unquote strings and symbols). The\n",
       "          name is captured from the expression with ‘rlang::quo_name()’\n",
       "          (note that this kind of interface where symbols do not\n",
       "          represent actual objects is now discouraged in the tidyverse;\n",
       "          we support it here for backward compatibility).\n",
       "\n",
       "     ...: A selection of columns. If empty, all variables are selected.\n",
       "          You can supply bare variable names, select all variables\n",
       "          between x and z with ‘x:z’, exclude y with ‘-y’. For more\n",
       "          options, see the ‘dplyr::select()’ documentation. See also\n",
       "          the section on selection rules below.\n",
       "\n",
       "   na.rm: If ‘TRUE’, will remove rows from output where the value\n",
       "          column in ‘NA’.\n",
       "\n",
       " convert: If ‘TRUE’ will automatically run ‘type.convert()’ on the key\n",
       "          column. This is useful if the column names are actually\n",
       "          numeric, integer, or logical.\n",
       "\n",
       "factor_key: If ‘FALSE’, the default, the key values will be stored as a\n",
       "          character vector. If ‘TRUE’, will be stored as a factor,\n",
       "          which preserves the original ordering of the columns.\n",
       "\n",
       "_\bR_\bu_\bl_\be_\bs _\bf_\bo_\br _\bs_\be_\bl_\be_\bc_\bt_\bi_\bo_\bn:\n",
       "\n",
       "     Arguments for selecting columns are passed to\n",
       "     ‘tidyselect::vars_select()’ and are treated specially. Unlike\n",
       "     other verbs, selecting functions make a strict distinction between\n",
       "     data expressions and context expressions.\n",
       "\n",
       "        • A data expression is either a bare name like ‘x’ or an\n",
       "          expression like ‘x:y’ or ‘c(x, y)’. In a data expression, you\n",
       "          can only refer to columns from the data frame.\n",
       "\n",
       "        • Everything else is a context expression in which you can only\n",
       "          refer to objects that you have defined with ‘<-’.\n",
       "\n",
       "     For instance, ‘col1:col3’ is a data expression that refers to data\n",
       "     columns, while ‘seq(start, end)’ is a context expression that\n",
       "     refers to objects from the contexts.\n",
       "\n",
       "     If you really need to refer to contextual objects from a data\n",
       "     expression, you can unquote them with the tidy eval operator ‘!!’.\n",
       "     This operator evaluates its argument in the context and inlines\n",
       "     the result in the surrounding function call. For instance, ‘c(x,\n",
       "     !! x)’ selects the ‘x’ column within the data frame and the column\n",
       "     referred to by the object ‘x’ defined in the context (which can\n",
       "     contain either a column name as string or a column position).\n",
       "\n",
       "_\bE_\bx_\ba_\bm_\bp_\bl_\be_\bs:\n",
       "\n",
       "     library(dplyr)\n",
       "     # From http://stackoverflow.com/questions/1181060\n",
       "     stocks <- tibble(\n",
       "       time = as.Date('2009-01-01') + 0:9,\n",
       "       X = rnorm(10, 0, 1),\n",
       "       Y = rnorm(10, 0, 2),\n",
       "       Z = rnorm(10, 0, 4)\n",
       "     )\n",
       "     \n",
       "     gather(stocks, stock, price, -time)\n",
       "     stocks %>% gather(stock, price, -time)\n",
       "     \n",
       "     # get first observation for each Species in iris data -- base R\n",
       "     mini_iris <- iris[c(1, 51, 101), ]\n",
       "     # gather Sepal.Length, Sepal.Width, Petal.Length, Petal.Width\n",
       "     gather(mini_iris, key = flower_att, value = measurement,\n",
       "            Sepal.Length, Sepal.Width, Petal.Length, Petal.Width)\n",
       "     # same result but less verbose\n",
       "     gather(mini_iris, key = flower_att, value = measurement, -Species)\n",
       "     \n",
       "     # repeat iris example using dplyr and the pipe operator\n",
       "     library(dplyr)\n",
       "     mini_iris <-\n",
       "       iris %>%\n",
       "       group_by(Species) %>%\n",
       "       slice(1)\n",
       "     mini_iris %>% gather(key = flower_att, value = measurement, -Species)\n",
       "     "
      ]
     },
     "metadata": {},
     "output_type": "display_data"
    }
   ],
   "source": [
    "?gather"
   ]
  },
  {
   "cell_type": "code",
   "execution_count": 112,
   "metadata": {},
   "outputs": [],
   "source": [
    "library(dplyr)"
   ]
  },
  {
   "cell_type": "code",
   "execution_count": 116,
   "metadata": {},
   "outputs": [],
   "source": [
    "datalong = gather(data, key= 'Machine', value = 'Ct', Mic, Quantstudio, na.rm = FALSE, convert = FALSE, factor_key = FALSE )"
   ]
  },
  {
   "cell_type": "code",
   "execution_count": 117,
   "metadata": {},
   "outputs": [
    {
     "data": {
      "text/html": [
       "<table>\n",
       "<thead><tr><th scope=col>Sample</th><th scope=col>Dilution</th><th scope=col>Machine</th><th scope=col>Ct</th></tr></thead>\n",
       "<tbody>\n",
       "\t<tr><td>Cbut  </td><td>1e+00 </td><td>Mic   </td><td>11.21 </td></tr>\n",
       "\t<tr><td>Cbut  </td><td>1e-01 </td><td>Mic   </td><td>14.01 </td></tr>\n",
       "\t<tr><td>Cbut  </td><td>1e-02 </td><td>Mic   </td><td>17.23 </td></tr>\n",
       "\t<tr><td>Cbut  </td><td>1e-03 </td><td>Mic   </td><td>19.98 </td></tr>\n",
       "\t<tr><td>Cbut  </td><td>1e-04 </td><td>Mic   </td><td>22.91 </td></tr>\n",
       "\t<tr><td>Cbut 2</td><td>1e+00 </td><td>Mic   </td><td>10.28 </td></tr>\n",
       "</tbody>\n",
       "</table>\n"
      ],
      "text/latex": [
       "\\begin{tabular}{r|llll}\n",
       " Sample & Dilution & Machine & Ct\\\\\n",
       "\\hline\n",
       "\t Cbut   & 1e+00  & Mic    & 11.21 \\\\\n",
       "\t Cbut   & 1e-01  & Mic    & 14.01 \\\\\n",
       "\t Cbut   & 1e-02  & Mic    & 17.23 \\\\\n",
       "\t Cbut   & 1e-03  & Mic    & 19.98 \\\\\n",
       "\t Cbut   & 1e-04  & Mic    & 22.91 \\\\\n",
       "\t Cbut 2 & 1e+00  & Mic    & 10.28 \\\\\n",
       "\\end{tabular}\n"
      ],
      "text/markdown": [
       "\n",
       "Sample | Dilution | Machine | Ct | \n",
       "|---|---|---|---|---|---|\n",
       "| Cbut   | 1e+00  | Mic    | 11.21  | \n",
       "| Cbut   | 1e-01  | Mic    | 14.01  | \n",
       "| Cbut   | 1e-02  | Mic    | 17.23  | \n",
       "| Cbut   | 1e-03  | Mic    | 19.98  | \n",
       "| Cbut   | 1e-04  | Mic    | 22.91  | \n",
       "| Cbut 2 | 1e+00  | Mic    | 10.28  | \n",
       "\n",
       "\n"
      ],
      "text/plain": [
       "  Sample Dilution Machine Ct   \n",
       "1 Cbut   1e+00    Mic     11.21\n",
       "2 Cbut   1e-01    Mic     14.01\n",
       "3 Cbut   1e-02    Mic     17.23\n",
       "4 Cbut   1e-03    Mic     19.98\n",
       "5 Cbut   1e-04    Mic     22.91\n",
       "6 Cbut 2 1e+00    Mic     10.28"
      ]
     },
     "metadata": {},
     "output_type": "display_data"
    }
   ],
   "source": [
    "head(datalong)"
   ]
  },
  {
   "cell_type": "code",
   "execution_count": 118,
   "metadata": {},
   "outputs": [
    {
     "data": {},
     "metadata": {},
     "output_type": "display_data"
    },
    {
     "data": {
      "image/png": "[encoded data removed]",
      "text/plain": [
       "plot without title"
      ]
     },
     "metadata": {},
     "output_type": "display_data",
     "source": "R display func"
    }
   ],
   "source": [
    "ggplot(data = datalong, aes(x = Dilution, y = Ct, color = Machine))+\n",
    "geom_smooth(method = lm)+\n",
    "geom_point()+\n",
    "facet_wrap(facets = 'Sample')+\n",
    "scale_x_log10()\n"
   ]
  },
  {
   "cell_type": "code",
   "execution_count": null,
   "metadata": {},
   "outputs": [],
   "source": [
    "datalong"
   ]
  },
  {
   "cell_type": "code",
   "execution_count": 120,
   "metadata": {},
   "outputs": [],
   "source": [
    "datalong2 <- datalong %>% filter(Dilution <10^-1)"
   ]
  },
  {
   "cell_type": "code",
   "execution_count": 121,
   "metadata": {},
   "outputs": [
    {
     "data": {},
     "metadata": {},
     "output_type": "display_data"
    },
    {
     "data": {
      "image/png": "[encoded data removed]",
      "text/plain": [
       "plot without title"
      ]
     },
     "metadata": {},
     "output_type": "display_data",
     "source": "R display func"
    }
   ],
   "source": [
    "ggplot(data = datalong2, aes(x = Dilution, y = Ct, color = Machine))+\n",
    "geom_smooth(method = lm)+\n",
    "geom_point()+\n",
    "facet_wrap(facets = 'Sample')+\n",
    "scale_x_log10()"
   ]
  },
  {
   "cell_type": "code",
   "execution_count": 131,
   "metadata": {},
   "outputs": [
    {
     "data": {
      "text/plain": [
       "\n",
       "Call:\n",
       "lm(formula = Ct ~ log10(Dilution), data = .)\n",
       "\n",
       "Residuals:\n",
       "     1      2      3      4      5 \n",
       " 0.016 -0.121  0.162 -0.025 -0.032 \n",
       "\n",
       "Coefficients:\n",
       "                Estimate Std. Error t value Pr(>|t|)    \n",
       "(Intercept)     11.19400    0.09251  121.00 1.24e-06 ***\n",
       "log10(Dilution) -2.93700    0.03777  -77.77 4.69e-06 ***\n",
       "---\n",
       "Signif. codes:  0 ‘***’ 0.001 ‘**’ 0.01 ‘*’ 0.05 ‘.’ 0.1 ‘ ’ 1\n",
       "\n",
       "Residual standard error: 0.1194 on 3 degrees of freedom\n",
       "Multiple R-squared:  0.9995,\tAdjusted R-squared:  0.9993 \n",
       "F-statistic:  6048 on 1 and 3 DF,  p-value: 4.686e-06\n"
      ]
     },
     "metadata": {},
     "output_type": "display_data"
    }
   ],
   "source": [
    "datalong %>% filter(Sample == 'Cbut', Machine == 'Mic') %>%\n",
    "{lm(Ct ~ log10(Dilution), data = .)} -> lmTest\n",
    "lmTest %>% summary"
   ]
  },
  {
   "cell_type": "code",
   "execution_count": 133,
   "metadata": {},
   "outputs": [
    {
     "data": {
      "image/png": "[encoded data removed]",
      "text/plain": [
       "plot without title"
      ]
     },
     "metadata": {},
     "output_type": "display_data",
     "source": "R display func"
    }
   ],
   "source": [
    "lmTest %>% resid %>% plot"
   ]
  },
  {
   "cell_type": "code",
   "execution_count": 135,
   "metadata": {},
   "outputs": [],
   "source": [
    "library(broom)"
   ]
  },
  {
   "cell_type": "code",
   "execution_count": 136,
   "metadata": {},
   "outputs": [
    {
     "data": {
      "text/html": [
       "<table>\n",
       "<thead><tr><th scope=col>r.squared</th><th scope=col>adj.r.squared</th><th scope=col>sigma</th><th scope=col>statistic</th><th scope=col>p.value</th><th scope=col>df</th><th scope=col>logLik</th><th scope=col>AIC</th><th scope=col>BIC</th><th scope=col>deviance</th><th scope=col>df.residual</th></tr></thead>\n",
       "<tbody>\n",
       "\t<tr><td>0.9995042   </td><td>0.9993389   </td><td>0.1194292   </td><td>6047.653    </td><td>4.686321e-06</td><td>2           </td><td>4.807529    </td><td>-3.615058   </td><td>-4.786745   </td><td>0.04279     </td><td>3           </td></tr>\n",
       "</tbody>\n",
       "</table>\n"
      ],
      "text/latex": [
       "\\begin{tabular}{r|lllllllllll}\n",
       " r.squared & adj.r.squared & sigma & statistic & p.value & df & logLik & AIC & BIC & deviance & df.residual\\\\\n",
       "\\hline\n",
       "\t 0.9995042    & 0.9993389    & 0.1194292    & 6047.653     & 4.686321e-06 & 2            & 4.807529     & -3.615058    & -4.786745    & 0.04279      & 3           \\\\\n",
       "\\end{tabular}\n"
      ],
      "text/markdown": [
       "\n",
       "r.squared | adj.r.squared | sigma | statistic | p.value | df | logLik | AIC | BIC | deviance | df.residual | \n",
       "|---|\n",
       "| 0.9995042    | 0.9993389    | 0.1194292    | 6047.653     | 4.686321e-06 | 2            | 4.807529     | -3.615058    | -4.786745    | 0.04279      | 3            | \n",
       "\n",
       "\n"
      ],
      "text/plain": [
       "  r.squared adj.r.squared sigma     statistic p.value      df logLik  \n",
       "1 0.9995042 0.9993389     0.1194292 6047.653  4.686321e-06 2  4.807529\n",
       "  AIC       BIC       deviance df.residual\n",
       "1 -3.615058 -4.786745 0.04279  3          "
      ]
     },
     "metadata": {},
     "output_type": "display_data"
    }
   ],
   "source": [
    "lmTest %>% glance"
   ]
  },
  {
   "cell_type": "code",
   "execution_count": 137,
   "metadata": {},
   "outputs": [
    {
     "data": {
      "text/html": [
       "<table>\n",
       "<thead><tr><th scope=col>term</th><th scope=col>estimate</th><th scope=col>std.error</th><th scope=col>statistic</th><th scope=col>p.value</th></tr></thead>\n",
       "<tbody>\n",
       "\t<tr><td>(Intercept)    </td><td>11.194         </td><td>0.09250946     </td><td>121.00384      </td><td>1.244419e-06   </td></tr>\n",
       "\t<tr><td>log10(Dilution)</td><td>-2.937         </td><td>0.03776683     </td><td>-77.76666      </td><td>4.686321e-06   </td></tr>\n",
       "</tbody>\n",
       "</table>\n"
      ],
      "text/latex": [
       "\\begin{tabular}{r|lllll}\n",
       " term & estimate & std.error & statistic & p.value\\\\\n",
       "\\hline\n",
       "\t (Intercept)     & 11.194          & 0.09250946      & 121.00384       & 1.244419e-06   \\\\\n",
       "\t log10(Dilution) & -2.937          & 0.03776683      & -77.76666       & 4.686321e-06   \\\\\n",
       "\\end{tabular}\n"
      ],
      "text/markdown": [
       "\n",
       "term | estimate | std.error | statistic | p.value | \n",
       "|---|---|\n",
       "| (Intercept)     | 11.194          | 0.09250946      | 121.00384       | 1.244419e-06    | \n",
       "| log10(Dilution) | -2.937          | 0.03776683      | -77.76666       | 4.686321e-06    | \n",
       "\n",
       "\n"
      ],
      "text/plain": [
       "  term            estimate std.error  statistic p.value     \n",
       "1 (Intercept)     11.194   0.09250946 121.00384 1.244419e-06\n",
       "2 log10(Dilution) -2.937   0.03776683 -77.76666 4.686321e-06"
      ]
     },
     "metadata": {},
     "output_type": "display_data"
    }
   ],
   "source": [
    "lmTest %>% tidy"
   ]
  },
  {
   "cell_type": "code",
   "execution_count": 138,
   "metadata": {},
   "outputs": [
    {
     "data": {
      "text/html": [
       "<table>\n",
       "<thead><tr><th scope=col>Sample</th><th scope=col>Dilution</th><th scope=col>Machine</th><th scope=col>Ct</th></tr></thead>\n",
       "<tbody>\n",
       "\t<tr><td>Cbut  </td><td>1e+00 </td><td>Mic   </td><td>11.21 </td></tr>\n",
       "\t<tr><td>Cbut  </td><td>1e-01 </td><td>Mic   </td><td>14.01 </td></tr>\n",
       "\t<tr><td>Cbut  </td><td>1e-02 </td><td>Mic   </td><td>17.23 </td></tr>\n",
       "\t<tr><td>Cbut  </td><td>1e-03 </td><td>Mic   </td><td>19.98 </td></tr>\n",
       "\t<tr><td>Cbut  </td><td>1e-04 </td><td>Mic   </td><td>22.91 </td></tr>\n",
       "\t<tr><td>Cbut 2</td><td>1e+00 </td><td>Mic   </td><td>10.28 </td></tr>\n",
       "</tbody>\n",
       "</table>\n"
      ],
      "text/latex": [
       "\\begin{tabular}{r|llll}\n",
       " Sample & Dilution & Machine & Ct\\\\\n",
       "\\hline\n",
       "\t Cbut   & 1e+00  & Mic    & 11.21 \\\\\n",
       "\t Cbut   & 1e-01  & Mic    & 14.01 \\\\\n",
       "\t Cbut   & 1e-02  & Mic    & 17.23 \\\\\n",
       "\t Cbut   & 1e-03  & Mic    & 19.98 \\\\\n",
       "\t Cbut   & 1e-04  & Mic    & 22.91 \\\\\n",
       "\t Cbut 2 & 1e+00  & Mic    & 10.28 \\\\\n",
       "\\end{tabular}\n"
      ],
      "text/markdown": [
       "\n",
       "Sample | Dilution | Machine | Ct | \n",
       "|---|---|---|---|---|---|\n",
       "| Cbut   | 1e+00  | Mic    | 11.21  | \n",
       "| Cbut   | 1e-01  | Mic    | 14.01  | \n",
       "| Cbut   | 1e-02  | Mic    | 17.23  | \n",
       "| Cbut   | 1e-03  | Mic    | 19.98  | \n",
       "| Cbut   | 1e-04  | Mic    | 22.91  | \n",
       "| Cbut 2 | 1e+00  | Mic    | 10.28  | \n",
       "\n",
       "\n"
      ],
      "text/plain": [
       "  Sample Dilution Machine Ct   \n",
       "1 Cbut   1e+00    Mic     11.21\n",
       "2 Cbut   1e-01    Mic     14.01\n",
       "3 Cbut   1e-02    Mic     17.23\n",
       "4 Cbut   1e-03    Mic     19.98\n",
       "5 Cbut   1e-04    Mic     22.91\n",
       "6 Cbut 2 1e+00    Mic     10.28"
      ]
     },
     "metadata": {},
     "output_type": "display_data"
    }
   ],
   "source": [
    "datalong %>% head"
   ]
  },
  {
   "cell_type": "code",
   "execution_count": 139,
   "metadata": {},
   "outputs": [
    {
     "name": "stdout",
     "output_type": "stream",
     "text": [
      "# A tibble: 16 x 3\n",
      "   Sample    Machine     data            \n",
      "   <chr>     <chr>       <list>          \n",
      " 1 Cbut      Mic         <tibble [5 × 2]>\n",
      " 2 Cbut 2    Mic         <tibble [5 × 2]>\n",
      " 3 EcNissle  Mic         <tibble [5 × 2]>\n",
      " 4 EcNissle2 Mic         <tibble [5 × 2]>\n",
      " 5 Fvarium   Mic         <tibble [5 × 2]>\n",
      " 6 Fvarium 2 Mic         <tibble [5 × 2]>\n",
      " 7 Pcopri    Mic         <tibble [5 × 2]>\n",
      " 8 Pcopri2   Mic         <tibble [5 × 2]>\n",
      " 9 Cbut      Quantstudio <tibble [5 × 2]>\n",
      "10 Cbut 2    Quantstudio <tibble [5 × 2]>\n",
      "11 EcNissle  Quantstudio <tibble [5 × 2]>\n",
      "12 EcNissle2 Quantstudio <tibble [5 × 2]>\n",
      "13 Fvarium   Quantstudio <tibble [5 × 2]>\n",
      "14 Fvarium 2 Quantstudio <tibble [5 × 2]>\n",
      "15 Pcopri    Quantstudio <tibble [5 × 2]>\n",
      "16 Pcopri2   Quantstudio <tibble [5 × 2]>\n"
     ]
    }
   ],
   "source": [
    "datalong %>% group_by(Sample, Machine) %>% nest %>% print"
   ]
  },
  {
   "cell_type": "code",
   "execution_count": 146,
   "metadata": {},
   "outputs": [],
   "source": [
    "#datalong %>% group_by(Sample, Machine) %>% nest %>%\n",
    "#mutate(model = map(data, ~ lm(Ct ~ log10(Dilution), data = .)))"
   ]
  },
  {
   "cell_type": "code",
   "execution_count": null,
   "metadata": {},
   "outputs": [],
   "source": []
  },
  {
   "cell_type": "code",
   "execution_count": 157,
   "metadata": {},
   "outputs": [
    {
     "data": {
      "text/html": [
       "<table>\n",
       "<thead><tr><th scope=col>Sample</th><th scope=col>Machine</th><th scope=col>term</th><th scope=col>estimate</th><th scope=col>std.error</th><th scope=col>statistic</th><th scope=col>p.value</th></tr></thead>\n",
       "<tbody>\n",
       "\t<tr><td>Cbut           </td><td>Mic            </td><td>log10(Dilution)</td><td>-2.9370        </td><td>0.03776683     </td><td> -77.76666     </td><td>4.686321e-06   </td></tr>\n",
       "\t<tr><td>Cbut 2         </td><td>Mic            </td><td>log10(Dilution)</td><td>-3.0520        </td><td>0.03046309     </td><td>-100.18681     </td><td>2.192216e-06   </td></tr>\n",
       "\t<tr><td>EcNissle       </td><td>Mic            </td><td>log10(Dilution)</td><td>-2.9170        </td><td>0.02162560     </td><td>-134.88642     </td><td>8.984215e-07   </td></tr>\n",
       "\t<tr><td>EcNissle2      </td><td>Mic            </td><td>log10(Dilution)</td><td>-2.8280        </td><td>0.06106827     </td><td> -46.30883     </td><td>2.216924e-05   </td></tr>\n",
       "\t<tr><td>Fvarium        </td><td>Mic            </td><td>log10(Dilution)</td><td>-2.9830        </td><td>0.05113055     </td><td> -58.34085     </td><td>1.109413e-05   </td></tr>\n",
       "\t<tr><td>Fvarium 2      </td><td>Mic            </td><td>log10(Dilution)</td><td>-2.6660        </td><td>0.06385400     </td><td> -41.75150     </td><td>3.023838e-05   </td></tr>\n",
       "\t<tr><td>Pcopri         </td><td>Mic            </td><td>log10(Dilution)</td><td>-2.7410        </td><td>0.02470493     </td><td>-110.94954     </td><td>1.614237e-06   </td></tr>\n",
       "\t<tr><td>Pcopri2        </td><td>Mic            </td><td>log10(Dilution)</td><td>-2.6930        </td><td>0.03530345     </td><td> -76.28150     </td><td>4.965287e-06   </td></tr>\n",
       "\t<tr><td>Cbut           </td><td>Quantstudio    </td><td>log10(Dilution)</td><td>-3.5069        </td><td>0.02670649     </td><td>-131.31265     </td><td>9.737791e-07   </td></tr>\n",
       "\t<tr><td>Cbut 2         </td><td>Quantstudio    </td><td>log10(Dilution)</td><td>-4.0438        </td><td>0.05476093     </td><td> -73.84461     </td><td>5.473028e-06   </td></tr>\n",
       "\t<tr><td>EcNissle       </td><td>Quantstudio    </td><td>log10(Dilution)</td><td>-3.4843        </td><td>0.06204415     </td><td> -56.15840     </td><td>1.243744e-05   </td></tr>\n",
       "\t<tr><td>EcNissle2      </td><td>Quantstudio    </td><td>log10(Dilution)</td><td>-3.4087        </td><td>0.06077288     </td><td> -56.08916     </td><td>1.248352e-05   </td></tr>\n",
       "\t<tr><td>Fvarium        </td><td>Quantstudio    </td><td>log10(Dilution)</td><td>-3.4308        </td><td>0.01473363     </td><td>-232.85496     </td><td>1.746568e-07   </td></tr>\n",
       "\t<tr><td>Fvarium 2      </td><td>Quantstudio    </td><td>log10(Dilution)</td><td>-3.5450        </td><td>0.01353514     </td><td>-261.91086     </td><td>1.227404e-07   </td></tr>\n",
       "\t<tr><td>Pcopri         </td><td>Quantstudio    </td><td>log10(Dilution)</td><td>-3.3890        </td><td>0.02985297     </td><td>-113.52303     </td><td>1.506945e-06   </td></tr>\n",
       "\t<tr><td>Pcopri2        </td><td>Quantstudio    </td><td>log10(Dilution)</td><td>-3.3405        </td><td>0.02483190     </td><td>-134.52453     </td><td>9.056906e-07   </td></tr>\n",
       "</tbody>\n",
       "</table>\n"
      ],
      "text/latex": [
       "\\begin{tabular}{r|lllllll}\n",
       " Sample & Machine & term & estimate & std.error & statistic & p.value\\\\\n",
       "\\hline\n",
       "\t Cbut            & Mic             & log10(Dilution) & -2.9370         & 0.03776683      &  -77.76666      & 4.686321e-06   \\\\\n",
       "\t Cbut 2          & Mic             & log10(Dilution) & -3.0520         & 0.03046309      & -100.18681      & 2.192216e-06   \\\\\n",
       "\t EcNissle        & Mic             & log10(Dilution) & -2.9170         & 0.02162560      & -134.88642      & 8.984215e-07   \\\\\n",
       "\t EcNissle2       & Mic             & log10(Dilution) & -2.8280         & 0.06106827      &  -46.30883      & 2.216924e-05   \\\\\n",
       "\t Fvarium         & Mic             & log10(Dilution) & -2.9830         & 0.05113055      &  -58.34085      & 1.109413e-05   \\\\\n",
       "\t Fvarium 2       & Mic             & log10(Dilution) & -2.6660         & 0.06385400      &  -41.75150      & 3.023838e-05   \\\\\n",
       "\t Pcopri          & Mic             & log10(Dilution) & -2.7410         & 0.02470493      & -110.94954      & 1.614237e-06   \\\\\n",
       "\t Pcopri2         & Mic             & log10(Dilution) & -2.6930         & 0.03530345      &  -76.28150      & 4.965287e-06   \\\\\n",
       "\t Cbut            & Quantstudio     & log10(Dilution) & -3.5069         & 0.02670649      & -131.31265      & 9.737791e-07   \\\\\n",
       "\t Cbut 2          & Quantstudio     & log10(Dilution) & -4.0438         & 0.05476093      &  -73.84461      & 5.473028e-06   \\\\\n",
       "\t EcNissle        & Quantstudio     & log10(Dilution) & -3.4843         & 0.06204415      &  -56.15840      & 1.243744e-05   \\\\\n",
       "\t EcNissle2       & Quantstudio     & log10(Dilution) & -3.4087         & 0.06077288      &  -56.08916      & 1.248352e-05   \\\\\n",
       "\t Fvarium         & Quantstudio     & log10(Dilution) & -3.4308         & 0.01473363      & -232.85496      & 1.746568e-07   \\\\\n",
       "\t Fvarium 2       & Quantstudio     & log10(Dilution) & -3.5450         & 0.01353514      & -261.91086      & 1.227404e-07   \\\\\n",
       "\t Pcopri          & Quantstudio     & log10(Dilution) & -3.3890         & 0.02985297      & -113.52303      & 1.506945e-06   \\\\\n",
       "\t Pcopri2         & Quantstudio     & log10(Dilution) & -3.3405         & 0.02483190      & -134.52453      & 9.056906e-07   \\\\\n",
       "\\end{tabular}\n"
      ],
      "text/markdown": [
       "\n",
       "Sample | Machine | term | estimate | std.error | statistic | p.value | \n",
       "|---|---|---|---|---|---|---|---|---|---|---|---|---|---|---|---|\n",
       "| Cbut            | Mic             | log10(Dilution) | -2.9370         | 0.03776683      |  -77.76666      | 4.686321e-06    | \n",
       "| Cbut 2          | Mic             | log10(Dilution) | -3.0520         | 0.03046309      | -100.18681      | 2.192216e-06    | \n",
       "| EcNissle        | Mic             | log10(Dilution) | -2.9170         | 0.02162560      | -134.88642      | 8.984215e-07    | \n",
       "| EcNissle2       | Mic             | log10(Dilution) | -2.8280         | 0.06106827      |  -46.30883      | 2.216924e-05    | \n",
       "| Fvarium         | Mic             | log10(Dilution) | -2.9830         | 0.05113055      |  -58.34085      | 1.109413e-05    | \n",
       "| Fvarium 2       | Mic             | log10(Dilution) | -2.6660         | 0.06385400      |  -41.75150      | 3.023838e-05    | \n",
       "| Pcopri          | Mic             | log10(Dilution) | -2.7410         | 0.02470493      | -110.94954      | 1.614237e-06    | \n",
       "| Pcopri2         | Mic             | log10(Dilution) | -2.6930         | 0.03530345      |  -76.28150      | 4.965287e-06    | \n",
       "| Cbut            | Quantstudio     | log10(Dilution) | -3.5069         | 0.02670649      | -131.31265      | 9.737791e-07    | \n",
       "| Cbut 2          | Quantstudio     | log10(Dilution) | -4.0438         | 0.05476093      |  -73.84461      | 5.473028e-06    | \n",
       "| EcNissle        | Quantstudio     | log10(Dilution) | -3.4843         | 0.06204415      |  -56.15840      | 1.243744e-05    | \n",
       "| EcNissle2       | Quantstudio     | log10(Dilution) | -3.4087         | 0.06077288      |  -56.08916      | 1.248352e-05    | \n",
       "| Fvarium         | Quantstudio     | log10(Dilution) | -3.4308         | 0.01473363      | -232.85496      | 1.746568e-07    | \n",
       "| Fvarium 2       | Quantstudio     | log10(Dilution) | -3.5450         | 0.01353514      | -261.91086      | 1.227404e-07    | \n",
       "| Pcopri          | Quantstudio     | log10(Dilution) | -3.3890         | 0.02985297      | -113.52303      | 1.506945e-06    | \n",
       "| Pcopri2         | Quantstudio     | log10(Dilution) | -3.3405         | 0.02483190      | -134.52453      | 9.056906e-07    | \n",
       "\n",
       "\n"
      ],
      "text/plain": [
       "   Sample    Machine     term            estimate std.error  statistic \n",
       "1  Cbut      Mic         log10(Dilution) -2.9370  0.03776683  -77.76666\n",
       "2  Cbut 2    Mic         log10(Dilution) -3.0520  0.03046309 -100.18681\n",
       "3  EcNissle  Mic         log10(Dilution) -2.9170  0.02162560 -134.88642\n",
       "4  EcNissle2 Mic         log10(Dilution) -2.8280  0.06106827  -46.30883\n",
       "5  Fvarium   Mic         log10(Dilution) -2.9830  0.05113055  -58.34085\n",
       "6  Fvarium 2 Mic         log10(Dilution) -2.6660  0.06385400  -41.75150\n",
       "7  Pcopri    Mic         log10(Dilution) -2.7410  0.02470493 -110.94954\n",
       "8  Pcopri2   Mic         log10(Dilution) -2.6930  0.03530345  -76.28150\n",
       "9  Cbut      Quantstudio log10(Dilution) -3.5069  0.02670649 -131.31265\n",
       "10 Cbut 2    Quantstudio log10(Dilution) -4.0438  0.05476093  -73.84461\n",
       "11 EcNissle  Quantstudio log10(Dilution) -3.4843  0.06204415  -56.15840\n",
       "12 EcNissle2 Quantstudio log10(Dilution) -3.4087  0.06077288  -56.08916\n",
       "13 Fvarium   Quantstudio log10(Dilution) -3.4308  0.01473363 -232.85496\n",
       "14 Fvarium 2 Quantstudio log10(Dilution) -3.5450  0.01353514 -261.91086\n",
       "15 Pcopri    Quantstudio log10(Dilution) -3.3890  0.02985297 -113.52303\n",
       "16 Pcopri2   Quantstudio log10(Dilution) -3.3405  0.02483190 -134.52453\n",
       "   p.value     \n",
       "1  4.686321e-06\n",
       "2  2.192216e-06\n",
       "3  8.984215e-07\n",
       "4  2.216924e-05\n",
       "5  1.109413e-05\n",
       "6  3.023838e-05\n",
       "7  1.614237e-06\n",
       "8  4.965287e-06\n",
       "9  9.737791e-07\n",
       "10 5.473028e-06\n",
       "11 1.243744e-05\n",
       "12 1.248352e-05\n",
       "13 1.746568e-07\n",
       "14 1.227404e-07\n",
       "15 1.506945e-06\n",
       "16 9.056906e-07"
      ]
     },
     "metadata": {},
     "output_type": "display_data"
    }
   ],
   "source": [
    "datalong %>% group_by(Sample, Machine) %>% nest %>%\n",
    "mutate(model = map(data, function(sdf){lm(Ct ~ log10(Dilution), data = sdf)})) %>%\n",
    "mutate(gln = map(model, function(mod){tidy(mod)})) %>%\n",
    "dplyr::select(-model, -data) %>% unnest(gln) %>% filter(term == 'log10(Dilution)') -> mainEfficiency\n",
    "mainEfficiency"
   ]
  },
  {
   "cell_type": "code",
   "execution_count": 154,
   "metadata": {},
   "outputs": [
    {
     "data": {
      "text/html": [
       "<table>\n",
       "<thead><tr><th scope=col>Sample</th><th scope=col>Dilution</th><th scope=col>Machine</th><th scope=col>Ct</th></tr></thead>\n",
       "<tbody>\n",
       "\t<tr><td>Cbut  </td><td>1e+00 </td><td>Mic   </td><td>11.21 </td></tr>\n",
       "\t<tr><td>Cbut  </td><td>1e-01 </td><td>Mic   </td><td>14.01 </td></tr>\n",
       "\t<tr><td>Cbut  </td><td>1e-02 </td><td>Mic   </td><td>17.23 </td></tr>\n",
       "\t<tr><td>Cbut  </td><td>1e-03 </td><td>Mic   </td><td>19.98 </td></tr>\n",
       "\t<tr><td>Cbut  </td><td>1e-04 </td><td>Mic   </td><td>22.91 </td></tr>\n",
       "\t<tr><td>Cbut 2</td><td>1e+00 </td><td>Mic   </td><td>10.28 </td></tr>\n",
       "</tbody>\n",
       "</table>\n"
      ],
      "text/latex": [
       "\\begin{tabular}{r|llll}\n",
       " Sample & Dilution & Machine & Ct\\\\\n",
       "\\hline\n",
       "\t Cbut   & 1e+00  & Mic    & 11.21 \\\\\n",
       "\t Cbut   & 1e-01  & Mic    & 14.01 \\\\\n",
       "\t Cbut   & 1e-02  & Mic    & 17.23 \\\\\n",
       "\t Cbut   & 1e-03  & Mic    & 19.98 \\\\\n",
       "\t Cbut   & 1e-04  & Mic    & 22.91 \\\\\n",
       "\t Cbut 2 & 1e+00  & Mic    & 10.28 \\\\\n",
       "\\end{tabular}\n"
      ],
      "text/markdown": [
       "\n",
       "Sample | Dilution | Machine | Ct | \n",
       "|---|---|---|---|---|---|\n",
       "| Cbut   | 1e+00  | Mic    | 11.21  | \n",
       "| Cbut   | 1e-01  | Mic    | 14.01  | \n",
       "| Cbut   | 1e-02  | Mic    | 17.23  | \n",
       "| Cbut   | 1e-03  | Mic    | 19.98  | \n",
       "| Cbut   | 1e-04  | Mic    | 22.91  | \n",
       "| Cbut 2 | 1e+00  | Mic    | 10.28  | \n",
       "\n",
       "\n"
      ],
      "text/plain": [
       "  Sample Dilution Machine Ct   \n",
       "1 Cbut   1e+00    Mic     11.21\n",
       "2 Cbut   1e-01    Mic     14.01\n",
       "3 Cbut   1e-02    Mic     17.23\n",
       "4 Cbut   1e-03    Mic     19.98\n",
       "5 Cbut   1e-04    Mic     22.91\n",
       "6 Cbut 2 1e+00    Mic     10.28"
      ]
     },
     "metadata": {},
     "output_type": "display_data"
    }
   ],
   "source": [
    "datalong %>% head"
   ]
  },
  {
   "cell_type": "code",
   "execution_count": 158,
   "metadata": {},
   "outputs": [
    {
     "data": {
      "text/html": [
       "<table>\n",
       "<thead><tr><th scope=col>Sample</th><th scope=col>Machine</th><th scope=col>term</th><th scope=col>estimate</th><th scope=col>std.error</th><th scope=col>statistic</th><th scope=col>p.value</th></tr></thead>\n",
       "<tbody>\n",
       "\t<tr><td>Cbut           </td><td>Mic            </td><td>log10(Dilution)</td><td>-2.8400        </td><td>0.051961524    </td><td>  -54.65583    </td><td>0.0116464941   </td></tr>\n",
       "\t<tr><td>Cbut 2         </td><td>Mic            </td><td>log10(Dilution)</td><td>-2.9500        </td><td>0.005773503    </td><td> -510.95499    </td><td>0.0012459394   </td></tr>\n",
       "\t<tr><td>EcNissle       </td><td>Mic            </td><td>log10(Dilution)</td><td>-2.8450        </td><td>0.014433757    </td><td> -197.10738    </td><td>0.0032297842   </td></tr>\n",
       "\t<tr><td>EcNissle2      </td><td>Mic            </td><td>log10(Dilution)</td><td>-2.6350        </td><td>0.095262794    </td><td>  -27.66033    </td><td>0.0230056080   </td></tr>\n",
       "\t<tr><td>Fvarium        </td><td>Mic            </td><td>log10(Dilution)</td><td>-2.8250        </td><td>0.008660254    </td><td> -326.20290    </td><td>0.0019516006   </td></tr>\n",
       "\t<tr><td>Fvarium 2      </td><td>Mic            </td><td>log10(Dilution)</td><td>-2.4750        </td><td>0.025980762    </td><td>  -95.26279    </td><td>0.0066825290   </td></tr>\n",
       "\t<tr><td>Pcopri         </td><td>Mic            </td><td>log10(Dilution)</td><td>-2.7300        </td><td>0.040414519    </td><td>  -67.54998    </td><td>0.0094237372   </td></tr>\n",
       "\t<tr><td>Pcopri2        </td><td>Mic            </td><td>log10(Dilution)</td><td>-2.8050        </td><td>0.008660254    </td><td> -323.89350    </td><td>0.0019655157   </td></tr>\n",
       "\t<tr><td>Cbut           </td><td>Quantstudio    </td><td>log10(Dilution)</td><td>-3.4375        </td><td>0.025692087    </td><td> -133.79606    </td><td>0.0047580468   </td></tr>\n",
       "\t<tr><td>Cbut 2         </td><td>Quantstudio    </td><td>log10(Dilution)</td><td>-4.0865        </td><td>0.153863847    </td><td>  -26.55920    </td><td>0.0239585265   </td></tr>\n",
       "\t<tr><td>EcNissle       </td><td>Quantstudio    </td><td>log10(Dilution)</td><td>-3.5015        </td><td>0.187350162    </td><td>  -18.68960    </td><td>0.0340303282   </td></tr>\n",
       "\t<tr><td>EcNissle2      </td><td>Quantstudio    </td><td>log10(Dilution)</td><td>-3.2640        </td><td>0.093530744    </td><td>  -34.89762    </td><td>0.0182375096   </td></tr>\n",
       "\t<tr><td>Fvarium        </td><td>Quantstudio    </td><td>log10(Dilution)</td><td>-3.4650        </td><td>0.003464102    </td><td>-1000.25934    </td><td>0.0006364545   </td></tr>\n",
       "\t<tr><td>Fvarium 2      </td><td>Quantstudio    </td><td>log10(Dilution)</td><td>-3.5610        </td><td>0.004618802    </td><td> -770.97912    </td><td>0.0008257285   </td></tr>\n",
       "\t<tr><td>Pcopri         </td><td>Quantstudio    </td><td>log10(Dilution)</td><td>-3.2910        </td><td>0.021939310    </td><td> -150.00472    </td><td>0.0042439355   </td></tr>\n",
       "\t<tr><td>Pcopri2        </td><td>Quantstudio    </td><td>log10(Dilution)</td><td>-3.2590        </td><td>0.021361960    </td><td> -152.56091    </td><td>0.0041728295   </td></tr>\n",
       "</tbody>\n",
       "</table>\n"
      ],
      "text/latex": [
       "\\begin{tabular}{r|lllllll}\n",
       " Sample & Machine & term & estimate & std.error & statistic & p.value\\\\\n",
       "\\hline\n",
       "\t Cbut            & Mic             & log10(Dilution) & -2.8400         & 0.051961524     &   -54.65583     & 0.0116464941   \\\\\n",
       "\t Cbut 2          & Mic             & log10(Dilution) & -2.9500         & 0.005773503     &  -510.95499     & 0.0012459394   \\\\\n",
       "\t EcNissle        & Mic             & log10(Dilution) & -2.8450         & 0.014433757     &  -197.10738     & 0.0032297842   \\\\\n",
       "\t EcNissle2       & Mic             & log10(Dilution) & -2.6350         & 0.095262794     &   -27.66033     & 0.0230056080   \\\\\n",
       "\t Fvarium         & Mic             & log10(Dilution) & -2.8250         & 0.008660254     &  -326.20290     & 0.0019516006   \\\\\n",
       "\t Fvarium 2       & Mic             & log10(Dilution) & -2.4750         & 0.025980762     &   -95.26279     & 0.0066825290   \\\\\n",
       "\t Pcopri          & Mic             & log10(Dilution) & -2.7300         & 0.040414519     &   -67.54998     & 0.0094237372   \\\\\n",
       "\t Pcopri2         & Mic             & log10(Dilution) & -2.8050         & 0.008660254     &  -323.89350     & 0.0019655157   \\\\\n",
       "\t Cbut            & Quantstudio     & log10(Dilution) & -3.4375         & 0.025692087     &  -133.79606     & 0.0047580468   \\\\\n",
       "\t Cbut 2          & Quantstudio     & log10(Dilution) & -4.0865         & 0.153863847     &   -26.55920     & 0.0239585265   \\\\\n",
       "\t EcNissle        & Quantstudio     & log10(Dilution) & -3.5015         & 0.187350162     &   -18.68960     & 0.0340303282   \\\\\n",
       "\t EcNissle2       & Quantstudio     & log10(Dilution) & -3.2640         & 0.093530744     &   -34.89762     & 0.0182375096   \\\\\n",
       "\t Fvarium         & Quantstudio     & log10(Dilution) & -3.4650         & 0.003464102     & -1000.25934     & 0.0006364545   \\\\\n",
       "\t Fvarium 2       & Quantstudio     & log10(Dilution) & -3.5610         & 0.004618802     &  -770.97912     & 0.0008257285   \\\\\n",
       "\t Pcopri          & Quantstudio     & log10(Dilution) & -3.2910         & 0.021939310     &  -150.00472     & 0.0042439355   \\\\\n",
       "\t Pcopri2         & Quantstudio     & log10(Dilution) & -3.2590         & 0.021361960     &  -152.56091     & 0.0041728295   \\\\\n",
       "\\end{tabular}\n"
      ],
      "text/markdown": [
       "\n",
       "Sample | Machine | term | estimate | std.error | statistic | p.value | \n",
       "|---|---|---|---|---|---|---|---|---|---|---|---|---|---|---|---|\n",
       "| Cbut            | Mic             | log10(Dilution) | -2.8400         | 0.051961524     |   -54.65583     | 0.0116464941    | \n",
       "| Cbut 2          | Mic             | log10(Dilution) | -2.9500         | 0.005773503     |  -510.95499     | 0.0012459394    | \n",
       "| EcNissle        | Mic             | log10(Dilution) | -2.8450         | 0.014433757     |  -197.10738     | 0.0032297842    | \n",
       "| EcNissle2       | Mic             | log10(Dilution) | -2.6350         | 0.095262794     |   -27.66033     | 0.0230056080    | \n",
       "| Fvarium         | Mic             | log10(Dilution) | -2.8250         | 0.008660254     |  -326.20290     | 0.0019516006    | \n",
       "| Fvarium 2       | Mic             | log10(Dilution) | -2.4750         | 0.025980762     |   -95.26279     | 0.0066825290    | \n",
       "| Pcopri          | Mic             | log10(Dilution) | -2.7300         | 0.040414519     |   -67.54998     | 0.0094237372    | \n",
       "| Pcopri2         | Mic             | log10(Dilution) | -2.8050         | 0.008660254     |  -323.89350     | 0.0019655157    | \n",
       "| Cbut            | Quantstudio     | log10(Dilution) | -3.4375         | 0.025692087     |  -133.79606     | 0.0047580468    | \n",
       "| Cbut 2          | Quantstudio     | log10(Dilution) | -4.0865         | 0.153863847     |   -26.55920     | 0.0239585265    | \n",
       "| EcNissle        | Quantstudio     | log10(Dilution) | -3.5015         | 0.187350162     |   -18.68960     | 0.0340303282    | \n",
       "| EcNissle2       | Quantstudio     | log10(Dilution) | -3.2640         | 0.093530744     |   -34.89762     | 0.0182375096    | \n",
       "| Fvarium         | Quantstudio     | log10(Dilution) | -3.4650         | 0.003464102     | -1000.25934     | 0.0006364545    | \n",
       "| Fvarium 2       | Quantstudio     | log10(Dilution) | -3.5610         | 0.004618802     |  -770.97912     | 0.0008257285    | \n",
       "| Pcopri          | Quantstudio     | log10(Dilution) | -3.2910         | 0.021939310     |  -150.00472     | 0.0042439355    | \n",
       "| Pcopri2         | Quantstudio     | log10(Dilution) | -3.2590         | 0.021361960     |  -152.56091     | 0.0041728295    | \n",
       "\n",
       "\n"
      ],
      "text/plain": [
       "   Sample    Machine     term            estimate std.error   statistic  \n",
       "1  Cbut      Mic         log10(Dilution) -2.8400  0.051961524   -54.65583\n",
       "2  Cbut 2    Mic         log10(Dilution) -2.9500  0.005773503  -510.95499\n",
       "3  EcNissle  Mic         log10(Dilution) -2.8450  0.014433757  -197.10738\n",
       "4  EcNissle2 Mic         log10(Dilution) -2.6350  0.095262794   -27.66033\n",
       "5  Fvarium   Mic         log10(Dilution) -2.8250  0.008660254  -326.20290\n",
       "6  Fvarium 2 Mic         log10(Dilution) -2.4750  0.025980762   -95.26279\n",
       "7  Pcopri    Mic         log10(Dilution) -2.7300  0.040414519   -67.54998\n",
       "8  Pcopri2   Mic         log10(Dilution) -2.8050  0.008660254  -323.89350\n",
       "9  Cbut      Quantstudio log10(Dilution) -3.4375  0.025692087  -133.79606\n",
       "10 Cbut 2    Quantstudio log10(Dilution) -4.0865  0.153863847   -26.55920\n",
       "11 EcNissle  Quantstudio log10(Dilution) -3.5015  0.187350162   -18.68960\n",
       "12 EcNissle2 Quantstudio log10(Dilution) -3.2640  0.093530744   -34.89762\n",
       "13 Fvarium   Quantstudio log10(Dilution) -3.4650  0.003464102 -1000.25934\n",
       "14 Fvarium 2 Quantstudio log10(Dilution) -3.5610  0.004618802  -770.97912\n",
       "15 Pcopri    Quantstudio log10(Dilution) -3.2910  0.021939310  -150.00472\n",
       "16 Pcopri2   Quantstudio log10(Dilution) -3.2590  0.021361960  -152.56091\n",
       "   p.value     \n",
       "1  0.0116464941\n",
       "2  0.0012459394\n",
       "3  0.0032297842\n",
       "4  0.0230056080\n",
       "5  0.0019516006\n",
       "6  0.0066825290\n",
       "7  0.0094237372\n",
       "8  0.0019655157\n",
       "9  0.0047580468\n",
       "10 0.0239585265\n",
       "11 0.0340303282\n",
       "12 0.0182375096\n",
       "13 0.0006364545\n",
       "14 0.0008257285\n",
       "15 0.0042439355\n",
       "16 0.0041728295"
      ]
     },
     "metadata": {},
     "output_type": "display_data"
    }
   ],
   "source": [
    "datalong %>%\n",
    "filter(Dilution < 10^-1) %>%\n",
    "group_by(Sample, Machine) %>% nest %>%\n",
    "mutate(model = map(data, function(sdf){lm(Ct ~ log10(Dilution), data = sdf)})) %>%\n",
    "mutate(gln = map(model, function(mod){tidy(mod)})) %>%\n",
    "dplyr::select(-model, -data) %>% unnest(gln) %>% filter(term == 'log10(Dilution)') -> smallEfficiency\n",
    "smallEfficiency"
   ]
  },
  {
   "cell_type": "code",
   "execution_count": 162,
   "metadata": {},
   "outputs": [
    {
     "data": {
      "text/html": [
       "<table>\n",
       "<thead><tr><th scope=col>Sample</th><th scope=col>Machine</th><th scope=col>term</th><th scope=col>estimate</th><th scope=col>std.error</th><th scope=col>statistic</th><th scope=col>p.value</th><th scope=col>calc</th></tr></thead>\n",
       "<tbody>\n",
       "\t<tr><td>Cbut           </td><td>Mic            </td><td>log10(Dilution)</td><td>-2.9370        </td><td>0.037766828    </td><td>  -77.76666    </td><td>4.686321e-06   </td><td>main           </td></tr>\n",
       "\t<tr><td>Cbut 2         </td><td>Mic            </td><td>log10(Dilution)</td><td>-3.0520        </td><td>0.030463092    </td><td> -100.18681    </td><td>2.192216e-06   </td><td>main           </td></tr>\n",
       "\t<tr><td>EcNissle       </td><td>Mic            </td><td>log10(Dilution)</td><td>-2.9170        </td><td>0.021625602    </td><td> -134.88642    </td><td>8.984215e-07   </td><td>main           </td></tr>\n",
       "\t<tr><td>EcNissle2      </td><td>Mic            </td><td>log10(Dilution)</td><td>-2.8280        </td><td>0.061068268    </td><td>  -46.30883    </td><td>2.216924e-05   </td><td>main           </td></tr>\n",
       "\t<tr><td>Fvarium        </td><td>Mic            </td><td>log10(Dilution)</td><td>-2.9830        </td><td>0.051130552    </td><td>  -58.34085    </td><td>1.109413e-05   </td><td>main           </td></tr>\n",
       "\t<tr><td>Fvarium 2      </td><td>Mic            </td><td>log10(Dilution)</td><td>-2.6660        </td><td>0.063854000    </td><td>  -41.75150    </td><td>3.023838e-05   </td><td>main           </td></tr>\n",
       "\t<tr><td>Pcopri         </td><td>Mic            </td><td>log10(Dilution)</td><td>-2.7410        </td><td>0.024704925    </td><td> -110.94954    </td><td>1.614237e-06   </td><td>main           </td></tr>\n",
       "\t<tr><td>Pcopri2        </td><td>Mic            </td><td>log10(Dilution)</td><td>-2.6930        </td><td>0.035303446    </td><td>  -76.28150    </td><td>4.965287e-06   </td><td>main           </td></tr>\n",
       "\t<tr><td>Cbut           </td><td>Quantstudio    </td><td>log10(Dilution)</td><td>-3.5069        </td><td>0.026706491    </td><td> -131.31265    </td><td>9.737791e-07   </td><td>main           </td></tr>\n",
       "\t<tr><td>Cbut 2         </td><td>Quantstudio    </td><td>log10(Dilution)</td><td>-4.0438        </td><td>0.054760935    </td><td>  -73.84461    </td><td>5.473028e-06   </td><td>main           </td></tr>\n",
       "\t<tr><td>EcNissle       </td><td>Quantstudio    </td><td>log10(Dilution)</td><td>-3.4843        </td><td>0.062044151    </td><td>  -56.15840    </td><td>1.243744e-05   </td><td>main           </td></tr>\n",
       "\t<tr><td>EcNissle2      </td><td>Quantstudio    </td><td>log10(Dilution)</td><td>-3.4087        </td><td>0.060772883    </td><td>  -56.08916    </td><td>1.248352e-05   </td><td>main           </td></tr>\n",
       "\t<tr><td>Fvarium        </td><td>Quantstudio    </td><td>log10(Dilution)</td><td>-3.4308        </td><td>0.014733635    </td><td> -232.85496    </td><td>1.746568e-07   </td><td>main           </td></tr>\n",
       "\t<tr><td>Fvarium 2      </td><td>Quantstudio    </td><td>log10(Dilution)</td><td>-3.5450        </td><td>0.013535139    </td><td> -261.91086    </td><td>1.227404e-07   </td><td>main           </td></tr>\n",
       "\t<tr><td>Pcopri         </td><td>Quantstudio    </td><td>log10(Dilution)</td><td>-3.3890        </td><td>0.029852973    </td><td> -113.52303    </td><td>1.506945e-06   </td><td>main           </td></tr>\n",
       "\t<tr><td>Pcopri2        </td><td>Quantstudio    </td><td>log10(Dilution)</td><td>-3.3405        </td><td>0.024831902    </td><td> -134.52453    </td><td>9.056906e-07   </td><td>main           </td></tr>\n",
       "\t<tr><td>Cbut           </td><td>Mic            </td><td>log10(Dilution)</td><td>-2.8400        </td><td>0.051961524    </td><td>  -54.65583    </td><td>1.164649e-02   </td><td>small          </td></tr>\n",
       "\t<tr><td>Cbut 2         </td><td>Mic            </td><td>log10(Dilution)</td><td>-2.9500        </td><td>0.005773503    </td><td> -510.95499    </td><td>1.245939e-03   </td><td>small          </td></tr>\n",
       "\t<tr><td>EcNissle       </td><td>Mic            </td><td>log10(Dilution)</td><td>-2.8450        </td><td>0.014433757    </td><td> -197.10738    </td><td>3.229784e-03   </td><td>small          </td></tr>\n",
       "\t<tr><td>EcNissle2      </td><td>Mic            </td><td>log10(Dilution)</td><td>-2.6350        </td><td>0.095262794    </td><td>  -27.66033    </td><td>2.300561e-02   </td><td>small          </td></tr>\n",
       "\t<tr><td>Fvarium        </td><td>Mic            </td><td>log10(Dilution)</td><td>-2.8250        </td><td>0.008660254    </td><td> -326.20290    </td><td>1.951601e-03   </td><td>small          </td></tr>\n",
       "\t<tr><td>Fvarium 2      </td><td>Mic            </td><td>log10(Dilution)</td><td>-2.4750        </td><td>0.025980762    </td><td>  -95.26279    </td><td>6.682529e-03   </td><td>small          </td></tr>\n",
       "\t<tr><td>Pcopri         </td><td>Mic            </td><td>log10(Dilution)</td><td>-2.7300        </td><td>0.040414519    </td><td>  -67.54998    </td><td>9.423737e-03   </td><td>small          </td></tr>\n",
       "\t<tr><td>Pcopri2        </td><td>Mic            </td><td>log10(Dilution)</td><td>-2.8050        </td><td>0.008660254    </td><td> -323.89350    </td><td>1.965516e-03   </td><td>small          </td></tr>\n",
       "\t<tr><td>Cbut           </td><td>Quantstudio    </td><td>log10(Dilution)</td><td>-3.4375        </td><td>0.025692087    </td><td> -133.79606    </td><td>4.758047e-03   </td><td>small          </td></tr>\n",
       "\t<tr><td>Cbut 2         </td><td>Quantstudio    </td><td>log10(Dilution)</td><td>-4.0865        </td><td>0.153863847    </td><td>  -26.55920    </td><td>2.395853e-02   </td><td>small          </td></tr>\n",
       "\t<tr><td>EcNissle       </td><td>Quantstudio    </td><td>log10(Dilution)</td><td>-3.5015        </td><td>0.187350162    </td><td>  -18.68960    </td><td>3.403033e-02   </td><td>small          </td></tr>\n",
       "\t<tr><td>EcNissle2      </td><td>Quantstudio    </td><td>log10(Dilution)</td><td>-3.2640        </td><td>0.093530744    </td><td>  -34.89762    </td><td>1.823751e-02   </td><td>small          </td></tr>\n",
       "\t<tr><td>Fvarium        </td><td>Quantstudio    </td><td>log10(Dilution)</td><td>-3.4650        </td><td>0.003464102    </td><td>-1000.25934    </td><td>6.364545e-04   </td><td>small          </td></tr>\n",
       "\t<tr><td>Fvarium 2      </td><td>Quantstudio    </td><td>log10(Dilution)</td><td>-3.5610        </td><td>0.004618802    </td><td> -770.97912    </td><td>8.257285e-04   </td><td>small          </td></tr>\n",
       "\t<tr><td>Pcopri         </td><td>Quantstudio    </td><td>log10(Dilution)</td><td>-3.2910        </td><td>0.021939310    </td><td> -150.00472    </td><td>4.243936e-03   </td><td>small          </td></tr>\n",
       "\t<tr><td>Pcopri2        </td><td>Quantstudio    </td><td>log10(Dilution)</td><td>-3.2590        </td><td>0.021361960    </td><td> -152.56091    </td><td>4.172829e-03   </td><td>small          </td></tr>\n",
       "</tbody>\n",
       "</table>\n"
      ],
      "text/latex": [
       "\\begin{tabular}{r|llllllll}\n",
       " Sample & Machine & term & estimate & std.error & statistic & p.value & calc\\\\\n",
       "\\hline\n",
       "\t Cbut            & Mic             & log10(Dilution) & -2.9370         & 0.037766828     &   -77.76666     & 4.686321e-06    & main           \\\\\n",
       "\t Cbut 2          & Mic             & log10(Dilution) & -3.0520         & 0.030463092     &  -100.18681     & 2.192216e-06    & main           \\\\\n",
       "\t EcNissle        & Mic             & log10(Dilution) & -2.9170         & 0.021625602     &  -134.88642     & 8.984215e-07    & main           \\\\\n",
       "\t EcNissle2       & Mic             & log10(Dilution) & -2.8280         & 0.061068268     &   -46.30883     & 2.216924e-05    & main           \\\\\n",
       "\t Fvarium         & Mic             & log10(Dilution) & -2.9830         & 0.051130552     &   -58.34085     & 1.109413e-05    & main           \\\\\n",
       "\t Fvarium 2       & Mic             & log10(Dilution) & -2.6660         & 0.063854000     &   -41.75150     & 3.023838e-05    & main           \\\\\n",
       "\t Pcopri          & Mic             & log10(Dilution) & -2.7410         & 0.024704925     &  -110.94954     & 1.614237e-06    & main           \\\\\n",
       "\t Pcopri2         & Mic             & log10(Dilution) & -2.6930         & 0.035303446     &   -76.28150     & 4.965287e-06    & main           \\\\\n",
       "\t Cbut            & Quantstudio     & log10(Dilution) & -3.5069         & 0.026706491     &  -131.31265     & 9.737791e-07    & main           \\\\\n",
       "\t Cbut 2          & Quantstudio     & log10(Dilution) & -4.0438         & 0.054760935     &   -73.84461     & 5.473028e-06    & main           \\\\\n",
       "\t EcNissle        & Quantstudio     & log10(Dilution) & -3.4843         & 0.062044151     &   -56.15840     & 1.243744e-05    & main           \\\\\n",
       "\t EcNissle2       & Quantstudio     & log10(Dilution) & -3.4087         & 0.060772883     &   -56.08916     & 1.248352e-05    & main           \\\\\n",
       "\t Fvarium         & Quantstudio     & log10(Dilution) & -3.4308         & 0.014733635     &  -232.85496     & 1.746568e-07    & main           \\\\\n",
       "\t Fvarium 2       & Quantstudio     & log10(Dilution) & -3.5450         & 0.013535139     &  -261.91086     & 1.227404e-07    & main           \\\\\n",
       "\t Pcopri          & Quantstudio     & log10(Dilution) & -3.3890         & 0.029852973     &  -113.52303     & 1.506945e-06    & main           \\\\\n",
       "\t Pcopri2         & Quantstudio     & log10(Dilution) & -3.3405         & 0.024831902     &  -134.52453     & 9.056906e-07    & main           \\\\\n",
       "\t Cbut            & Mic             & log10(Dilution) & -2.8400         & 0.051961524     &   -54.65583     & 1.164649e-02    & small          \\\\\n",
       "\t Cbut 2          & Mic             & log10(Dilution) & -2.9500         & 0.005773503     &  -510.95499     & 1.245939e-03    & small          \\\\\n",
       "\t EcNissle        & Mic             & log10(Dilution) & -2.8450         & 0.014433757     &  -197.10738     & 3.229784e-03    & small          \\\\\n",
       "\t EcNissle2       & Mic             & log10(Dilution) & -2.6350         & 0.095262794     &   -27.66033     & 2.300561e-02    & small          \\\\\n",
       "\t Fvarium         & Mic             & log10(Dilution) & -2.8250         & 0.008660254     &  -326.20290     & 1.951601e-03    & small          \\\\\n",
       "\t Fvarium 2       & Mic             & log10(Dilution) & -2.4750         & 0.025980762     &   -95.26279     & 6.682529e-03    & small          \\\\\n",
       "\t Pcopri          & Mic             & log10(Dilution) & -2.7300         & 0.040414519     &   -67.54998     & 9.423737e-03    & small          \\\\\n",
       "\t Pcopri2         & Mic             & log10(Dilution) & -2.8050         & 0.008660254     &  -323.89350     & 1.965516e-03    & small          \\\\\n",
       "\t Cbut            & Quantstudio     & log10(Dilution) & -3.4375         & 0.025692087     &  -133.79606     & 4.758047e-03    & small          \\\\\n",
       "\t Cbut 2          & Quantstudio     & log10(Dilution) & -4.0865         & 0.153863847     &   -26.55920     & 2.395853e-02    & small          \\\\\n",
       "\t EcNissle        & Quantstudio     & log10(Dilution) & -3.5015         & 0.187350162     &   -18.68960     & 3.403033e-02    & small          \\\\\n",
       "\t EcNissle2       & Quantstudio     & log10(Dilution) & -3.2640         & 0.093530744     &   -34.89762     & 1.823751e-02    & small          \\\\\n",
       "\t Fvarium         & Quantstudio     & log10(Dilution) & -3.4650         & 0.003464102     & -1000.25934     & 6.364545e-04    & small          \\\\\n",
       "\t Fvarium 2       & Quantstudio     & log10(Dilution) & -3.5610         & 0.004618802     &  -770.97912     & 8.257285e-04    & small          \\\\\n",
       "\t Pcopri          & Quantstudio     & log10(Dilution) & -3.2910         & 0.021939310     &  -150.00472     & 4.243936e-03    & small          \\\\\n",
       "\t Pcopri2         & Quantstudio     & log10(Dilution) & -3.2590         & 0.021361960     &  -152.56091     & 4.172829e-03    & small          \\\\\n",
       "\\end{tabular}\n"
      ],
      "text/markdown": [
       "\n",
       "Sample | Machine | term | estimate | std.error | statistic | p.value | calc | \n",
       "|---|---|---|---|---|---|---|---|---|---|---|---|---|---|---|---|---|---|---|---|---|---|---|---|---|---|---|---|---|---|---|---|\n",
       "| Cbut            | Mic             | log10(Dilution) | -2.9370         | 0.037766828     |   -77.76666     | 4.686321e-06    | main            | \n",
       "| Cbut 2          | Mic             | log10(Dilution) | -3.0520         | 0.030463092     |  -100.18681     | 2.192216e-06    | main            | \n",
       "| EcNissle        | Mic             | log10(Dilution) | -2.9170         | 0.021625602     |  -134.88642     | 8.984215e-07    | main            | \n",
       "| EcNissle2       | Mic             | log10(Dilution) | -2.8280         | 0.061068268     |   -46.30883     | 2.216924e-05    | main            | \n",
       "| Fvarium         | Mic             | log10(Dilution) | -2.9830         | 0.051130552     |   -58.34085     | 1.109413e-05    | main            | \n",
       "| Fvarium 2       | Mic             | log10(Dilution) | -2.6660         | 0.063854000     |   -41.75150     | 3.023838e-05    | main            | \n",
       "| Pcopri          | Mic             | log10(Dilution) | -2.7410         | 0.024704925     |  -110.94954     | 1.614237e-06    | main            | \n",
       "| Pcopri2         | Mic             | log10(Dilution) | -2.6930         | 0.035303446     |   -76.28150     | 4.965287e-06    | main            | \n",
       "| Cbut            | Quantstudio     | log10(Dilution) | -3.5069         | 0.026706491     |  -131.31265     | 9.737791e-07    | main            | \n",
       "| Cbut 2          | Quantstudio     | log10(Dilution) | -4.0438         | 0.054760935     |   -73.84461     | 5.473028e-06    | main            | \n",
       "| EcNissle        | Quantstudio     | log10(Dilution) | -3.4843         | 0.062044151     |   -56.15840     | 1.243744e-05    | main            | \n",
       "| EcNissle2       | Quantstudio     | log10(Dilution) | -3.4087         | 0.060772883     |   -56.08916     | 1.248352e-05    | main            | \n",
       "| Fvarium         | Quantstudio     | log10(Dilution) | -3.4308         | 0.014733635     |  -232.85496     | 1.746568e-07    | main            | \n",
       "| Fvarium 2       | Quantstudio     | log10(Dilution) | -3.5450         | 0.013535139     |  -261.91086     | 1.227404e-07    | main            | \n",
       "| Pcopri          | Quantstudio     | log10(Dilution) | -3.3890         | 0.029852973     |  -113.52303     | 1.506945e-06    | main            | \n",
       "| Pcopri2         | Quantstudio     | log10(Dilution) | -3.3405         | 0.024831902     |  -134.52453     | 9.056906e-07    | main            | \n",
       "| Cbut            | Mic             | log10(Dilution) | -2.8400         | 0.051961524     |   -54.65583     | 1.164649e-02    | small           | \n",
       "| Cbut 2          | Mic             | log10(Dilution) | -2.9500         | 0.005773503     |  -510.95499     | 1.245939e-03    | small           | \n",
       "| EcNissle        | Mic             | log10(Dilution) | -2.8450         | 0.014433757     |  -197.10738     | 3.229784e-03    | small           | \n",
       "| EcNissle2       | Mic             | log10(Dilution) | -2.6350         | 0.095262794     |   -27.66033     | 2.300561e-02    | small           | \n",
       "| Fvarium         | Mic             | log10(Dilution) | -2.8250         | 0.008660254     |  -326.20290     | 1.951601e-03    | small           | \n",
       "| Fvarium 2       | Mic             | log10(Dilution) | -2.4750         | 0.025980762     |   -95.26279     | 6.682529e-03    | small           | \n",
       "| Pcopri          | Mic             | log10(Dilution) | -2.7300         | 0.040414519     |   -67.54998     | 9.423737e-03    | small           | \n",
       "| Pcopri2         | Mic             | log10(Dilution) | -2.8050         | 0.008660254     |  -323.89350     | 1.965516e-03    | small           | \n",
       "| Cbut            | Quantstudio     | log10(Dilution) | -3.4375         | 0.025692087     |  -133.79606     | 4.758047e-03    | small           | \n",
       "| Cbut 2          | Quantstudio     | log10(Dilution) | -4.0865         | 0.153863847     |   -26.55920     | 2.395853e-02    | small           | \n",
       "| EcNissle        | Quantstudio     | log10(Dilution) | -3.5015         | 0.187350162     |   -18.68960     | 3.403033e-02    | small           | \n",
       "| EcNissle2       | Quantstudio     | log10(Dilution) | -3.2640         | 0.093530744     |   -34.89762     | 1.823751e-02    | small           | \n",
       "| Fvarium         | Quantstudio     | log10(Dilution) | -3.4650         | 0.003464102     | -1000.25934     | 6.364545e-04    | small           | \n",
       "| Fvarium 2       | Quantstudio     | log10(Dilution) | -3.5610         | 0.004618802     |  -770.97912     | 8.257285e-04    | small           | \n",
       "| Pcopri          | Quantstudio     | log10(Dilution) | -3.2910         | 0.021939310     |  -150.00472     | 4.243936e-03    | small           | \n",
       "| Pcopri2         | Quantstudio     | log10(Dilution) | -3.2590         | 0.021361960     |  -152.56091     | 4.172829e-03    | small           | \n",
       "\n",
       "\n"
      ],
      "text/plain": [
       "   Sample    Machine     term            estimate std.error   statistic  \n",
       "1  Cbut      Mic         log10(Dilution) -2.9370  0.037766828   -77.76666\n",
       "2  Cbut 2    Mic         log10(Dilution) -3.0520  0.030463092  -100.18681\n",
       "3  EcNissle  Mic         log10(Dilution) -2.9170  0.021625602  -134.88642\n",
       "4  EcNissle2 Mic         log10(Dilution) -2.8280  0.061068268   -46.30883\n",
       "5  Fvarium   Mic         log10(Dilution) -2.9830  0.051130552   -58.34085\n",
       "6  Fvarium 2 Mic         log10(Dilution) -2.6660  0.063854000   -41.75150\n",
       "7  Pcopri    Mic         log10(Dilution) -2.7410  0.024704925  -110.94954\n",
       "8  Pcopri2   Mic         log10(Dilution) -2.6930  0.035303446   -76.28150\n",
       "9  Cbut      Quantstudio log10(Dilution) -3.5069  0.026706491  -131.31265\n",
       "10 Cbut 2    Quantstudio log10(Dilution) -4.0438  0.054760935   -73.84461\n",
       "11 EcNissle  Quantstudio log10(Dilution) -3.4843  0.062044151   -56.15840\n",
       "12 EcNissle2 Quantstudio log10(Dilution) -3.4087  0.060772883   -56.08916\n",
       "13 Fvarium   Quantstudio log10(Dilution) -3.4308  0.014733635  -232.85496\n",
       "14 Fvarium 2 Quantstudio log10(Dilution) -3.5450  0.013535139  -261.91086\n",
       "15 Pcopri    Quantstudio log10(Dilution) -3.3890  0.029852973  -113.52303\n",
       "16 Pcopri2   Quantstudio log10(Dilution) -3.3405  0.024831902  -134.52453\n",
       "17 Cbut      Mic         log10(Dilution) -2.8400  0.051961524   -54.65583\n",
       "18 Cbut 2    Mic         log10(Dilution) -2.9500  0.005773503  -510.95499\n",
       "19 EcNissle  Mic         log10(Dilution) -2.8450  0.014433757  -197.10738\n",
       "20 EcNissle2 Mic         log10(Dilution) -2.6350  0.095262794   -27.66033\n",
       "21 Fvarium   Mic         log10(Dilution) -2.8250  0.008660254  -326.20290\n",
       "22 Fvarium 2 Mic         log10(Dilution) -2.4750  0.025980762   -95.26279\n",
       "23 Pcopri    Mic         log10(Dilution) -2.7300  0.040414519   -67.54998\n",
       "24 Pcopri2   Mic         log10(Dilution) -2.8050  0.008660254  -323.89350\n",
       "25 Cbut      Quantstudio log10(Dilution) -3.4375  0.025692087  -133.79606\n",
       "26 Cbut 2    Quantstudio log10(Dilution) -4.0865  0.153863847   -26.55920\n",
       "27 EcNissle  Quantstudio log10(Dilution) -3.5015  0.187350162   -18.68960\n",
       "28 EcNissle2 Quantstudio log10(Dilution) -3.2640  0.093530744   -34.89762\n",
       "29 Fvarium   Quantstudio log10(Dilution) -3.4650  0.003464102 -1000.25934\n",
       "30 Fvarium 2 Quantstudio log10(Dilution) -3.5610  0.004618802  -770.97912\n",
       "31 Pcopri    Quantstudio log10(Dilution) -3.2910  0.021939310  -150.00472\n",
       "32 Pcopri2   Quantstudio log10(Dilution) -3.2590  0.021361960  -152.56091\n",
       "   p.value      calc \n",
       "1  4.686321e-06 main \n",
       "2  2.192216e-06 main \n",
       "3  8.984215e-07 main \n",
       "4  2.216924e-05 main \n",
       "5  1.109413e-05 main \n",
       "6  3.023838e-05 main \n",
       "7  1.614237e-06 main \n",
       "8  4.965287e-06 main \n",
       "9  9.737791e-07 main \n",
       "10 5.473028e-06 main \n",
       "11 1.243744e-05 main \n",
       "12 1.248352e-05 main \n",
       "13 1.746568e-07 main \n",
       "14 1.227404e-07 main \n",
       "15 1.506945e-06 main \n",
       "16 9.056906e-07 main \n",
       "17 1.164649e-02 small\n",
       "18 1.245939e-03 small\n",
       "19 3.229784e-03 small\n",
       "20 2.300561e-02 small\n",
       "21 1.951601e-03 small\n",
       "22 6.682529e-03 small\n",
       "23 9.423737e-03 small\n",
       "24 1.965516e-03 small\n",
       "25 4.758047e-03 small\n",
       "26 2.395853e-02 small\n",
       "27 3.403033e-02 small\n",
       "28 1.823751e-02 small\n",
       "29 6.364545e-04 small\n",
       "30 8.257285e-04 small\n",
       "31 4.243936e-03 small\n",
       "32 4.172829e-03 small"
      ]
     },
     "metadata": {},
     "output_type": "display_data"
    }
   ],
   "source": [
    "mastersheet = bind_rows(\n",
    "    mainEfficiency %>% mutate(calc = 'main'),\n",
    "    smallEfficiency %>% mutate(calc = 'small'))\n",
    "mastersheet"
   ]
  },
  {
   "cell_type": "code",
   "execution_count": 167,
   "metadata": {},
   "outputs": [
    {
     "data": {
      "text/plain": [
       "\n",
       "Call:\n",
       "lm(formula = Ct ~ log10(Dilution), data = .)\n",
       "\n",
       "Residuals:\n",
       "    Min      1Q  Median      3Q     Max \n",
       "-6.2498 -2.2100  0.1722  2.0481  7.6782 \n",
       "\n",
       "Coefficients:\n",
       "                Estimate Std. Error t value Pr(>|t|)    \n",
       "(Intercept)      11.4183     0.5586   20.44   <2e-16 ***\n",
       "log10(Dilution)  -3.1854     0.2280  -13.97   <2e-16 ***\n",
       "---\n",
       "Signif. codes:  0 ‘***’ 0.001 ‘**’ 0.01 ‘*’ 0.05 ‘.’ 0.1 ‘ ’ 1\n",
       "\n",
       "Residual standard error: 2.884 on 78 degrees of freedom\n",
       "Multiple R-squared:  0.7144,\tAdjusted R-squared:  0.7108 \n",
       "F-statistic: 195.1 on 1 and 78 DF,  p-value: < 2.2e-16\n"
      ]
     },
     "metadata": {},
     "output_type": "display_data"
    }
   ],
   "source": [
    "datalong %>% \n",
    "{lm(Ct ~ log10(Dilution), data = .)} -> lmTest\n",
    "lmTest %>% summary"
   ]
  },
  {
   "cell_type": "code",
   "execution_count": 175,
   "metadata": {},
   "outputs": [
    {
     "data": {
      "text/plain": [
       "\n",
       "Call:\n",
       "lm(formula = Ct ~ log10(Dilution), data = .)\n",
       "\n",
       "Residuals:\n",
       "    Min      1Q  Median      3Q     Max \n",
       "-3.1338 -0.4152  0.1805  0.6867  1.8905 \n",
       "\n",
       "Coefficients:\n",
       "                Estimate Std. Error t value Pr(>|t|)    \n",
       "(Intercept)       9.6353     0.3561   27.06   <2e-16 ***\n",
       "log10(Dilution)  -2.8521     0.1454  -19.62   <2e-16 ***\n",
       "---\n",
       "Signif. codes:  0 ‘***’ 0.001 ‘**’ 0.01 ‘*’ 0.05 ‘.’ 0.1 ‘ ’ 1\n",
       "\n",
       "Residual standard error: 1.3 on 38 degrees of freedom\n",
       "Multiple R-squared:  0.9102,\tAdjusted R-squared:  0.9078 \n",
       "F-statistic:   385 on 1 and 38 DF,  p-value: < 2.2e-16\n"
      ]
     },
     "metadata": {},
     "output_type": "display_data"
    }
   ],
   "source": [
    "datalong %>% filter(Machine == 'Mic') %>%\n",
    "{lm(Ct ~ log10(Dilution), data = .)} -> lmTest\n",
    "lmTest %>% summary"
   ]
  },
  {
   "cell_type": "code",
   "execution_count": 176,
   "metadata": {},
   "outputs": [
    {
     "data": {
      "image/png": "[encoded data removed]",
      "text/plain": [
       "plot without title"
      ]
     },
     "metadata": {},
     "output_type": "display_data",
     "source": "R display func"
    }
   ],
   "source": [
    "lmTest %>% resid %>% plot"
   ]
  },
  {
   "cell_type": "code",
   "execution_count": 177,
   "metadata": {},
   "outputs": [
    {
     "data": {
      "text/plain": [
       "\n",
       "Call:\n",
       "lm(formula = Ct ~ log10(Dilution), data = .)\n",
       "\n",
       "Residuals:\n",
       "    Min      1Q  Median      3Q     Max \n",
       "-1.5439 -0.8472 -0.3643  0.1168  4.5622 \n",
       "\n",
       "Coefficients:\n",
       "                Estimate Std. Error t value Pr(>|t|)    \n",
       "(Intercept)      13.2013     0.4142   31.87   <2e-16 ***\n",
       "log10(Dilution)  -3.5186     0.1691  -20.81   <2e-16 ***\n",
       "---\n",
       "Signif. codes:  0 ‘***’ 0.001 ‘**’ 0.01 ‘*’ 0.05 ‘.’ 0.1 ‘ ’ 1\n",
       "\n",
       "Residual standard error: 1.512 on 38 degrees of freedom\n",
       "Multiple R-squared:  0.9193,\tAdjusted R-squared:  0.9172 \n",
       "F-statistic:   433 on 1 and 38 DF,  p-value: < 2.2e-16\n"
      ]
     },
     "metadata": {},
     "output_type": "display_data"
    }
   ],
   "source": [
    "datalong %>% filter(Machine == 'Quantstudio') %>%\n",
    "{lm(Ct ~ log10(Dilution), data = .)} -> lmTestQ\n",
    "lmTestQ %>% summary"
   ]
  },
  {
   "cell_type": "code",
   "execution_count": 178,
   "metadata": {},
   "outputs": [
    {
     "data": {
      "image/png": "[encoded data removed]",
      "text/plain": [
       "plot without title"
      ]
     },
     "metadata": {},
     "output_type": "display_data",
     "source": "R display func"
    }
   ],
   "source": [
    "lmTestQ %>% resid %>% plot"
   ]
  },
  {
   "cell_type": "code",
   "execution_count": 183,
   "metadata": {},
   "outputs": [
    {
     "data": {
      "text/plain": [
       "\n",
       "Call:\n",
       "lm(formula = Ct ~ log10(Dilution), data = .)\n",
       "\n",
       "Coefficients:\n",
       "    (Intercept)  log10(Dilution)  \n",
       "          9.635           -2.852  \n"
      ]
     },
     "metadata": {},
     "output_type": "display_data"
    }
   ],
   "source": [
    "lmTest"
   ]
  },
  {
   "cell_type": "code",
   "execution_count": 186,
   "metadata": {},
   "outputs": [
    {
     "name": "stdout",
     "output_type": "stream",
     "text": [
      "List of 12\n",
      " $ coefficients : Named num [1:2] 9.64 -2.85\n",
      "  ..- attr(*, \"names\")= chr [1:2] \"(Intercept)\" \"log10(Dilution)\"\n",
      " $ residuals    : Named num [1:40] 1.57 1.52 1.89 1.79 1.87 ...\n",
      "  ..- attr(*, \"names\")= chr [1:40] \"1\" \"2\" \"3\" \"4\" ...\n",
      " $ effects      : Named num [1:40] -97.02 25.51 1.71 1.75 1.96 ...\n",
      "  ..- attr(*, \"names\")= chr [1:40] \"(Intercept)\" \"log10(Dilution)\" \"\" \"\" ...\n",
      " $ rank         : int 2\n",
      " $ fitted.values: Named num [1:40] 9.64 12.49 15.34 18.19 21.04 ...\n",
      "  ..- attr(*, \"names\")= chr [1:40] \"1\" \"2\" \"3\" \"4\" ...\n",
      " $ assign       : int [1:2] 0 1\n",
      " $ qr           :List of 5\n",
      "  ..$ qr   : num [1:40, 1:2] -6.325 0.158 0.158 0.158 0.158 ...\n",
      "  .. ..- attr(*, \"dimnames\")=List of 2\n",
      "  .. .. ..$ : chr [1:40] \"1\" \"2\" \"3\" \"4\" ...\n",
      "  .. .. ..$ : chr [1:2] \"(Intercept)\" \"log10(Dilution)\"\n",
      "  .. ..- attr(*, \"assign\")= int [1:2] 0 1\n",
      "  ..$ qraux: num [1:2] 1.16 1.08\n",
      "  ..$ pivot: int [1:2] 1 2\n",
      "  ..$ tol  : num 1e-07\n",
      "  ..$ rank : int 2\n",
      "  ..- attr(*, \"class\")= chr \"qr\"\n",
      " $ df.residual  : int 38\n",
      " $ xlevels      : Named list()\n",
      " $ call         : language lm(formula = Ct ~ log10(Dilution), data = .)\n",
      " $ terms        :Classes 'terms', 'formula'  language Ct ~ log10(Dilution)\n",
      "  .. ..- attr(*, \"variables\")= language list(Ct, log10(Dilution))\n",
      "  .. ..- attr(*, \"factors\")= int [1:2, 1] 0 1\n",
      "  .. .. ..- attr(*, \"dimnames\")=List of 2\n",
      "  .. .. .. ..$ : chr [1:2] \"Ct\" \"log10(Dilution)\"\n",
      "  .. .. .. ..$ : chr \"log10(Dilution)\"\n",
      "  .. ..- attr(*, \"term.labels\")= chr \"log10(Dilution)\"\n",
      "  .. ..- attr(*, \"order\")= int 1\n",
      "  .. ..- attr(*, \"intercept\")= int 1\n",
      "  .. ..- attr(*, \"response\")= int 1\n",
      "  .. ..- attr(*, \".Environment\")=<environment: 0x5ace438> \n",
      "  .. ..- attr(*, \"predvars\")= language list(Ct, log10(Dilution))\n",
      "  .. ..- attr(*, \"dataClasses\")= Named chr [1:2] \"numeric\" \"numeric\"\n",
      "  .. .. ..- attr(*, \"names\")= chr [1:2] \"Ct\" \"log10(Dilution)\"\n",
      " $ model        :'data.frame':\t40 obs. of  2 variables:\n",
      "  ..$ Ct             : num [1:40] 11.2 14 17.2 20 22.9 ...\n",
      "  ..$ log10(Dilution): num [1:40] 0 -1 -2 -3 -4 0 -1 -2 -3 -4 ...\n",
      "  ..- attr(*, \"terms\")=Classes 'terms', 'formula'  language Ct ~ log10(Dilution)\n",
      "  .. .. ..- attr(*, \"variables\")= language list(Ct, log10(Dilution))\n",
      "  .. .. ..- attr(*, \"factors\")= int [1:2, 1] 0 1\n",
      "  .. .. .. ..- attr(*, \"dimnames\")=List of 2\n",
      "  .. .. .. .. ..$ : chr [1:2] \"Ct\" \"log10(Dilution)\"\n",
      "  .. .. .. .. ..$ : chr \"log10(Dilution)\"\n",
      "  .. .. ..- attr(*, \"term.labels\")= chr \"log10(Dilution)\"\n",
      "  .. .. ..- attr(*, \"order\")= int 1\n",
      "  .. .. ..- attr(*, \"intercept\")= int 1\n",
      "  .. .. ..- attr(*, \"response\")= int 1\n",
      "  .. .. ..- attr(*, \".Environment\")=<environment: 0x5ace438> \n",
      "  .. .. ..- attr(*, \"predvars\")= language list(Ct, log10(Dilution))\n",
      "  .. .. ..- attr(*, \"dataClasses\")= Named chr [1:2] \"numeric\" \"numeric\"\n",
      "  .. .. .. ..- attr(*, \"names\")= chr [1:2] \"Ct\" \"log10(Dilution)\"\n",
      " - attr(*, \"class\")= chr \"lm\"\n"
     ]
    }
   ],
   "source": [
    "str(lmTest)"
   ]
  },
  {
   "cell_type": "code",
   "execution_count": 187,
   "metadata": {},
   "outputs": [
    {
     "data": {
      "text/html": [
       "\n",
       "<table width=\"100%\" summary=\"page for residuals {stats}\"><tr><td>residuals {stats}</td><td style=\"text-align: right;\">R Documentation</td></tr></table>\n",
       "\n",
       "<h2>Extract Model Residuals</h2>\n",
       "\n",
       "<h3>Description</h3>\n",
       "\n",
       "<p><code>residuals</code> is a generic function which extracts model residuals\n",
       "from objects returned by modeling functions.\n",
       "</p>\n",
       "<p>The abbreviated form <code>resid</code> is an alias for <code>residuals</code>.\n",
       "It is intended to encourage users to access object components through\n",
       "an accessor function rather than by directly referencing an object\n",
       "slot.\n",
       "</p>\n",
       "<p>All object classes which are returned by model fitting functions\n",
       "should provide a <code>residuals</code> method.  (Note that the method is\n",
       "for <span class=\"samp\">residuals</span> and not <span class=\"samp\">resid</span>.)\n",
       "</p>\n",
       "<p>Methods can make use of <code>naresid</code> methods to compensate\n",
       "for the omission of missing values.  The default, <code>nls</code> and\n",
       "<code>smooth.spline</code> methods do.\n",
       "</p>\n",
       "\n",
       "\n",
       "<h3>Usage</h3>\n",
       "\n",
       "<pre>\n",
       "residuals(object, ...)\n",
       "resid(object, ...)\n",
       "</pre>\n",
       "\n",
       "\n",
       "<h3>Arguments</h3>\n",
       "\n",
       "<table summary=\"R argblock\">\n",
       "<tr valign=\"top\"><td><code>object</code></td>\n",
       "<td>\n",
       "<p>an object for which the extraction of model residuals is\n",
       "meaningful.</p>\n",
       "</td></tr>\n",
       "<tr valign=\"top\"><td><code>...</code></td>\n",
       "<td>\n",
       "<p>other arguments.</p>\n",
       "</td></tr>\n",
       "</table>\n",
       "\n",
       "\n",
       "<h3>Value</h3>\n",
       "\n",
       "<p>Residuals extracted from the object <code>object</code>.\n",
       "</p>\n",
       "\n",
       "\n",
       "<h3>References</h3>\n",
       "\n",
       "<p>Chambers, J. M. and Hastie, T. J. (1992)\n",
       "<em>Statistical Models in S</em>.\n",
       "Wadsworth &amp; Brooks/Cole.\n",
       "</p>\n",
       "\n",
       "\n",
       "<h3>See Also</h3>\n",
       "\n",
       "<p><code>coefficients</code>, <code>fitted.values</code>,\n",
       "<code>glm</code>, <code>lm</code>.\n",
       "</p>\n",
       "<p>influence.measures for standardized (<code>rstandard</code>)\n",
       "and studentized (<code>rstudent</code>) residuals.\n",
       "</p>\n",
       "\n",
       "<hr /><div style=\"text-align: center;\">[Package <em>stats</em> version 3.4.3 ]</div>"
      ],
      "text/latex": [
       "\\inputencoding{utf8}\n",
       "\\HeaderA{residuals}{Extract Model Residuals}{residuals}\n",
       "\\aliasA{resid}{residuals}{resid}\n",
       "\\keyword{models}{residuals}\n",
       "\\keyword{regression}{residuals}\n",
       "%\n",
       "\\begin{Description}\\relax\n",
       "\\code{residuals} is a generic function which extracts model residuals\n",
       "from objects returned by modeling functions.\n",
       "\n",
       "The abbreviated form \\code{resid} is an alias for \\code{residuals}.\n",
       "It is intended to encourage users to access object components through\n",
       "an accessor function rather than by directly referencing an object\n",
       "slot.\n",
       "\n",
       "All object classes which are returned by model fitting functions\n",
       "should provide a \\code{residuals} method.  (Note that the method is\n",
       "for \\samp{residuals} and not \\samp{resid}.)\n",
       "\n",
       "Methods can make use of \\code{\\LinkA{naresid}{naresid}} methods to compensate\n",
       "for the omission of missing values.  The default, \\code{\\LinkA{nls}{nls}} and\n",
       "\\code{\\LinkA{smooth.spline}{smooth.spline}} methods do.\n",
       "\\end{Description}\n",
       "%\n",
       "\\begin{Usage}\n",
       "\\begin{verbatim}\n",
       "residuals(object, ...)\n",
       "resid(object, ...)\n",
       "\\end{verbatim}\n",
       "\\end{Usage}\n",
       "%\n",
       "\\begin{Arguments}\n",
       "\\begin{ldescription}\n",
       "\\item[\\code{object}] an object for which the extraction of model residuals is\n",
       "meaningful.\n",
       "\\item[\\code{...}] other arguments.\n",
       "\\end{ldescription}\n",
       "\\end{Arguments}\n",
       "%\n",
       "\\begin{Value}\n",
       "Residuals extracted from the object \\code{object}.\n",
       "\\end{Value}\n",
       "%\n",
       "\\begin{References}\\relax\n",
       "Chambers, J. M. and Hastie, T. J. (1992)\n",
       "\\emph{Statistical Models in S}.\n",
       "Wadsworth \\& Brooks/Cole.\n",
       "\\end{References}\n",
       "%\n",
       "\\begin{SeeAlso}\\relax\n",
       "\\code{\\LinkA{coefficients}{coefficients}}, \\code{\\LinkA{fitted.values}{fitted.values}},\n",
       "\\code{\\LinkA{glm}{glm}}, \\code{\\LinkA{lm}{lm}}.\n",
       "\n",
       "\\LinkA{influence.measures}{influence.measures} for standardized (\\code{\\LinkA{rstandard}{rstandard}})\n",
       "and studentized (\\code{\\LinkA{rstudent}{rstudent}}) residuals.\n",
       "\\end{SeeAlso}"
      ],
      "text/plain": [
       "residuals                package:stats                 R Documentation\n",
       "\n",
       "_\bE_\bx_\bt_\br_\ba_\bc_\bt _\bM_\bo_\bd_\be_\bl _\bR_\be_\bs_\bi_\bd_\bu_\ba_\bl_\bs\n",
       "\n",
       "_\bD_\be_\bs_\bc_\br_\bi_\bp_\bt_\bi_\bo_\bn:\n",
       "\n",
       "     ‘residuals’ is a generic function which extracts model residuals\n",
       "     from objects returned by modeling functions.\n",
       "\n",
       "     The abbreviated form ‘resid’ is an alias for ‘residuals’.  It is\n",
       "     intended to encourage users to access object components through an\n",
       "     accessor function rather than by directly referencing an object\n",
       "     slot.\n",
       "\n",
       "     All object classes which are returned by model fitting functions\n",
       "     should provide a ‘residuals’ method.  (Note that the method is for\n",
       "     ‘residuals’ and not ‘resid’.)\n",
       "\n",
       "     Methods can make use of ‘naresid’ methods to compensate for the\n",
       "     omission of missing values.  The default, ‘nls’ and\n",
       "     ‘smooth.spline’ methods do.\n",
       "\n",
       "_\bU_\bs_\ba_\bg_\be:\n",
       "\n",
       "     residuals(object, ...)\n",
       "     resid(object, ...)\n",
       "     \n",
       "_\bA_\br_\bg_\bu_\bm_\be_\bn_\bt_\bs:\n",
       "\n",
       "  object: an object for which the extraction of model residuals is\n",
       "          meaningful.\n",
       "\n",
       "     ...: other arguments.\n",
       "\n",
       "_\bV_\ba_\bl_\bu_\be:\n",
       "\n",
       "     Residuals extracted from the object ‘object’.\n",
       "\n",
       "_\bR_\be_\bf_\be_\br_\be_\bn_\bc_\be_\bs:\n",
       "\n",
       "     Chambers, J. M. and Hastie, T. J. (1992) _Statistical Models in\n",
       "     S_.  Wadsworth & Brooks/Cole.\n",
       "\n",
       "_\bS_\be_\be _\bA_\bl_\bs_\bo:\n",
       "\n",
       "     ‘coefficients’, ‘fitted.values’, ‘glm’, ‘lm’.\n",
       "\n",
       "     influence.measures for standardized (‘rstandard’) and studentized\n",
       "     (‘rstudent’) residuals.\n"
      ]
     },
     "metadata": {},
     "output_type": "display_data"
    }
   ],
   "source": [
    "?resid"
   ]
  },
  {
   "cell_type": "code",
   "execution_count": 188,
   "metadata": {},
   "outputs": [
    {
     "data": {
      "text/html": [
       "<table>\n",
       "<thead><tr><th scope=col>Sample</th><th scope=col>Machine</th><th scope=col>term</th><th scope=col>estimate</th><th scope=col>std.error</th><th scope=col>statistic</th><th scope=col>p.value</th></tr></thead>\n",
       "<tbody>\n",
       "\t<tr><td>Cbut           </td><td>Mic            </td><td>log10(Dilution)</td><td>-2.9370        </td><td>0.03776683     </td><td> -77.76666     </td><td>4.686321e-06   </td></tr>\n",
       "\t<tr><td>Cbut 2         </td><td>Mic            </td><td>log10(Dilution)</td><td>-3.0520        </td><td>0.03046309     </td><td>-100.18681     </td><td>2.192216e-06   </td></tr>\n",
       "\t<tr><td>EcNissle       </td><td>Mic            </td><td>log10(Dilution)</td><td>-2.9170        </td><td>0.02162560     </td><td>-134.88642     </td><td>8.984215e-07   </td></tr>\n",
       "\t<tr><td>EcNissle2      </td><td>Mic            </td><td>log10(Dilution)</td><td>-2.8280        </td><td>0.06106827     </td><td> -46.30883     </td><td>2.216924e-05   </td></tr>\n",
       "\t<tr><td>Fvarium        </td><td>Mic            </td><td>log10(Dilution)</td><td>-2.9830        </td><td>0.05113055     </td><td> -58.34085     </td><td>1.109413e-05   </td></tr>\n",
       "\t<tr><td>Fvarium 2      </td><td>Mic            </td><td>log10(Dilution)</td><td>-2.6660        </td><td>0.06385400     </td><td> -41.75150     </td><td>3.023838e-05   </td></tr>\n",
       "\t<tr><td>Pcopri         </td><td>Mic            </td><td>log10(Dilution)</td><td>-2.7410        </td><td>0.02470493     </td><td>-110.94954     </td><td>1.614237e-06   </td></tr>\n",
       "\t<tr><td>Pcopri2        </td><td>Mic            </td><td>log10(Dilution)</td><td>-2.6930        </td><td>0.03530345     </td><td> -76.28150     </td><td>4.965287e-06   </td></tr>\n",
       "\t<tr><td>Cbut           </td><td>Quantstudio    </td><td>log10(Dilution)</td><td>-3.5069        </td><td>0.02670649     </td><td>-131.31265     </td><td>9.737791e-07   </td></tr>\n",
       "\t<tr><td>Cbut 2         </td><td>Quantstudio    </td><td>log10(Dilution)</td><td>-4.0438        </td><td>0.05476093     </td><td> -73.84461     </td><td>5.473028e-06   </td></tr>\n",
       "\t<tr><td>EcNissle       </td><td>Quantstudio    </td><td>log10(Dilution)</td><td>-3.4843        </td><td>0.06204415     </td><td> -56.15840     </td><td>1.243744e-05   </td></tr>\n",
       "\t<tr><td>EcNissle2      </td><td>Quantstudio    </td><td>log10(Dilution)</td><td>-3.4087        </td><td>0.06077288     </td><td> -56.08916     </td><td>1.248352e-05   </td></tr>\n",
       "\t<tr><td>Fvarium        </td><td>Quantstudio    </td><td>log10(Dilution)</td><td>-3.4308        </td><td>0.01473363     </td><td>-232.85496     </td><td>1.746568e-07   </td></tr>\n",
       "\t<tr><td>Fvarium 2      </td><td>Quantstudio    </td><td>log10(Dilution)</td><td>-3.5450        </td><td>0.01353514     </td><td>-261.91086     </td><td>1.227404e-07   </td></tr>\n",
       "\t<tr><td>Pcopri         </td><td>Quantstudio    </td><td>log10(Dilution)</td><td>-3.3890        </td><td>0.02985297     </td><td>-113.52303     </td><td>1.506945e-06   </td></tr>\n",
       "\t<tr><td>Pcopri2        </td><td>Quantstudio    </td><td>log10(Dilution)</td><td>-3.3405        </td><td>0.02483190     </td><td>-134.52453     </td><td>9.056906e-07   </td></tr>\n",
       "</tbody>\n",
       "</table>\n"
      ],
      "text/latex": [
       "\\begin{tabular}{r|lllllll}\n",
       " Sample & Machine & term & estimate & std.error & statistic & p.value\\\\\n",
       "\\hline\n",
       "\t Cbut            & Mic             & log10(Dilution) & -2.9370         & 0.03776683      &  -77.76666      & 4.686321e-06   \\\\\n",
       "\t Cbut 2          & Mic             & log10(Dilution) & -3.0520         & 0.03046309      & -100.18681      & 2.192216e-06   \\\\\n",
       "\t EcNissle        & Mic             & log10(Dilution) & -2.9170         & 0.02162560      & -134.88642      & 8.984215e-07   \\\\\n",
       "\t EcNissle2       & Mic             & log10(Dilution) & -2.8280         & 0.06106827      &  -46.30883      & 2.216924e-05   \\\\\n",
       "\t Fvarium         & Mic             & log10(Dilution) & -2.9830         & 0.05113055      &  -58.34085      & 1.109413e-05   \\\\\n",
       "\t Fvarium 2       & Mic             & log10(Dilution) & -2.6660         & 0.06385400      &  -41.75150      & 3.023838e-05   \\\\\n",
       "\t Pcopri          & Mic             & log10(Dilution) & -2.7410         & 0.02470493      & -110.94954      & 1.614237e-06   \\\\\n",
       "\t Pcopri2         & Mic             & log10(Dilution) & -2.6930         & 0.03530345      &  -76.28150      & 4.965287e-06   \\\\\n",
       "\t Cbut            & Quantstudio     & log10(Dilution) & -3.5069         & 0.02670649      & -131.31265      & 9.737791e-07   \\\\\n",
       "\t Cbut 2          & Quantstudio     & log10(Dilution) & -4.0438         & 0.05476093      &  -73.84461      & 5.473028e-06   \\\\\n",
       "\t EcNissle        & Quantstudio     & log10(Dilution) & -3.4843         & 0.06204415      &  -56.15840      & 1.243744e-05   \\\\\n",
       "\t EcNissle2       & Quantstudio     & log10(Dilution) & -3.4087         & 0.06077288      &  -56.08916      & 1.248352e-05   \\\\\n",
       "\t Fvarium         & Quantstudio     & log10(Dilution) & -3.4308         & 0.01473363      & -232.85496      & 1.746568e-07   \\\\\n",
       "\t Fvarium 2       & Quantstudio     & log10(Dilution) & -3.5450         & 0.01353514      & -261.91086      & 1.227404e-07   \\\\\n",
       "\t Pcopri          & Quantstudio     & log10(Dilution) & -3.3890         & 0.02985297      & -113.52303      & 1.506945e-06   \\\\\n",
       "\t Pcopri2         & Quantstudio     & log10(Dilution) & -3.3405         & 0.02483190      & -134.52453      & 9.056906e-07   \\\\\n",
       "\\end{tabular}\n"
      ],
      "text/markdown": [
       "\n",
       "Sample | Machine | term | estimate | std.error | statistic | p.value | \n",
       "|---|---|---|---|---|---|---|---|---|---|---|---|---|---|---|---|\n",
       "| Cbut            | Mic             | log10(Dilution) | -2.9370         | 0.03776683      |  -77.76666      | 4.686321e-06    | \n",
       "| Cbut 2          | Mic             | log10(Dilution) | -3.0520         | 0.03046309      | -100.18681      | 2.192216e-06    | \n",
       "| EcNissle        | Mic             | log10(Dilution) | -2.9170         | 0.02162560      | -134.88642      | 8.984215e-07    | \n",
       "| EcNissle2       | Mic             | log10(Dilution) | -2.8280         | 0.06106827      |  -46.30883      | 2.216924e-05    | \n",
       "| Fvarium         | Mic             | log10(Dilution) | -2.9830         | 0.05113055      |  -58.34085      | 1.109413e-05    | \n",
       "| Fvarium 2       | Mic             | log10(Dilution) | -2.6660         | 0.06385400      |  -41.75150      | 3.023838e-05    | \n",
       "| Pcopri          | Mic             | log10(Dilution) | -2.7410         | 0.02470493      | -110.94954      | 1.614237e-06    | \n",
       "| Pcopri2         | Mic             | log10(Dilution) | -2.6930         | 0.03530345      |  -76.28150      | 4.965287e-06    | \n",
       "| Cbut            | Quantstudio     | log10(Dilution) | -3.5069         | 0.02670649      | -131.31265      | 9.737791e-07    | \n",
       "| Cbut 2          | Quantstudio     | log10(Dilution) | -4.0438         | 0.05476093      |  -73.84461      | 5.473028e-06    | \n",
       "| EcNissle        | Quantstudio     | log10(Dilution) | -3.4843         | 0.06204415      |  -56.15840      | 1.243744e-05    | \n",
       "| EcNissle2       | Quantstudio     | log10(Dilution) | -3.4087         | 0.06077288      |  -56.08916      | 1.248352e-05    | \n",
       "| Fvarium         | Quantstudio     | log10(Dilution) | -3.4308         | 0.01473363      | -232.85496      | 1.746568e-07    | \n",
       "| Fvarium 2       | Quantstudio     | log10(Dilution) | -3.5450         | 0.01353514      | -261.91086      | 1.227404e-07    | \n",
       "| Pcopri          | Quantstudio     | log10(Dilution) | -3.3890         | 0.02985297      | -113.52303      | 1.506945e-06    | \n",
       "| Pcopri2         | Quantstudio     | log10(Dilution) | -3.3405         | 0.02483190      | -134.52453      | 9.056906e-07    | \n",
       "\n",
       "\n"
      ],
      "text/plain": [
       "   Sample    Machine     term            estimate std.error  statistic \n",
       "1  Cbut      Mic         log10(Dilution) -2.9370  0.03776683  -77.76666\n",
       "2  Cbut 2    Mic         log10(Dilution) -3.0520  0.03046309 -100.18681\n",
       "3  EcNissle  Mic         log10(Dilution) -2.9170  0.02162560 -134.88642\n",
       "4  EcNissle2 Mic         log10(Dilution) -2.8280  0.06106827  -46.30883\n",
       "5  Fvarium   Mic         log10(Dilution) -2.9830  0.05113055  -58.34085\n",
       "6  Fvarium 2 Mic         log10(Dilution) -2.6660  0.06385400  -41.75150\n",
       "7  Pcopri    Mic         log10(Dilution) -2.7410  0.02470493 -110.94954\n",
       "8  Pcopri2   Mic         log10(Dilution) -2.6930  0.03530345  -76.28150\n",
       "9  Cbut      Quantstudio log10(Dilution) -3.5069  0.02670649 -131.31265\n",
       "10 Cbut 2    Quantstudio log10(Dilution) -4.0438  0.05476093  -73.84461\n",
       "11 EcNissle  Quantstudio log10(Dilution) -3.4843  0.06204415  -56.15840\n",
       "12 EcNissle2 Quantstudio log10(Dilution) -3.4087  0.06077288  -56.08916\n",
       "13 Fvarium   Quantstudio log10(Dilution) -3.4308  0.01473363 -232.85496\n",
       "14 Fvarium 2 Quantstudio log10(Dilution) -3.5450  0.01353514 -261.91086\n",
       "15 Pcopri    Quantstudio log10(Dilution) -3.3890  0.02985297 -113.52303\n",
       "16 Pcopri2   Quantstudio log10(Dilution) -3.3405  0.02483190 -134.52453\n",
       "   p.value     \n",
       "1  4.686321e-06\n",
       "2  2.192216e-06\n",
       "3  8.984215e-07\n",
       "4  2.216924e-05\n",
       "5  1.109413e-05\n",
       "6  3.023838e-05\n",
       "7  1.614237e-06\n",
       "8  4.965287e-06\n",
       "9  9.737791e-07\n",
       "10 5.473028e-06\n",
       "11 1.243744e-05\n",
       "12 1.248352e-05\n",
       "13 1.746568e-07\n",
       "14 1.227404e-07\n",
       "15 1.506945e-06\n",
       "16 9.056906e-07"
      ]
     },
     "metadata": {},
     "output_type": "display_data"
    }
   ],
   "source": [
    "mainEfficiency"
   ]
  },
  {
   "cell_type": "code",
   "execution_count": 189,
   "metadata": {},
   "outputs": [
    {
     "data": {
      "text/html": [
       "<table>\n",
       "<thead><tr><th scope=col>Sample</th><th scope=col>Machine</th><th scope=col>term</th><th scope=col>estimate</th><th scope=col>std.error</th><th scope=col>statistic</th><th scope=col>p.value</th></tr></thead>\n",
       "<tbody>\n",
       "\t<tr><td>Cbut           </td><td>Mic            </td><td>log10(Dilution)</td><td>-2.8400        </td><td>0.051961524    </td><td>  -54.65583    </td><td>0.0116464941   </td></tr>\n",
       "\t<tr><td>Cbut 2         </td><td>Mic            </td><td>log10(Dilution)</td><td>-2.9500        </td><td>0.005773503    </td><td> -510.95499    </td><td>0.0012459394   </td></tr>\n",
       "\t<tr><td>EcNissle       </td><td>Mic            </td><td>log10(Dilution)</td><td>-2.8450        </td><td>0.014433757    </td><td> -197.10738    </td><td>0.0032297842   </td></tr>\n",
       "\t<tr><td>EcNissle2      </td><td>Mic            </td><td>log10(Dilution)</td><td>-2.6350        </td><td>0.095262794    </td><td>  -27.66033    </td><td>0.0230056080   </td></tr>\n",
       "\t<tr><td>Fvarium        </td><td>Mic            </td><td>log10(Dilution)</td><td>-2.8250        </td><td>0.008660254    </td><td> -326.20290    </td><td>0.0019516006   </td></tr>\n",
       "\t<tr><td>Fvarium 2      </td><td>Mic            </td><td>log10(Dilution)</td><td>-2.4750        </td><td>0.025980762    </td><td>  -95.26279    </td><td>0.0066825290   </td></tr>\n",
       "\t<tr><td>Pcopri         </td><td>Mic            </td><td>log10(Dilution)</td><td>-2.7300        </td><td>0.040414519    </td><td>  -67.54998    </td><td>0.0094237372   </td></tr>\n",
       "\t<tr><td>Pcopri2        </td><td>Mic            </td><td>log10(Dilution)</td><td>-2.8050        </td><td>0.008660254    </td><td> -323.89350    </td><td>0.0019655157   </td></tr>\n",
       "\t<tr><td>Cbut           </td><td>Quantstudio    </td><td>log10(Dilution)</td><td>-3.4375        </td><td>0.025692087    </td><td> -133.79606    </td><td>0.0047580468   </td></tr>\n",
       "\t<tr><td>Cbut 2         </td><td>Quantstudio    </td><td>log10(Dilution)</td><td>-4.0865        </td><td>0.153863847    </td><td>  -26.55920    </td><td>0.0239585265   </td></tr>\n",
       "\t<tr><td>EcNissle       </td><td>Quantstudio    </td><td>log10(Dilution)</td><td>-3.5015        </td><td>0.187350162    </td><td>  -18.68960    </td><td>0.0340303282   </td></tr>\n",
       "\t<tr><td>EcNissle2      </td><td>Quantstudio    </td><td>log10(Dilution)</td><td>-3.2640        </td><td>0.093530744    </td><td>  -34.89762    </td><td>0.0182375096   </td></tr>\n",
       "\t<tr><td>Fvarium        </td><td>Quantstudio    </td><td>log10(Dilution)</td><td>-3.4650        </td><td>0.003464102    </td><td>-1000.25934    </td><td>0.0006364545   </td></tr>\n",
       "\t<tr><td>Fvarium 2      </td><td>Quantstudio    </td><td>log10(Dilution)</td><td>-3.5610        </td><td>0.004618802    </td><td> -770.97912    </td><td>0.0008257285   </td></tr>\n",
       "\t<tr><td>Pcopri         </td><td>Quantstudio    </td><td>log10(Dilution)</td><td>-3.2910        </td><td>0.021939310    </td><td> -150.00472    </td><td>0.0042439355   </td></tr>\n",
       "\t<tr><td>Pcopri2        </td><td>Quantstudio    </td><td>log10(Dilution)</td><td>-3.2590        </td><td>0.021361960    </td><td> -152.56091    </td><td>0.0041728295   </td></tr>\n",
       "</tbody>\n",
       "</table>\n"
      ],
      "text/latex": [
       "\\begin{tabular}{r|lllllll}\n",
       " Sample & Machine & term & estimate & std.error & statistic & p.value\\\\\n",
       "\\hline\n",
       "\t Cbut            & Mic             & log10(Dilution) & -2.8400         & 0.051961524     &   -54.65583     & 0.0116464941   \\\\\n",
       "\t Cbut 2          & Mic             & log10(Dilution) & -2.9500         & 0.005773503     &  -510.95499     & 0.0012459394   \\\\\n",
       "\t EcNissle        & Mic             & log10(Dilution) & -2.8450         & 0.014433757     &  -197.10738     & 0.0032297842   \\\\\n",
       "\t EcNissle2       & Mic             & log10(Dilution) & -2.6350         & 0.095262794     &   -27.66033     & 0.0230056080   \\\\\n",
       "\t Fvarium         & Mic             & log10(Dilution) & -2.8250         & 0.008660254     &  -326.20290     & 0.0019516006   \\\\\n",
       "\t Fvarium 2       & Mic             & log10(Dilution) & -2.4750         & 0.025980762     &   -95.26279     & 0.0066825290   \\\\\n",
       "\t Pcopri          & Mic             & log10(Dilution) & -2.7300         & 0.040414519     &   -67.54998     & 0.0094237372   \\\\\n",
       "\t Pcopri2         & Mic             & log10(Dilution) & -2.8050         & 0.008660254     &  -323.89350     & 0.0019655157   \\\\\n",
       "\t Cbut            & Quantstudio     & log10(Dilution) & -3.4375         & 0.025692087     &  -133.79606     & 0.0047580468   \\\\\n",
       "\t Cbut 2          & Quantstudio     & log10(Dilution) & -4.0865         & 0.153863847     &   -26.55920     & 0.0239585265   \\\\\n",
       "\t EcNissle        & Quantstudio     & log10(Dilution) & -3.5015         & 0.187350162     &   -18.68960     & 0.0340303282   \\\\\n",
       "\t EcNissle2       & Quantstudio     & log10(Dilution) & -3.2640         & 0.093530744     &   -34.89762     & 0.0182375096   \\\\\n",
       "\t Fvarium         & Quantstudio     & log10(Dilution) & -3.4650         & 0.003464102     & -1000.25934     & 0.0006364545   \\\\\n",
       "\t Fvarium 2       & Quantstudio     & log10(Dilution) & -3.5610         & 0.004618802     &  -770.97912     & 0.0008257285   \\\\\n",
       "\t Pcopri          & Quantstudio     & log10(Dilution) & -3.2910         & 0.021939310     &  -150.00472     & 0.0042439355   \\\\\n",
       "\t Pcopri2         & Quantstudio     & log10(Dilution) & -3.2590         & 0.021361960     &  -152.56091     & 0.0041728295   \\\\\n",
       "\\end{tabular}\n"
      ],
      "text/markdown": [
       "\n",
       "Sample | Machine | term | estimate | std.error | statistic | p.value | \n",
       "|---|---|---|---|---|---|---|---|---|---|---|---|---|---|---|---|\n",
       "| Cbut            | Mic             | log10(Dilution) | -2.8400         | 0.051961524     |   -54.65583     | 0.0116464941    | \n",
       "| Cbut 2          | Mic             | log10(Dilution) | -2.9500         | 0.005773503     |  -510.95499     | 0.0012459394    | \n",
       "| EcNissle        | Mic             | log10(Dilution) | -2.8450         | 0.014433757     |  -197.10738     | 0.0032297842    | \n",
       "| EcNissle2       | Mic             | log10(Dilution) | -2.6350         | 0.095262794     |   -27.66033     | 0.0230056080    | \n",
       "| Fvarium         | Mic             | log10(Dilution) | -2.8250         | 0.008660254     |  -326.20290     | 0.0019516006    | \n",
       "| Fvarium 2       | Mic             | log10(Dilution) | -2.4750         | 0.025980762     |   -95.26279     | 0.0066825290    | \n",
       "| Pcopri          | Mic             | log10(Dilution) | -2.7300         | 0.040414519     |   -67.54998     | 0.0094237372    | \n",
       "| Pcopri2         | Mic             | log10(Dilution) | -2.8050         | 0.008660254     |  -323.89350     | 0.0019655157    | \n",
       "| Cbut            | Quantstudio     | log10(Dilution) | -3.4375         | 0.025692087     |  -133.79606     | 0.0047580468    | \n",
       "| Cbut 2          | Quantstudio     | log10(Dilution) | -4.0865         | 0.153863847     |   -26.55920     | 0.0239585265    | \n",
       "| EcNissle        | Quantstudio     | log10(Dilution) | -3.5015         | 0.187350162     |   -18.68960     | 0.0340303282    | \n",
       "| EcNissle2       | Quantstudio     | log10(Dilution) | -3.2640         | 0.093530744     |   -34.89762     | 0.0182375096    | \n",
       "| Fvarium         | Quantstudio     | log10(Dilution) | -3.4650         | 0.003464102     | -1000.25934     | 0.0006364545    | \n",
       "| Fvarium 2       | Quantstudio     | log10(Dilution) | -3.5610         | 0.004618802     |  -770.97912     | 0.0008257285    | \n",
       "| Pcopri          | Quantstudio     | log10(Dilution) | -3.2910         | 0.021939310     |  -150.00472     | 0.0042439355    | \n",
       "| Pcopri2         | Quantstudio     | log10(Dilution) | -3.2590         | 0.021361960     |  -152.56091     | 0.0041728295    | \n",
       "\n",
       "\n"
      ],
      "text/plain": [
       "   Sample    Machine     term            estimate std.error   statistic  \n",
       "1  Cbut      Mic         log10(Dilution) -2.8400  0.051961524   -54.65583\n",
       "2  Cbut 2    Mic         log10(Dilution) -2.9500  0.005773503  -510.95499\n",
       "3  EcNissle  Mic         log10(Dilution) -2.8450  0.014433757  -197.10738\n",
       "4  EcNissle2 Mic         log10(Dilution) -2.6350  0.095262794   -27.66033\n",
       "5  Fvarium   Mic         log10(Dilution) -2.8250  0.008660254  -326.20290\n",
       "6  Fvarium 2 Mic         log10(Dilution) -2.4750  0.025980762   -95.26279\n",
       "7  Pcopri    Mic         log10(Dilution) -2.7300  0.040414519   -67.54998\n",
       "8  Pcopri2   Mic         log10(Dilution) -2.8050  0.008660254  -323.89350\n",
       "9  Cbut      Quantstudio log10(Dilution) -3.4375  0.025692087  -133.79606\n",
       "10 Cbut 2    Quantstudio log10(Dilution) -4.0865  0.153863847   -26.55920\n",
       "11 EcNissle  Quantstudio log10(Dilution) -3.5015  0.187350162   -18.68960\n",
       "12 EcNissle2 Quantstudio log10(Dilution) -3.2640  0.093530744   -34.89762\n",
       "13 Fvarium   Quantstudio log10(Dilution) -3.4650  0.003464102 -1000.25934\n",
       "14 Fvarium 2 Quantstudio log10(Dilution) -3.5610  0.004618802  -770.97912\n",
       "15 Pcopri    Quantstudio log10(Dilution) -3.2910  0.021939310  -150.00472\n",
       "16 Pcopri2   Quantstudio log10(Dilution) -3.2590  0.021361960  -152.56091\n",
       "   p.value     \n",
       "1  0.0116464941\n",
       "2  0.0012459394\n",
       "3  0.0032297842\n",
       "4  0.0230056080\n",
       "5  0.0019516006\n",
       "6  0.0066825290\n",
       "7  0.0094237372\n",
       "8  0.0019655157\n",
       "9  0.0047580468\n",
       "10 0.0239585265\n",
       "11 0.0340303282\n",
       "12 0.0182375096\n",
       "13 0.0006364545\n",
       "14 0.0008257285\n",
       "15 0.0042439355\n",
       "16 0.0041728295"
      ]
     },
     "metadata": {},
     "output_type": "display_data"
    }
   ],
   "source": [
    "smallEfficiency"
   ]
  },
  {
   "cell_type": "code",
   "execution_count": 192,
   "metadata": {},
   "outputs": [],
   "source": [
    "smallEfficiency = unite(smallEfficiency, Sample, c(Sample,Machine), remove=TRUE)\n"
   ]
  },
  {
   "cell_type": "code",
   "execution_count": 193,
   "metadata": {},
   "outputs": [],
   "source": [
    "mainEfficiency = unite(mainEfficiency, Sample, c(Sample, Machine), remove = TRUE)"
   ]
  },
  {
   "cell_type": "code",
   "execution_count": 195,
   "metadata": {},
   "outputs": [],
   "source": [
    "mainsamp = rownames(mainEfficiency)"
   ]
  },
  {
   "cell_type": "code",
   "execution_count": 196,
   "metadata": {},
   "outputs": [],
   "source": [
    "smallsamp = rownames(smallEfficiency)"
   ]
  },
  {
   "cell_type": "code",
   "execution_count": 219,
   "metadata": {},
   "outputs": [
    {
     "ename": "ERROR",
     "evalue": "Error in Eff[g] <- function(g) (((10^(-1/mainEfficiency$estimate[[mainsamp[g]]] - : incompatible types (from closure to double) in subassignment type fix\n",
     "execution_count": 219,
     "output_type": "error",
     "traceback": [
      "Error in Eff[g] <- function(g) (((10^(-1/mainEfficiency$estimate[[mainsamp[g]]] - : incompatible types (from closure to double) in subassignment type fix\nTraceback:\n"
     ]
    }
   ],
   "source": [
    "Eff = rep(times = length(mainsamp), 0)\n",
    "for(g in 1:length(mainsamp)){\n",
    "    Eff[g] = function(g)(((10^(-1/mainEfficiency$estimate[[mainsamp[g]]]-1)*100)))\n",
    "}"
   ]
  },
  {
   "cell_type": "code",
   "execution_count": 216,
   "metadata": {},
   "outputs": [
    {
     "ename": "ERROR",
     "evalue": "Error in parse(text = x, srcfile = src): <text>:1:10: unexpected '('\n1: function((\n             ^\n",
     "execution_count": 216,
     "output_type": "error",
     "traceback": [
      "Error in parse(text = x, srcfile = src): <text>:1:10: unexpected '('\n1: function((\n             ^\nTraceback:\n"
     ]
    }
   ],
   "source": [
    "function(((10^(-1/mainEfficiency$estimate[[mainsamp[g]]]-1)*100)))"
   ]
  },
  {
   "cell_type": "code",
   "execution_count": 218,
   "metadata": {},
   "outputs": [
    {
     "ename": "ERROR",
     "evalue": "Error in parse(text = x, srcfile = src): <text>:1:14: unexpected ')'\n1: help(function)\n                 ^\n",
     "execution_count": 218,
     "output_type": "error",
     "traceback": [
      "Error in parse(text = x, srcfile = src): <text>:1:14: unexpected ')'\n1: help(function)\n                 ^\nTraceback:\n"
     ]
    }
   ],
   "source": [
    "help(function)"
   ]
  },
  {
   "cell_type": "code",
   "execution_count": 242,
   "metadata": {},
   "outputs": [
    {
     "data": {
      "text/html": [
       "121.221629107045"
      ],
      "text/latex": [
       "121.221629107045"
      ],
      "text/markdown": [
       "121.221629107045"
      ],
      "text/plain": [
       "[1] 121.2216"
      ]
     },
     "metadata": {},
     "output_type": "display_data"
    }
   ],
   "source": [
    "(10^(-1/-2.9)-1)*100"
   ]
  },
  {
   "cell_type": "code",
   "execution_count": 246,
   "metadata": {},
   "outputs": [
    {
     "data": {
      "text/html": [
       "<ol class=list-inline>\n",
       "\t<li>124.963819022519</li>\n",
       "\t<li>118.264472839749</li>\n",
       "\t<li>124.643495832056</li>\n",
       "\t<li>139.610939151508</li>\n",
       "\t<li>125.934369168801</li>\n",
       "\t<li>153.536449397011</li>\n",
       "\t<li>132.434380083104</li>\n",
       "\t<li>127.251228082095</li>\n",
       "\t<li>95.3930404689612</li>\n",
       "\t<li>75.6742813062568</li>\n",
       "\t<li>93.0153680077127</li>\n",
       "\t<li>102.475532130952</li>\n",
       "\t<li>94.3570455201769</li>\n",
       "\t<li>90.9061829958126</li>\n",
       "\t<li>101.307061487083</li>\n",
       "\t<li>102.694791809504</li>\n",
       "</ol>\n"
      ],
      "text/latex": [
       "\\begin{enumerate*}\n",
       "\\item 124.963819022519\n",
       "\\item 118.264472839749\n",
       "\\item 124.643495832056\n",
       "\\item 139.610939151508\n",
       "\\item 125.934369168801\n",
       "\\item 153.536449397011\n",
       "\\item 132.434380083104\n",
       "\\item 127.251228082095\n",
       "\\item 95.3930404689612\n",
       "\\item 75.6742813062568\n",
       "\\item 93.0153680077127\n",
       "\\item 102.475532130952\n",
       "\\item 94.3570455201769\n",
       "\\item 90.9061829958126\n",
       "\\item 101.307061487083\n",
       "\\item 102.694791809504\n",
       "\\end{enumerate*}\n"
      ],
      "text/markdown": [
       "1. 124.963819022519\n",
       "2. 118.264472839749\n",
       "3. 124.643495832056\n",
       "4. 139.610939151508\n",
       "5. 125.934369168801\n",
       "6. 153.536449397011\n",
       "7. 132.434380083104\n",
       "8. 127.251228082095\n",
       "9. 95.3930404689612\n",
       "10. 75.6742813062568\n",
       "11. 93.0153680077127\n",
       "12. 102.475532130952\n",
       "13. 94.3570455201769\n",
       "14. 90.9061829958126\n",
       "15. 101.307061487083\n",
       "16. 102.694791809504\n",
       "\n",
       "\n"
      ],
      "text/plain": [
       " [1] 124.96382 118.26447 124.64350 139.61094 125.93437 153.53645 132.43438\n",
       " [8] 127.25123  95.39304  75.67428  93.01537 102.47553  94.35705  90.90618\n",
       "[15] 101.30706 102.69479"
      ]
     },
     "metadata": {},
     "output_type": "display_data"
    }
   ],
   "source": [
    "(10^(-1/smallEfficiency$estimate)-1)*100"
   ]
  },
  {
   "cell_type": "code",
   "execution_count": 229,
   "metadata": {},
   "outputs": [
    {
     "data": {
      "text/html": [
       "<ol class=list-inline>\n",
       "\t<li>-2.84</li>\n",
       "\t<li>-2.95</li>\n",
       "\t<li>-2.845</li>\n",
       "\t<li>-2.635</li>\n",
       "\t<li>-2.825</li>\n",
       "\t<li>-2.475</li>\n",
       "\t<li>-2.73</li>\n",
       "\t<li>-2.805</li>\n",
       "\t<li>-3.4375</li>\n",
       "\t<li>-4.08649999999999</li>\n",
       "\t<li>-3.50149999999999</li>\n",
       "\t<li>-3.26399999999999</li>\n",
       "\t<li>-3.465</li>\n",
       "\t<li>-3.561</li>\n",
       "\t<li>-3.291</li>\n",
       "\t<li>-3.259</li>\n",
       "</ol>\n"
      ],
      "text/latex": [
       "\\begin{enumerate*}\n",
       "\\item -2.84\n",
       "\\item -2.95\n",
       "\\item -2.845\n",
       "\\item -2.635\n",
       "\\item -2.825\n",
       "\\item -2.475\n",
       "\\item -2.73\n",
       "\\item -2.805\n",
       "\\item -3.4375\n",
       "\\item -4.08649999999999\n",
       "\\item -3.50149999999999\n",
       "\\item -3.26399999999999\n",
       "\\item -3.465\n",
       "\\item -3.561\n",
       "\\item -3.291\n",
       "\\item -3.259\n",
       "\\end{enumerate*}\n"
      ],
      "text/markdown": [
       "1. -2.84\n",
       "2. -2.95\n",
       "3. -2.845\n",
       "4. -2.635\n",
       "5. -2.825\n",
       "6. -2.475\n",
       "7. -2.73\n",
       "8. -2.805\n",
       "9. -3.4375\n",
       "10. -4.08649999999999\n",
       "11. -3.50149999999999\n",
       "12. -3.26399999999999\n",
       "13. -3.465\n",
       "14. -3.561\n",
       "15. -3.291\n",
       "16. -3.259\n",
       "\n",
       "\n"
      ],
      "text/plain": [
       " [1] -2.8400 -2.9500 -2.8450 -2.6350 -2.8250 -2.4750 -2.7300 -2.8050 -3.4375\n",
       "[10] -4.0865 -3.5015 -3.2640 -3.4650 -3.5610 -3.2910 -3.2590"
      ]
     },
     "metadata": {},
     "output_type": "display_data"
    }
   ],
   "source": [
    "smallEfficiency$estimate"
   ]
  },
  {
   "cell_type": "code",
   "execution_count": 234,
   "metadata": {},
   "outputs": [
    {
     "ename": "ERROR",
     "evalue": "Error in rownames(smallEfficiency = \"FALSE\"): unused argument (smallEfficiency = \"FALSE\")\n",
     "execution_count": 234,
     "output_type": "error",
     "traceback": [
      "Error in rownames(smallEfficiency = \"FALSE\"): unused argument (smallEfficiency = \"FALSE\")\nTraceback:\n"
     ]
    }
   ],
   "source": [
    "rownames(smallEfficiency='FALSE')"
   ]
  },
  {
   "cell_type": "code",
   "execution_count": 236,
   "metadata": {},
   "outputs": [
    {
     "data": {
      "text/html": [
       "<ol class=list-inline>\n",
       "\t<li>-2.84</li>\n",
       "\t<li>-2.95</li>\n",
       "\t<li>-2.845</li>\n",
       "\t<li>-2.635</li>\n",
       "\t<li>-2.825</li>\n",
       "\t<li>-2.475</li>\n",
       "\t<li>-2.73</li>\n",
       "\t<li>-2.805</li>\n",
       "\t<li>-3.4375</li>\n",
       "\t<li>-4.08649999999999</li>\n",
       "\t<li>-3.50149999999999</li>\n",
       "\t<li>-3.26399999999999</li>\n",
       "\t<li>-3.465</li>\n",
       "\t<li>-3.561</li>\n",
       "\t<li>-3.291</li>\n",
       "\t<li>-3.259</li>\n",
       "</ol>\n"
      ],
      "text/latex": [
       "\\begin{enumerate*}\n",
       "\\item -2.84\n",
       "\\item -2.95\n",
       "\\item -2.845\n",
       "\\item -2.635\n",
       "\\item -2.825\n",
       "\\item -2.475\n",
       "\\item -2.73\n",
       "\\item -2.805\n",
       "\\item -3.4375\n",
       "\\item -4.08649999999999\n",
       "\\item -3.50149999999999\n",
       "\\item -3.26399999999999\n",
       "\\item -3.465\n",
       "\\item -3.561\n",
       "\\item -3.291\n",
       "\\item -3.259\n",
       "\\end{enumerate*}\n"
      ],
      "text/markdown": [
       "1. -2.84\n",
       "2. -2.95\n",
       "3. -2.845\n",
       "4. -2.635\n",
       "5. -2.825\n",
       "6. -2.475\n",
       "7. -2.73\n",
       "8. -2.805\n",
       "9. -3.4375\n",
       "10. -4.08649999999999\n",
       "11. -3.50149999999999\n",
       "12. -3.26399999999999\n",
       "13. -3.465\n",
       "14. -3.561\n",
       "15. -3.291\n",
       "16. -3.259\n",
       "\n",
       "\n"
      ],
      "text/plain": [
       " [1] -2.8400 -2.9500 -2.8450 -2.6350 -2.8250 -2.4750 -2.7300 -2.8050 -3.4375\n",
       "[10] -4.0865 -3.5015 -3.2640 -3.4650 -3.5610 -3.2910 -3.2590"
      ]
     },
     "metadata": {},
     "output_type": "display_data"
    }
   ],
   "source": [
    " mainEfficiency %>% mutate(calc = 'main')"
   ]
  },
  {
   "cell_type": "code",
   "execution_count": 247,
   "metadata": {},
   "outputs": [
    {
     "data": {
      "text/html": [
       "<ol class=list-inline>\n",
       "\t<li>124.963819022519</li>\n",
       "\t<li>118.264472839749</li>\n",
       "\t<li>124.643495832056</li>\n",
       "\t<li>139.610939151508</li>\n",
       "\t<li>125.934369168801</li>\n",
       "\t<li>153.536449397011</li>\n",
       "\t<li>132.434380083104</li>\n",
       "\t<li>127.251228082095</li>\n",
       "\t<li>95.3930404689612</li>\n",
       "\t<li>75.6742813062568</li>\n",
       "\t<li>93.0153680077127</li>\n",
       "\t<li>102.475532130952</li>\n",
       "\t<li>94.3570455201769</li>\n",
       "\t<li>90.9061829958126</li>\n",
       "\t<li>101.307061487083</li>\n",
       "\t<li>102.694791809504</li>\n",
       "</ol>\n"
      ],
      "text/latex": [
       "\\begin{enumerate*}\n",
       "\\item 124.963819022519\n",
       "\\item 118.264472839749\n",
       "\\item 124.643495832056\n",
       "\\item 139.610939151508\n",
       "\\item 125.934369168801\n",
       "\\item 153.536449397011\n",
       "\\item 132.434380083104\n",
       "\\item 127.251228082095\n",
       "\\item 95.3930404689612\n",
       "\\item 75.6742813062568\n",
       "\\item 93.0153680077127\n",
       "\\item 102.475532130952\n",
       "\\item 94.3570455201769\n",
       "\\item 90.9061829958126\n",
       "\\item 101.307061487083\n",
       "\\item 102.694791809504\n",
       "\\end{enumerate*}\n"
      ],
      "text/markdown": [
       "1. 124.963819022519\n",
       "2. 118.264472839749\n",
       "3. 124.643495832056\n",
       "4. 139.610939151508\n",
       "5. 125.934369168801\n",
       "6. 153.536449397011\n",
       "7. 132.434380083104\n",
       "8. 127.251228082095\n",
       "9. 95.3930404689612\n",
       "10. 75.6742813062568\n",
       "11. 93.0153680077127\n",
       "12. 102.475532130952\n",
       "13. 94.3570455201769\n",
       "14. 90.9061829958126\n",
       "15. 101.307061487083\n",
       "16. 102.694791809504\n",
       "\n",
       "\n"
      ],
      "text/plain": [
       " [1] 124.96382 118.26447 124.64350 139.61094 125.93437 153.53645 132.43438\n",
       " [8] 127.25123  95.39304  75.67428  93.01537 102.47553  94.35705  90.90618\n",
       "[15] 101.30706 102.69479"
      ]
     },
     "metadata": {},
     "output_type": "display_data"
    }
   ],
   "source": [
    "(10^(-1/smallEfficiency$estimate)-1)*100"
   ]
  },
  {
   "cell_type": "code",
   "execution_count": 248,
   "metadata": {},
   "outputs": [
    {
     "data": {
      "text/html": [
       "<table>\n",
       "<thead><tr><th scope=col>Sample</th><th scope=col>term</th><th scope=col>estimate</th><th scope=col>std.error</th><th scope=col>statistic</th><th scope=col>p.value</th><th scope=col>Efficiency</th></tr></thead>\n",
       "<tbody>\n",
       "\t<tr><td>Cbut_Mic             </td><td>log10(Dilution)      </td><td>-2.8400              </td><td>0.051961524          </td><td>  -54.65583          </td><td>0.0116464941         </td><td>124.96382            </td></tr>\n",
       "\t<tr><td>Cbut 2_Mic           </td><td>log10(Dilution)      </td><td>-2.9500              </td><td>0.005773503          </td><td> -510.95499          </td><td>0.0012459394         </td><td>118.26447            </td></tr>\n",
       "\t<tr><td>EcNissle_Mic         </td><td>log10(Dilution)      </td><td>-2.8450              </td><td>0.014433757          </td><td> -197.10738          </td><td>0.0032297842         </td><td>124.64350            </td></tr>\n",
       "\t<tr><td>EcNissle2_Mic        </td><td>log10(Dilution)      </td><td>-2.6350              </td><td>0.095262794          </td><td>  -27.66033          </td><td>0.0230056080         </td><td>139.61094            </td></tr>\n",
       "\t<tr><td>Fvarium_Mic          </td><td>log10(Dilution)      </td><td>-2.8250              </td><td>0.008660254          </td><td> -326.20290          </td><td>0.0019516006         </td><td>125.93437            </td></tr>\n",
       "\t<tr><td>Fvarium 2_Mic        </td><td>log10(Dilution)      </td><td>-2.4750              </td><td>0.025980762          </td><td>  -95.26279          </td><td>0.0066825290         </td><td>153.53645            </td></tr>\n",
       "\t<tr><td>Pcopri_Mic           </td><td>log10(Dilution)      </td><td>-2.7300              </td><td>0.040414519          </td><td>  -67.54998          </td><td>0.0094237372         </td><td>132.43438            </td></tr>\n",
       "\t<tr><td>Pcopri2_Mic          </td><td>log10(Dilution)      </td><td>-2.8050              </td><td>0.008660254          </td><td> -323.89350          </td><td>0.0019655157         </td><td>127.25123            </td></tr>\n",
       "\t<tr><td>Cbut_Quantstudio     </td><td>log10(Dilution)      </td><td>-3.4375              </td><td>0.025692087          </td><td> -133.79606          </td><td>0.0047580468         </td><td> 95.39304            </td></tr>\n",
       "\t<tr><td>Cbut 2_Quantstudio   </td><td>log10(Dilution)      </td><td>-4.0865              </td><td>0.153863847          </td><td>  -26.55920          </td><td>0.0239585265         </td><td> 75.67428            </td></tr>\n",
       "\t<tr><td>EcNissle_Quantstudio </td><td>log10(Dilution)      </td><td>-3.5015              </td><td>0.187350162          </td><td>  -18.68960          </td><td>0.0340303282         </td><td> 93.01537            </td></tr>\n",
       "\t<tr><td>EcNissle2_Quantstudio</td><td>log10(Dilution)      </td><td>-3.2640              </td><td>0.093530744          </td><td>  -34.89762          </td><td>0.0182375096         </td><td>102.47553            </td></tr>\n",
       "\t<tr><td>Fvarium_Quantstudio  </td><td>log10(Dilution)      </td><td>-3.4650              </td><td>0.003464102          </td><td>-1000.25934          </td><td>0.0006364545         </td><td> 94.35705            </td></tr>\n",
       "\t<tr><td>Fvarium 2_Quantstudio</td><td>log10(Dilution)      </td><td>-3.5610              </td><td>0.004618802          </td><td> -770.97912          </td><td>0.0008257285         </td><td> 90.90618            </td></tr>\n",
       "\t<tr><td>Pcopri_Quantstudio   </td><td>log10(Dilution)      </td><td>-3.2910              </td><td>0.021939310          </td><td> -150.00472          </td><td>0.0042439355         </td><td>101.30706            </td></tr>\n",
       "\t<tr><td>Pcopri2_Quantstudio  </td><td>log10(Dilution)      </td><td>-3.2590              </td><td>0.021361960          </td><td> -152.56091          </td><td>0.0041728295         </td><td>102.69479            </td></tr>\n",
       "</tbody>\n",
       "</table>\n"
      ],
      "text/latex": [
       "\\begin{tabular}{r|lllllll}\n",
       " Sample & term & estimate & std.error & statistic & p.value & Efficiency\\\\\n",
       "\\hline\n",
       "\t Cbut\\_Mic              & log10(Dilution)         & -2.8400                 & 0.051961524             &   -54.65583             & 0.0116464941            & 124.96382              \\\\\n",
       "\t Cbut 2\\_Mic            & log10(Dilution)         & -2.9500                 & 0.005773503             &  -510.95499             & 0.0012459394            & 118.26447              \\\\\n",
       "\t EcNissle\\_Mic          & log10(Dilution)         & -2.8450                 & 0.014433757             &  -197.10738             & 0.0032297842            & 124.64350              \\\\\n",
       "\t EcNissle2\\_Mic         & log10(Dilution)         & -2.6350                 & 0.095262794             &   -27.66033             & 0.0230056080            & 139.61094              \\\\\n",
       "\t Fvarium\\_Mic           & log10(Dilution)         & -2.8250                 & 0.008660254             &  -326.20290             & 0.0019516006            & 125.93437              \\\\\n",
       "\t Fvarium 2\\_Mic         & log10(Dilution)         & -2.4750                 & 0.025980762             &   -95.26279             & 0.0066825290            & 153.53645              \\\\\n",
       "\t Pcopri\\_Mic            & log10(Dilution)         & -2.7300                 & 0.040414519             &   -67.54998             & 0.0094237372            & 132.43438              \\\\\n",
       "\t Pcopri2\\_Mic           & log10(Dilution)         & -2.8050                 & 0.008660254             &  -323.89350             & 0.0019655157            & 127.25123              \\\\\n",
       "\t Cbut\\_Quantstudio      & log10(Dilution)         & -3.4375                 & 0.025692087             &  -133.79606             & 0.0047580468            &  95.39304              \\\\\n",
       "\t Cbut 2\\_Quantstudio    & log10(Dilution)         & -4.0865                 & 0.153863847             &   -26.55920             & 0.0239585265            &  75.67428              \\\\\n",
       "\t EcNissle\\_Quantstudio  & log10(Dilution)         & -3.5015                 & 0.187350162             &   -18.68960             & 0.0340303282            &  93.01537              \\\\\n",
       "\t EcNissle2\\_Quantstudio & log10(Dilution)         & -3.2640                 & 0.093530744             &   -34.89762             & 0.0182375096            & 102.47553              \\\\\n",
       "\t Fvarium\\_Quantstudio   & log10(Dilution)         & -3.4650                 & 0.003464102             & -1000.25934             & 0.0006364545            &  94.35705              \\\\\n",
       "\t Fvarium 2\\_Quantstudio & log10(Dilution)         & -3.5610                 & 0.004618802             &  -770.97912             & 0.0008257285            &  90.90618              \\\\\n",
       "\t Pcopri\\_Quantstudio    & log10(Dilution)         & -3.2910                 & 0.021939310             &  -150.00472             & 0.0042439355            & 101.30706              \\\\\n",
       "\t Pcopri2\\_Quantstudio   & log10(Dilution)         & -3.2590                 & 0.021361960             &  -152.56091             & 0.0041728295            & 102.69479              \\\\\n",
       "\\end{tabular}\n"
      ],
      "text/markdown": [
       "\n",
       "Sample | term | estimate | std.error | statistic | p.value | Efficiency | \n",
       "|---|---|---|---|---|---|---|---|---|---|---|---|---|---|---|---|\n",
       "| Cbut_Mic              | log10(Dilution)       | -2.8400               | 0.051961524           |   -54.65583           | 0.0116464941          | 124.96382             | \n",
       "| Cbut 2_Mic            | log10(Dilution)       | -2.9500               | 0.005773503           |  -510.95499           | 0.0012459394          | 118.26447             | \n",
       "| EcNissle_Mic          | log10(Dilution)       | -2.8450               | 0.014433757           |  -197.10738           | 0.0032297842          | 124.64350             | \n",
       "| EcNissle2_Mic         | log10(Dilution)       | -2.6350               | 0.095262794           |   -27.66033           | 0.0230056080          | 139.61094             | \n",
       "| Fvarium_Mic           | log10(Dilution)       | -2.8250               | 0.008660254           |  -326.20290           | 0.0019516006          | 125.93437             | \n",
       "| Fvarium 2_Mic         | log10(Dilution)       | -2.4750               | 0.025980762           |   -95.26279           | 0.0066825290          | 153.53645             | \n",
       "| Pcopri_Mic            | log10(Dilution)       | -2.7300               | 0.040414519           |   -67.54998           | 0.0094237372          | 132.43438             | \n",
       "| Pcopri2_Mic           | log10(Dilution)       | -2.8050               | 0.008660254           |  -323.89350           | 0.0019655157          | 127.25123             | \n",
       "| Cbut_Quantstudio      | log10(Dilution)       | -3.4375               | 0.025692087           |  -133.79606           | 0.0047580468          |  95.39304             | \n",
       "| Cbut 2_Quantstudio    | log10(Dilution)       | -4.0865               | 0.153863847           |   -26.55920           | 0.0239585265          |  75.67428             | \n",
       "| EcNissle_Quantstudio  | log10(Dilution)       | -3.5015               | 0.187350162           |   -18.68960           | 0.0340303282          |  93.01537             | \n",
       "| EcNissle2_Quantstudio | log10(Dilution)       | -3.2640               | 0.093530744           |   -34.89762           | 0.0182375096          | 102.47553             | \n",
       "| Fvarium_Quantstudio   | log10(Dilution)       | -3.4650               | 0.003464102           | -1000.25934           | 0.0006364545          |  94.35705             | \n",
       "| Fvarium 2_Quantstudio | log10(Dilution)       | -3.5610               | 0.004618802           |  -770.97912           | 0.0008257285          |  90.90618             | \n",
       "| Pcopri_Quantstudio    | log10(Dilution)       | -3.2910               | 0.021939310           |  -150.00472           | 0.0042439355          | 101.30706             | \n",
       "| Pcopri2_Quantstudio   | log10(Dilution)       | -3.2590               | 0.021361960           |  -152.56091           | 0.0041728295          | 102.69479             | \n",
       "\n",
       "\n"
      ],
      "text/plain": [
       "   Sample                term            estimate std.error   statistic  \n",
       "1  Cbut_Mic              log10(Dilution) -2.8400  0.051961524   -54.65583\n",
       "2  Cbut 2_Mic            log10(Dilution) -2.9500  0.005773503  -510.95499\n",
       "3  EcNissle_Mic          log10(Dilution) -2.8450  0.014433757  -197.10738\n",
       "4  EcNissle2_Mic         log10(Dilution) -2.6350  0.095262794   -27.66033\n",
       "5  Fvarium_Mic           log10(Dilution) -2.8250  0.008660254  -326.20290\n",
       "6  Fvarium 2_Mic         log10(Dilution) -2.4750  0.025980762   -95.26279\n",
       "7  Pcopri_Mic            log10(Dilution) -2.7300  0.040414519   -67.54998\n",
       "8  Pcopri2_Mic           log10(Dilution) -2.8050  0.008660254  -323.89350\n",
       "9  Cbut_Quantstudio      log10(Dilution) -3.4375  0.025692087  -133.79606\n",
       "10 Cbut 2_Quantstudio    log10(Dilution) -4.0865  0.153863847   -26.55920\n",
       "11 EcNissle_Quantstudio  log10(Dilution) -3.5015  0.187350162   -18.68960\n",
       "12 EcNissle2_Quantstudio log10(Dilution) -3.2640  0.093530744   -34.89762\n",
       "13 Fvarium_Quantstudio   log10(Dilution) -3.4650  0.003464102 -1000.25934\n",
       "14 Fvarium 2_Quantstudio log10(Dilution) -3.5610  0.004618802  -770.97912\n",
       "15 Pcopri_Quantstudio    log10(Dilution) -3.2910  0.021939310  -150.00472\n",
       "16 Pcopri2_Quantstudio   log10(Dilution) -3.2590  0.021361960  -152.56091\n",
       "   p.value      Efficiency\n",
       "1  0.0116464941 124.96382 \n",
       "2  0.0012459394 118.26447 \n",
       "3  0.0032297842 124.64350 \n",
       "4  0.0230056080 139.61094 \n",
       "5  0.0019516006 125.93437 \n",
       "6  0.0066825290 153.53645 \n",
       "7  0.0094237372 132.43438 \n",
       "8  0.0019655157 127.25123 \n",
       "9  0.0047580468  95.39304 \n",
       "10 0.0239585265  75.67428 \n",
       "11 0.0340303282  93.01537 \n",
       "12 0.0182375096 102.47553 \n",
       "13 0.0006364545  94.35705 \n",
       "14 0.0008257285  90.90618 \n",
       "15 0.0042439355 101.30706 \n",
       "16 0.0041728295 102.69479 "
      ]
     },
     "metadata": {},
     "output_type": "display_data"
    }
   ],
   "source": [
    "smallEfficiency %>% mutate(Efficiency = (10^(-1/smallEfficiency$estimate)-1)*100)"
   ]
  },
  {
   "cell_type": "code",
   "execution_count": 250,
   "metadata": {},
   "outputs": [],
   "source": [
    "smallEfficiency = smallEfficiency %>% mutate(Efficiency = (10^(-1/smallEfficiency$estimate)-1)*100)"
   ]
  },
  {
   "cell_type": "code",
   "execution_count": 251,
   "metadata": {},
   "outputs": [],
   "source": [
    "mainEfficiency = mainEfficiency %>% mutate(Efficiency = (10^(-1/mainEfficiency$estimate)-1)*100)"
   ]
  },
  {
   "cell_type": "code",
   "execution_count": 252,
   "metadata": {},
   "outputs": [
    {
     "data": {
      "text/html": [
       "<table>\n",
       "<thead><tr><th scope=col>Sample</th><th scope=col>term</th><th scope=col>estimate</th><th scope=col>std.error</th><th scope=col>statistic</th><th scope=col>p.value</th><th scope=col>Efficiency</th></tr></thead>\n",
       "<tbody>\n",
       "\t<tr><td>Cbut_Mic             </td><td>log10(Dilution)      </td><td>-2.9370              </td><td>0.03776683           </td><td> -77.76666           </td><td>4.686321e-06         </td><td>119.01985            </td></tr>\n",
       "\t<tr><td>Cbut 2_Mic           </td><td>log10(Dilution)      </td><td>-3.0520              </td><td>0.03046309           </td><td>-100.18681           </td><td>2.192216e-06         </td><td>112.64442            </td></tr>\n",
       "\t<tr><td>EcNissle_Mic         </td><td>log10(Dilution)      </td><td>-2.9170              </td><td>0.02162560           </td><td>-134.88642           </td><td>8.984215e-07         </td><td>120.20033            </td></tr>\n",
       "\t<tr><td>EcNissle2_Mic        </td><td>log10(Dilution)      </td><td>-2.8280              </td><td>0.06106827           </td><td> -46.30883           </td><td>2.216924e-05         </td><td>125.73910            </td></tr>\n",
       "\t<tr><td>Fvarium_Mic          </td><td>log10(Dilution)      </td><td>-2.9830              </td><td>0.05113055           </td><td> -58.34085           </td><td>1.109413e-05         </td><td>116.38791            </td></tr>\n",
       "\t<tr><td>Fvarium 2_Mic        </td><td>log10(Dilution)      </td><td>-2.6660              </td><td>0.06385400           </td><td> -41.75150           </td><td>3.023838e-05         </td><td>137.18858            </td></tr>\n",
       "\t<tr><td>Pcopri_Mic           </td><td>log10(Dilution)      </td><td>-2.7410              </td><td>0.02470493           </td><td>-110.94954           </td><td>1.614237e-06         </td><td>131.64896            </td></tr>\n",
       "\t<tr><td>Pcopri2_Mic          </td><td>log10(Dilution)      </td><td>-2.6930              </td><td>0.03530345           </td><td> -76.28150           </td><td>4.965287e-06         </td><td>135.14356            </td></tr>\n",
       "\t<tr><td>Cbut_Quantstudio     </td><td>log10(Dilution)      </td><td>-3.5069              </td><td>0.02670649           </td><td>-131.31265           </td><td>9.737791e-07         </td><td> 92.82002            </td></tr>\n",
       "\t<tr><td>Cbut 2_Quantstudio   </td><td>log10(Dilution)      </td><td>-4.0438              </td><td>0.05476093           </td><td> -73.84461           </td><td>5.473028e-06         </td><td> 76.72262            </td></tr>\n",
       "\t<tr><td>EcNissle_Quantstudio </td><td>log10(Dilution)      </td><td>-3.4843              </td><td>0.06204415           </td><td> -56.15840           </td><td>1.243744e-05         </td><td> 93.64295            </td></tr>\n",
       "\t<tr><td>EcNissle2_Quantstudio</td><td>log10(Dilution)      </td><td>-3.4087              </td><td>0.06077288           </td><td> -56.08916           </td><td>1.248352e-05         </td><td> 96.50200            </td></tr>\n",
       "\t<tr><td>Fvarium_Quantstudio  </td><td>log10(Dilution)      </td><td>-3.4308              </td><td>0.01473363           </td><td>-232.85496           </td><td>1.746568e-07         </td><td> 95.64881            </td></tr>\n",
       "\t<tr><td>Fvarium 2_Quantstudio</td><td>log10(Dilution)      </td><td>-3.5450              </td><td>0.01353514           </td><td>-261.91086           </td><td>1.227404e-07         </td><td> 91.46414            </td></tr>\n",
       "\t<tr><td>Pcopri_Quantstudio   </td><td>log10(Dilution)      </td><td>-3.3890              </td><td>0.02985297           </td><td>-113.52303           </td><td>1.506945e-06         </td><td> 97.27511            </td></tr>\n",
       "\t<tr><td>Pcopri2_Quantstudio  </td><td>log10(Dilution)      </td><td>-3.3405              </td><td>0.02483190           </td><td>-134.52453           </td><td>9.056906e-07         </td><td> 99.23076            </td></tr>\n",
       "</tbody>\n",
       "</table>\n"
      ],
      "text/latex": [
       "\\begin{tabular}{r|lllllll}\n",
       " Sample & term & estimate & std.error & statistic & p.value & Efficiency\\\\\n",
       "\\hline\n",
       "\t Cbut\\_Mic              & log10(Dilution)         & -2.9370                 & 0.03776683              &  -77.76666              & 4.686321e-06            & 119.01985              \\\\\n",
       "\t Cbut 2\\_Mic            & log10(Dilution)         & -3.0520                 & 0.03046309              & -100.18681              & 2.192216e-06            & 112.64442              \\\\\n",
       "\t EcNissle\\_Mic          & log10(Dilution)         & -2.9170                 & 0.02162560              & -134.88642              & 8.984215e-07            & 120.20033              \\\\\n",
       "\t EcNissle2\\_Mic         & log10(Dilution)         & -2.8280                 & 0.06106827              &  -46.30883              & 2.216924e-05            & 125.73910              \\\\\n",
       "\t Fvarium\\_Mic           & log10(Dilution)         & -2.9830                 & 0.05113055              &  -58.34085              & 1.109413e-05            & 116.38791              \\\\\n",
       "\t Fvarium 2\\_Mic         & log10(Dilution)         & -2.6660                 & 0.06385400              &  -41.75150              & 3.023838e-05            & 137.18858              \\\\\n",
       "\t Pcopri\\_Mic            & log10(Dilution)         & -2.7410                 & 0.02470493              & -110.94954              & 1.614237e-06            & 131.64896              \\\\\n",
       "\t Pcopri2\\_Mic           & log10(Dilution)         & -2.6930                 & 0.03530345              &  -76.28150              & 4.965287e-06            & 135.14356              \\\\\n",
       "\t Cbut\\_Quantstudio      & log10(Dilution)         & -3.5069                 & 0.02670649              & -131.31265              & 9.737791e-07            &  92.82002              \\\\\n",
       "\t Cbut 2\\_Quantstudio    & log10(Dilution)         & -4.0438                 & 0.05476093              &  -73.84461              & 5.473028e-06            &  76.72262              \\\\\n",
       "\t EcNissle\\_Quantstudio  & log10(Dilution)         & -3.4843                 & 0.06204415              &  -56.15840              & 1.243744e-05            &  93.64295              \\\\\n",
       "\t EcNissle2\\_Quantstudio & log10(Dilution)         & -3.4087                 & 0.06077288              &  -56.08916              & 1.248352e-05            &  96.50200              \\\\\n",
       "\t Fvarium\\_Quantstudio   & log10(Dilution)         & -3.4308                 & 0.01473363              & -232.85496              & 1.746568e-07            &  95.64881              \\\\\n",
       "\t Fvarium 2\\_Quantstudio & log10(Dilution)         & -3.5450                 & 0.01353514              & -261.91086              & 1.227404e-07            &  91.46414              \\\\\n",
       "\t Pcopri\\_Quantstudio    & log10(Dilution)         & -3.3890                 & 0.02985297              & -113.52303              & 1.506945e-06            &  97.27511              \\\\\n",
       "\t Pcopri2\\_Quantstudio   & log10(Dilution)         & -3.3405                 & 0.02483190              & -134.52453              & 9.056906e-07            &  99.23076              \\\\\n",
       "\\end{tabular}\n"
      ],
      "text/markdown": [
       "\n",
       "Sample | term | estimate | std.error | statistic | p.value | Efficiency | \n",
       "|---|---|---|---|---|---|---|---|---|---|---|---|---|---|---|---|\n",
       "| Cbut_Mic              | log10(Dilution)       | -2.9370               | 0.03776683            |  -77.76666            | 4.686321e-06          | 119.01985             | \n",
       "| Cbut 2_Mic            | log10(Dilution)       | -3.0520               | 0.03046309            | -100.18681            | 2.192216e-06          | 112.64442             | \n",
       "| EcNissle_Mic          | log10(Dilution)       | -2.9170               | 0.02162560            | -134.88642            | 8.984215e-07          | 120.20033             | \n",
       "| EcNissle2_Mic         | log10(Dilution)       | -2.8280               | 0.06106827            |  -46.30883            | 2.216924e-05          | 125.73910             | \n",
       "| Fvarium_Mic           | log10(Dilution)       | -2.9830               | 0.05113055            |  -58.34085            | 1.109413e-05          | 116.38791             | \n",
       "| Fvarium 2_Mic         | log10(Dilution)       | -2.6660               | 0.06385400            |  -41.75150            | 3.023838e-05          | 137.18858             | \n",
       "| Pcopri_Mic            | log10(Dilution)       | -2.7410               | 0.02470493            | -110.94954            | 1.614237e-06          | 131.64896             | \n",
       "| Pcopri2_Mic           | log10(Dilution)       | -2.6930               | 0.03530345            |  -76.28150            | 4.965287e-06          | 135.14356             | \n",
       "| Cbut_Quantstudio      | log10(Dilution)       | -3.5069               | 0.02670649            | -131.31265            | 9.737791e-07          |  92.82002             | \n",
       "| Cbut 2_Quantstudio    | log10(Dilution)       | -4.0438               | 0.05476093            |  -73.84461            | 5.473028e-06          |  76.72262             | \n",
       "| EcNissle_Quantstudio  | log10(Dilution)       | -3.4843               | 0.06204415            |  -56.15840            | 1.243744e-05          |  93.64295             | \n",
       "| EcNissle2_Quantstudio | log10(Dilution)       | -3.4087               | 0.06077288            |  -56.08916            | 1.248352e-05          |  96.50200             | \n",
       "| Fvarium_Quantstudio   | log10(Dilution)       | -3.4308               | 0.01473363            | -232.85496            | 1.746568e-07          |  95.64881             | \n",
       "| Fvarium 2_Quantstudio | log10(Dilution)       | -3.5450               | 0.01353514            | -261.91086            | 1.227404e-07          |  91.46414             | \n",
       "| Pcopri_Quantstudio    | log10(Dilution)       | -3.3890               | 0.02985297            | -113.52303            | 1.506945e-06          |  97.27511             | \n",
       "| Pcopri2_Quantstudio   | log10(Dilution)       | -3.3405               | 0.02483190            | -134.52453            | 9.056906e-07          |  99.23076             | \n",
       "\n",
       "\n"
      ],
      "text/plain": [
       "   Sample                term            estimate std.error  statistic \n",
       "1  Cbut_Mic              log10(Dilution) -2.9370  0.03776683  -77.76666\n",
       "2  Cbut 2_Mic            log10(Dilution) -3.0520  0.03046309 -100.18681\n",
       "3  EcNissle_Mic          log10(Dilution) -2.9170  0.02162560 -134.88642\n",
       "4  EcNissle2_Mic         log10(Dilution) -2.8280  0.06106827  -46.30883\n",
       "5  Fvarium_Mic           log10(Dilution) -2.9830  0.05113055  -58.34085\n",
       "6  Fvarium 2_Mic         log10(Dilution) -2.6660  0.06385400  -41.75150\n",
       "7  Pcopri_Mic            log10(Dilution) -2.7410  0.02470493 -110.94954\n",
       "8  Pcopri2_Mic           log10(Dilution) -2.6930  0.03530345  -76.28150\n",
       "9  Cbut_Quantstudio      log10(Dilution) -3.5069  0.02670649 -131.31265\n",
       "10 Cbut 2_Quantstudio    log10(Dilution) -4.0438  0.05476093  -73.84461\n",
       "11 EcNissle_Quantstudio  log10(Dilution) -3.4843  0.06204415  -56.15840\n",
       "12 EcNissle2_Quantstudio log10(Dilution) -3.4087  0.06077288  -56.08916\n",
       "13 Fvarium_Quantstudio   log10(Dilution) -3.4308  0.01473363 -232.85496\n",
       "14 Fvarium 2_Quantstudio log10(Dilution) -3.5450  0.01353514 -261.91086\n",
       "15 Pcopri_Quantstudio    log10(Dilution) -3.3890  0.02985297 -113.52303\n",
       "16 Pcopri2_Quantstudio   log10(Dilution) -3.3405  0.02483190 -134.52453\n",
       "   p.value      Efficiency\n",
       "1  4.686321e-06 119.01985 \n",
       "2  2.192216e-06 112.64442 \n",
       "3  8.984215e-07 120.20033 \n",
       "4  2.216924e-05 125.73910 \n",
       "5  1.109413e-05 116.38791 \n",
       "6  3.023838e-05 137.18858 \n",
       "7  1.614237e-06 131.64896 \n",
       "8  4.965287e-06 135.14356 \n",
       "9  9.737791e-07  92.82002 \n",
       "10 5.473028e-06  76.72262 \n",
       "11 1.243744e-05  93.64295 \n",
       "12 1.248352e-05  96.50200 \n",
       "13 1.746568e-07  95.64881 \n",
       "14 1.227404e-07  91.46414 \n",
       "15 1.506945e-06  97.27511 \n",
       "16 9.056906e-07  99.23076 "
      ]
     },
     "metadata": {},
     "output_type": "display_data"
    }
   ],
   "source": [
    "mainEfficiency"
   ]
  },
  {
   "cell_type": "code",
   "execution_count": 272,
   "metadata": {},
   "outputs": [
    {
     "data": {},
     "metadata": {},
     "output_type": "display_data"
    },
    {
     "data": {
      "image/png": "[encoded data removed]",
      "text/plain": [
       "plot without title"
      ]
     },
     "metadata": {},
     "output_type": "display_data",
     "source": "R display func"
    }
   ],
   "source": [
    "ggplot(data = datalong, aes(x = Dilution, y= Ct, color = Sample)) + \n",
    "geom_point()+\n",
    "scale_x_log10() "
   ]
  },
  {
   "cell_type": "code",
   "execution_count": 255,
   "metadata": {},
   "outputs": [
    {
     "data": {
      "text/html": [
       "<table>\n",
       "<thead><tr><th scope=col>Sample</th><th scope=col>Dilution</th><th scope=col>Machine</th><th scope=col>Ct</th></tr></thead>\n",
       "<tbody>\n",
       "\t<tr><td>Cbut     </td><td>1e+00    </td><td>Mic      </td><td>11.21    </td></tr>\n",
       "\t<tr><td>Cbut     </td><td>1e-01    </td><td>Mic      </td><td>14.01    </td></tr>\n",
       "\t<tr><td>Cbut     </td><td>1e-02    </td><td>Mic      </td><td>17.23    </td></tr>\n",
       "\t<tr><td>Cbut     </td><td>1e-03    </td><td>Mic      </td><td>19.98    </td></tr>\n",
       "\t<tr><td>Cbut     </td><td>1e-04    </td><td>Mic      </td><td>22.91    </td></tr>\n",
       "\t<tr><td>Cbut 2   </td><td>1e+00    </td><td>Mic      </td><td>10.28    </td></tr>\n",
       "\t<tr><td>Cbut 2   </td><td>1e-01    </td><td>Mic      </td><td>13.30    </td></tr>\n",
       "\t<tr><td>Cbut 2   </td><td>1e-02    </td><td>Mic      </td><td>16.54    </td></tr>\n",
       "\t<tr><td>Cbut 2   </td><td>1e-03    </td><td>Mic      </td><td>19.50    </td></tr>\n",
       "\t<tr><td>Cbut 2   </td><td>1e-04    </td><td>Mic      </td><td>22.44    </td></tr>\n",
       "\t<tr><td>EcNissle </td><td>1e+00    </td><td>Mic      </td><td> 9.53    </td></tr>\n",
       "\t<tr><td>EcNissle </td><td>1e-01    </td><td>Mic      </td><td>12.43    </td></tr>\n",
       "\t<tr><td>EcNissle </td><td>1e-02    </td><td>Mic      </td><td>15.47    </td></tr>\n",
       "\t<tr><td>EcNissle </td><td>1e-03    </td><td>Mic      </td><td>18.34    </td></tr>\n",
       "\t<tr><td>EcNissle </td><td>1e-04    </td><td>Mic      </td><td>21.16    </td></tr>\n",
       "\t<tr><td>EcNissle2</td><td>1e+00    </td><td>Mic      </td><td>10.12    </td></tr>\n",
       "\t<tr><td>EcNissle2</td><td>1e-01    </td><td>Mic      </td><td>13.03    </td></tr>\n",
       "\t<tr><td>EcNissle2</td><td>1e-02    </td><td>Mic      </td><td>16.18    </td></tr>\n",
       "\t<tr><td>EcNissle2</td><td>1e-03    </td><td>Mic      </td><td>18.65    </td></tr>\n",
       "\t<tr><td>EcNissle2</td><td>1e-04    </td><td>Mic      </td><td>21.45    </td></tr>\n",
       "\t<tr><td>Fvarium  </td><td>1e+00    </td><td>Mic      </td><td> 8.32    </td></tr>\n",
       "\t<tr><td>Fvarium  </td><td>1e-01    </td><td>Mic      </td><td>11.17    </td></tr>\n",
       "\t<tr><td>Fvarium  </td><td>1e-02    </td><td>Mic      </td><td>14.50    </td></tr>\n",
       "\t<tr><td>Fvarium  </td><td>1e-03    </td><td>Mic      </td><td>17.34    </td></tr>\n",
       "\t<tr><td>Fvarium  </td><td>1e-04    </td><td>Mic      </td><td>20.15    </td></tr>\n",
       "\t<tr><td>Fvarium 2</td><td>1e+00    </td><td>Mic      </td><td> 7.20    </td></tr>\n",
       "\t<tr><td>Fvarium 2</td><td>1e-01    </td><td>Mic      </td><td>10.15    </td></tr>\n",
       "\t<tr><td>Fvarium 2</td><td>1e-02    </td><td>Mic      </td><td>12.96    </td></tr>\n",
       "\t<tr><td>Fvarium 2</td><td>1e-03    </td><td>Mic      </td><td>15.39    </td></tr>\n",
       "\t<tr><td>Fvarium 2</td><td>1e-04    </td><td>Mic      </td><td>17.91    </td></tr>\n",
       "\t<tr><td>⋮</td><td>⋮</td><td>⋮</td><td>⋮</td></tr>\n",
       "\t<tr><td>EcNissle   </td><td>1e+00      </td><td>Quantstudio</td><td>12.835     </td></tr>\n",
       "\t<tr><td>EcNissle   </td><td>1e-01      </td><td>Quantstudio</td><td>16.026     </td></tr>\n",
       "\t<tr><td>EcNissle   </td><td>1e-02      </td><td>Quantstudio</td><td>19.569     </td></tr>\n",
       "\t<tr><td>EcNissle   </td><td>1e-03      </td><td>Quantstudio</td><td>23.395     </td></tr>\n",
       "\t<tr><td>EcNissle   </td><td>1e-04      </td><td>Quantstudio</td><td>26.572     </td></tr>\n",
       "\t<tr><td>EcNissle2  </td><td>1e+00      </td><td>Quantstudio</td><td>12.366     </td></tr>\n",
       "\t<tr><td>EcNissle2  </td><td>1e-01      </td><td>Quantstudio</td><td>16.088     </td></tr>\n",
       "\t<tr><td>EcNissle2  </td><td>1e-02      </td><td>Quantstudio</td><td>19.475     </td></tr>\n",
       "\t<tr><td>EcNissle2  </td><td>1e-03      </td><td>Quantstudio</td><td>22.901     </td></tr>\n",
       "\t<tr><td>EcNissle2  </td><td>1e-04      </td><td>Quantstudio</td><td>26.003     </td></tr>\n",
       "\t<tr><td>Fvarium    </td><td>1e+00      </td><td>Quantstudio</td><td>11.971     </td></tr>\n",
       "\t<tr><td>Fvarium    </td><td>1e-01      </td><td>Quantstudio</td><td>15.475     </td></tr>\n",
       "\t<tr><td>Fvarium    </td><td>1e-02      </td><td>Quantstudio</td><td>18.802     </td></tr>\n",
       "\t<tr><td>Fvarium    </td><td>1e-03      </td><td>Quantstudio</td><td>22.261     </td></tr>\n",
       "\t<tr><td>Fvarium    </td><td>1e-04      </td><td>Quantstudio</td><td>25.732     </td></tr>\n",
       "\t<tr><td>Fvarium 2  </td><td>1e+00      </td><td>Quantstudio</td><td>12.327     </td></tr>\n",
       "\t<tr><td>Fvarium 2  </td><td>1e-01      </td><td>Quantstudio</td><td>15.773     </td></tr>\n",
       "\t<tr><td>Fvarium 2  </td><td>1e-02      </td><td>Quantstudio</td><td>19.360     </td></tr>\n",
       "\t<tr><td>Fvarium 2  </td><td>1e-03      </td><td>Quantstudio</td><td>22.913     </td></tr>\n",
       "\t<tr><td>Fvarium 2  </td><td>1e-04      </td><td>Quantstudio</td><td>26.482     </td></tr>\n",
       "\t<tr><td>Pcopri     </td><td>1e+00      </td><td>Quantstudio</td><td>13.874     </td></tr>\n",
       "\t<tr><td>Pcopri     </td><td>1e-01      </td><td>Quantstudio</td><td>17.230     </td></tr>\n",
       "\t<tr><td>Pcopri     </td><td>1e-02      </td><td>Quantstudio</td><td>20.817     </td></tr>\n",
       "\t<tr><td>Pcopri     </td><td>1e-03      </td><td>Quantstudio</td><td>24.070     </td></tr>\n",
       "\t<tr><td>Pcopri     </td><td>1e-04      </td><td>Quantstudio</td><td>27.399     </td></tr>\n",
       "\t<tr><td>Pcopri2    </td><td>1e+00      </td><td>Quantstudio</td><td>13.316     </td></tr>\n",
       "\t<tr><td>Pcopri2    </td><td>1e-01      </td><td>Quantstudio</td><td>16.634     </td></tr>\n",
       "\t<tr><td>Pcopri2    </td><td>1e-02      </td><td>Quantstudio</td><td>20.113     </td></tr>\n",
       "\t<tr><td>Pcopri2    </td><td>1e-03      </td><td>Quantstudio</td><td>23.409     </td></tr>\n",
       "\t<tr><td>Pcopri2    </td><td>1e-04      </td><td>Quantstudio</td><td>26.631     </td></tr>\n",
       "</tbody>\n",
       "</table>\n"
      ],
      "text/latex": [
       "\\begin{tabular}{r|llll}\n",
       " Sample & Dilution & Machine & Ct\\\\\n",
       "\\hline\n",
       "\t Cbut      & 1e+00     & Mic       & 11.21    \\\\\n",
       "\t Cbut      & 1e-01     & Mic       & 14.01    \\\\\n",
       "\t Cbut      & 1e-02     & Mic       & 17.23    \\\\\n",
       "\t Cbut      & 1e-03     & Mic       & 19.98    \\\\\n",
       "\t Cbut      & 1e-04     & Mic       & 22.91    \\\\\n",
       "\t Cbut 2    & 1e+00     & Mic       & 10.28    \\\\\n",
       "\t Cbut 2    & 1e-01     & Mic       & 13.30    \\\\\n",
       "\t Cbut 2    & 1e-02     & Mic       & 16.54    \\\\\n",
       "\t Cbut 2    & 1e-03     & Mic       & 19.50    \\\\\n",
       "\t Cbut 2    & 1e-04     & Mic       & 22.44    \\\\\n",
       "\t EcNissle  & 1e+00     & Mic       &  9.53    \\\\\n",
       "\t EcNissle  & 1e-01     & Mic       & 12.43    \\\\\n",
       "\t EcNissle  & 1e-02     & Mic       & 15.47    \\\\\n",
       "\t EcNissle  & 1e-03     & Mic       & 18.34    \\\\\n",
       "\t EcNissle  & 1e-04     & Mic       & 21.16    \\\\\n",
       "\t EcNissle2 & 1e+00     & Mic       & 10.12    \\\\\n",
       "\t EcNissle2 & 1e-01     & Mic       & 13.03    \\\\\n",
       "\t EcNissle2 & 1e-02     & Mic       & 16.18    \\\\\n",
       "\t EcNissle2 & 1e-03     & Mic       & 18.65    \\\\\n",
       "\t EcNissle2 & 1e-04     & Mic       & 21.45    \\\\\n",
       "\t Fvarium   & 1e+00     & Mic       &  8.32    \\\\\n",
       "\t Fvarium   & 1e-01     & Mic       & 11.17    \\\\\n",
       "\t Fvarium   & 1e-02     & Mic       & 14.50    \\\\\n",
       "\t Fvarium   & 1e-03     & Mic       & 17.34    \\\\\n",
       "\t Fvarium   & 1e-04     & Mic       & 20.15    \\\\\n",
       "\t Fvarium 2 & 1e+00     & Mic       &  7.20    \\\\\n",
       "\t Fvarium 2 & 1e-01     & Mic       & 10.15    \\\\\n",
       "\t Fvarium 2 & 1e-02     & Mic       & 12.96    \\\\\n",
       "\t Fvarium 2 & 1e-03     & Mic       & 15.39    \\\\\n",
       "\t Fvarium 2 & 1e-04     & Mic       & 17.91    \\\\\n",
       "\t ⋮ & ⋮ & ⋮ & ⋮\\\\\n",
       "\t EcNissle    & 1e+00       & Quantstudio & 12.835     \\\\\n",
       "\t EcNissle    & 1e-01       & Quantstudio & 16.026     \\\\\n",
       "\t EcNissle    & 1e-02       & Quantstudio & 19.569     \\\\\n",
       "\t EcNissle    & 1e-03       & Quantstudio & 23.395     \\\\\n",
       "\t EcNissle    & 1e-04       & Quantstudio & 26.572     \\\\\n",
       "\t EcNissle2   & 1e+00       & Quantstudio & 12.366     \\\\\n",
       "\t EcNissle2   & 1e-01       & Quantstudio & 16.088     \\\\\n",
       "\t EcNissle2   & 1e-02       & Quantstudio & 19.475     \\\\\n",
       "\t EcNissle2   & 1e-03       & Quantstudio & 22.901     \\\\\n",
       "\t EcNissle2   & 1e-04       & Quantstudio & 26.003     \\\\\n",
       "\t Fvarium     & 1e+00       & Quantstudio & 11.971     \\\\\n",
       "\t Fvarium     & 1e-01       & Quantstudio & 15.475     \\\\\n",
       "\t Fvarium     & 1e-02       & Quantstudio & 18.802     \\\\\n",
       "\t Fvarium     & 1e-03       & Quantstudio & 22.261     \\\\\n",
       "\t Fvarium     & 1e-04       & Quantstudio & 25.732     \\\\\n",
       "\t Fvarium 2   & 1e+00       & Quantstudio & 12.327     \\\\\n",
       "\t Fvarium 2   & 1e-01       & Quantstudio & 15.773     \\\\\n",
       "\t Fvarium 2   & 1e-02       & Quantstudio & 19.360     \\\\\n",
       "\t Fvarium 2   & 1e-03       & Quantstudio & 22.913     \\\\\n",
       "\t Fvarium 2   & 1e-04       & Quantstudio & 26.482     \\\\\n",
       "\t Pcopri      & 1e+00       & Quantstudio & 13.874     \\\\\n",
       "\t Pcopri      & 1e-01       & Quantstudio & 17.230     \\\\\n",
       "\t Pcopri      & 1e-02       & Quantstudio & 20.817     \\\\\n",
       "\t Pcopri      & 1e-03       & Quantstudio & 24.070     \\\\\n",
       "\t Pcopri      & 1e-04       & Quantstudio & 27.399     \\\\\n",
       "\t Pcopri2     & 1e+00       & Quantstudio & 13.316     \\\\\n",
       "\t Pcopri2     & 1e-01       & Quantstudio & 16.634     \\\\\n",
       "\t Pcopri2     & 1e-02       & Quantstudio & 20.113     \\\\\n",
       "\t Pcopri2     & 1e-03       & Quantstudio & 23.409     \\\\\n",
       "\t Pcopri2     & 1e-04       & Quantstudio & 26.631     \\\\\n",
       "\\end{tabular}\n"
      ],
      "text/markdown": [
       "\n",
       "Sample | Dilution | Machine | Ct | \n",
       "|---|---|---|---|---|---|---|---|---|---|---|---|---|---|---|---|---|---|---|---|---|---|---|---|---|---|---|---|---|---|---|---|---|---|---|---|---|---|---|---|---|---|---|---|---|---|---|---|---|---|---|---|---|---|---|---|---|---|---|---|---|\n",
       "| Cbut      | 1e+00     | Mic       | 11.21     | \n",
       "| Cbut      | 1e-01     | Mic       | 14.01     | \n",
       "| Cbut      | 1e-02     | Mic       | 17.23     | \n",
       "| Cbut      | 1e-03     | Mic       | 19.98     | \n",
       "| Cbut      | 1e-04     | Mic       | 22.91     | \n",
       "| Cbut 2    | 1e+00     | Mic       | 10.28     | \n",
       "| Cbut 2    | 1e-01     | Mic       | 13.30     | \n",
       "| Cbut 2    | 1e-02     | Mic       | 16.54     | \n",
       "| Cbut 2    | 1e-03     | Mic       | 19.50     | \n",
       "| Cbut 2    | 1e-04     | Mic       | 22.44     | \n",
       "| EcNissle  | 1e+00     | Mic       |  9.53     | \n",
       "| EcNissle  | 1e-01     | Mic       | 12.43     | \n",
       "| EcNissle  | 1e-02     | Mic       | 15.47     | \n",
       "| EcNissle  | 1e-03     | Mic       | 18.34     | \n",
       "| EcNissle  | 1e-04     | Mic       | 21.16     | \n",
       "| EcNissle2 | 1e+00     | Mic       | 10.12     | \n",
       "| EcNissle2 | 1e-01     | Mic       | 13.03     | \n",
       "| EcNissle2 | 1e-02     | Mic       | 16.18     | \n",
       "| EcNissle2 | 1e-03     | Mic       | 18.65     | \n",
       "| EcNissle2 | 1e-04     | Mic       | 21.45     | \n",
       "| Fvarium   | 1e+00     | Mic       |  8.32     | \n",
       "| Fvarium   | 1e-01     | Mic       | 11.17     | \n",
       "| Fvarium   | 1e-02     | Mic       | 14.50     | \n",
       "| Fvarium   | 1e-03     | Mic       | 17.34     | \n",
       "| Fvarium   | 1e-04     | Mic       | 20.15     | \n",
       "| Fvarium 2 | 1e+00     | Mic       |  7.20     | \n",
       "| Fvarium 2 | 1e-01     | Mic       | 10.15     | \n",
       "| Fvarium 2 | 1e-02     | Mic       | 12.96     | \n",
       "| Fvarium 2 | 1e-03     | Mic       | 15.39     | \n",
       "| Fvarium 2 | 1e-04     | Mic       | 17.91     | \n",
       "| ⋮ | ⋮ | ⋮ | ⋮ | \n",
       "| EcNissle    | 1e+00       | Quantstudio | 12.835      | \n",
       "| EcNissle    | 1e-01       | Quantstudio | 16.026      | \n",
       "| EcNissle    | 1e-02       | Quantstudio | 19.569      | \n",
       "| EcNissle    | 1e-03       | Quantstudio | 23.395      | \n",
       "| EcNissle    | 1e-04       | Quantstudio | 26.572      | \n",
       "| EcNissle2   | 1e+00       | Quantstudio | 12.366      | \n",
       "| EcNissle2   | 1e-01       | Quantstudio | 16.088      | \n",
       "| EcNissle2   | 1e-02       | Quantstudio | 19.475      | \n",
       "| EcNissle2   | 1e-03       | Quantstudio | 22.901      | \n",
       "| EcNissle2   | 1e-04       | Quantstudio | 26.003      | \n",
       "| Fvarium     | 1e+00       | Quantstudio | 11.971      | \n",
       "| Fvarium     | 1e-01       | Quantstudio | 15.475      | \n",
       "| Fvarium     | 1e-02       | Quantstudio | 18.802      | \n",
       "| Fvarium     | 1e-03       | Quantstudio | 22.261      | \n",
       "| Fvarium     | 1e-04       | Quantstudio | 25.732      | \n",
       "| Fvarium 2   | 1e+00       | Quantstudio | 12.327      | \n",
       "| Fvarium 2   | 1e-01       | Quantstudio | 15.773      | \n",
       "| Fvarium 2   | 1e-02       | Quantstudio | 19.360      | \n",
       "| Fvarium 2   | 1e-03       | Quantstudio | 22.913      | \n",
       "| Fvarium 2   | 1e-04       | Quantstudio | 26.482      | \n",
       "| Pcopri      | 1e+00       | Quantstudio | 13.874      | \n",
       "| Pcopri      | 1e-01       | Quantstudio | 17.230      | \n",
       "| Pcopri      | 1e-02       | Quantstudio | 20.817      | \n",
       "| Pcopri      | 1e-03       | Quantstudio | 24.070      | \n",
       "| Pcopri      | 1e-04       | Quantstudio | 27.399      | \n",
       "| Pcopri2     | 1e+00       | Quantstudio | 13.316      | \n",
       "| Pcopri2     | 1e-01       | Quantstudio | 16.634      | \n",
       "| Pcopri2     | 1e-02       | Quantstudio | 20.113      | \n",
       "| Pcopri2     | 1e-03       | Quantstudio | 23.409      | \n",
       "| Pcopri2     | 1e-04       | Quantstudio | 26.631      | \n",
       "\n",
       "\n"
      ],
      "text/plain": [
       "   Sample    Dilution Machine     Ct    \n",
       "1  Cbut      1e+00    Mic         11.21 \n",
       "2  Cbut      1e-01    Mic         14.01 \n",
       "3  Cbut      1e-02    Mic         17.23 \n",
       "4  Cbut      1e-03    Mic         19.98 \n",
       "5  Cbut      1e-04    Mic         22.91 \n",
       "6  Cbut 2    1e+00    Mic         10.28 \n",
       "7  Cbut 2    1e-01    Mic         13.30 \n",
       "8  Cbut 2    1e-02    Mic         16.54 \n",
       "9  Cbut 2    1e-03    Mic         19.50 \n",
       "10 Cbut 2    1e-04    Mic         22.44 \n",
       "11 EcNissle  1e+00    Mic          9.53 \n",
       "12 EcNissle  1e-01    Mic         12.43 \n",
       "13 EcNissle  1e-02    Mic         15.47 \n",
       "14 EcNissle  1e-03    Mic         18.34 \n",
       "15 EcNissle  1e-04    Mic         21.16 \n",
       "16 EcNissle2 1e+00    Mic         10.12 \n",
       "17 EcNissle2 1e-01    Mic         13.03 \n",
       "18 EcNissle2 1e-02    Mic         16.18 \n",
       "19 EcNissle2 1e-03    Mic         18.65 \n",
       "20 EcNissle2 1e-04    Mic         21.45 \n",
       "21 Fvarium   1e+00    Mic          8.32 \n",
       "22 Fvarium   1e-01    Mic         11.17 \n",
       "23 Fvarium   1e-02    Mic         14.50 \n",
       "24 Fvarium   1e-03    Mic         17.34 \n",
       "25 Fvarium   1e-04    Mic         20.15 \n",
       "26 Fvarium 2 1e+00    Mic          7.20 \n",
       "27 Fvarium 2 1e-01    Mic         10.15 \n",
       "28 Fvarium 2 1e-02    Mic         12.96 \n",
       "29 Fvarium 2 1e-03    Mic         15.39 \n",
       "30 Fvarium 2 1e-04    Mic         17.91 \n",
       "⋮  ⋮         ⋮        ⋮           ⋮     \n",
       "51 EcNissle  1e+00    Quantstudio 12.835\n",
       "52 EcNissle  1e-01    Quantstudio 16.026\n",
       "53 EcNissle  1e-02    Quantstudio 19.569\n",
       "54 EcNissle  1e-03    Quantstudio 23.395\n",
       "55 EcNissle  1e-04    Quantstudio 26.572\n",
       "56 EcNissle2 1e+00    Quantstudio 12.366\n",
       "57 EcNissle2 1e-01    Quantstudio 16.088\n",
       "58 EcNissle2 1e-02    Quantstudio 19.475\n",
       "59 EcNissle2 1e-03    Quantstudio 22.901\n",
       "60 EcNissle2 1e-04    Quantstudio 26.003\n",
       "61 Fvarium   1e+00    Quantstudio 11.971\n",
       "62 Fvarium   1e-01    Quantstudio 15.475\n",
       "63 Fvarium   1e-02    Quantstudio 18.802\n",
       "64 Fvarium   1e-03    Quantstudio 22.261\n",
       "65 Fvarium   1e-04    Quantstudio 25.732\n",
       "66 Fvarium 2 1e+00    Quantstudio 12.327\n",
       "67 Fvarium 2 1e-01    Quantstudio 15.773\n",
       "68 Fvarium 2 1e-02    Quantstudio 19.360\n",
       "69 Fvarium 2 1e-03    Quantstudio 22.913\n",
       "70 Fvarium 2 1e-04    Quantstudio 26.482\n",
       "71 Pcopri    1e+00    Quantstudio 13.874\n",
       "72 Pcopri    1e-01    Quantstudio 17.230\n",
       "73 Pcopri    1e-02    Quantstudio 20.817\n",
       "74 Pcopri    1e-03    Quantstudio 24.070\n",
       "75 Pcopri    1e-04    Quantstudio 27.399\n",
       "76 Pcopri2   1e+00    Quantstudio 13.316\n",
       "77 Pcopri2   1e-01    Quantstudio 16.634\n",
       "78 Pcopri2   1e-02    Quantstudio 20.113\n",
       "79 Pcopri2   1e-03    Quantstudio 23.409\n",
       "80 Pcopri2   1e-04    Quantstudio 26.631"
      ]
     },
     "metadata": {},
     "output_type": "display_data"
    }
   ],
   "source": [
    "datalongmerge = union()"
   ]
  },
  {
   "cell_type": "code",
   "execution_count": 273,
   "metadata": {},
   "outputs": [
    {
     "data": {},
     "metadata": {},
     "output_type": "display_data"
    },
    {
     "data": {
      "image/png": "[encoded data removed]",
      "text/plain": [
       "plot without title"
      ]
     },
     "metadata": {},
     "output_type": "display_data",
     "source": "R display func"
    }
   ],
   "source": [
    "ggplot(data = datalong, aes(x = Dilution, y = Ct))+\n",
    "geom_smooth(method = lm)+\n",
    "geom_point()+\n",
    "facet_wrap(facets = 'Sample')+\n",
    "scale_x_log10()\n"
   ]
  },
  {
   "cell_type": "code",
   "execution_count": 274,
   "metadata": {},
   "outputs": [],
   "source": [
    "datalongmerge = unite(datalong, Sample, c(Sample, Machine), remove = TRUE)"
   ]
  },
  {
   "cell_type": "code",
   "execution_count": 275,
   "metadata": {},
   "outputs": [
    {
     "data": {
      "text/html": [
       "<table>\n",
       "<thead><tr><th scope=col>Sample</th><th scope=col>Dilution</th><th scope=col>Ct</th></tr></thead>\n",
       "<tbody>\n",
       "\t<tr><td>Cbut_Mic     </td><td>1e+00        </td><td>11.21        </td></tr>\n",
       "\t<tr><td>Cbut_Mic     </td><td>1e-01        </td><td>14.01        </td></tr>\n",
       "\t<tr><td>Cbut_Mic     </td><td>1e-02        </td><td>17.23        </td></tr>\n",
       "\t<tr><td>Cbut_Mic     </td><td>1e-03        </td><td>19.98        </td></tr>\n",
       "\t<tr><td>Cbut_Mic     </td><td>1e-04        </td><td>22.91        </td></tr>\n",
       "\t<tr><td>Cbut 2_Mic   </td><td>1e+00        </td><td>10.28        </td></tr>\n",
       "\t<tr><td>Cbut 2_Mic   </td><td>1e-01        </td><td>13.30        </td></tr>\n",
       "\t<tr><td>Cbut 2_Mic   </td><td>1e-02        </td><td>16.54        </td></tr>\n",
       "\t<tr><td>Cbut 2_Mic   </td><td>1e-03        </td><td>19.50        </td></tr>\n",
       "\t<tr><td>Cbut 2_Mic   </td><td>1e-04        </td><td>22.44        </td></tr>\n",
       "\t<tr><td>EcNissle_Mic </td><td>1e+00        </td><td> 9.53        </td></tr>\n",
       "\t<tr><td>EcNissle_Mic </td><td>1e-01        </td><td>12.43        </td></tr>\n",
       "\t<tr><td>EcNissle_Mic </td><td>1e-02        </td><td>15.47        </td></tr>\n",
       "\t<tr><td>EcNissle_Mic </td><td>1e-03        </td><td>18.34        </td></tr>\n",
       "\t<tr><td>EcNissle_Mic </td><td>1e-04        </td><td>21.16        </td></tr>\n",
       "\t<tr><td>EcNissle2_Mic</td><td>1e+00        </td><td>10.12        </td></tr>\n",
       "\t<tr><td>EcNissle2_Mic</td><td>1e-01        </td><td>13.03        </td></tr>\n",
       "\t<tr><td>EcNissle2_Mic</td><td>1e-02        </td><td>16.18        </td></tr>\n",
       "\t<tr><td>EcNissle2_Mic</td><td>1e-03        </td><td>18.65        </td></tr>\n",
       "\t<tr><td>EcNissle2_Mic</td><td>1e-04        </td><td>21.45        </td></tr>\n",
       "\t<tr><td>Fvarium_Mic  </td><td>1e+00        </td><td> 8.32        </td></tr>\n",
       "\t<tr><td>Fvarium_Mic  </td><td>1e-01        </td><td>11.17        </td></tr>\n",
       "\t<tr><td>Fvarium_Mic  </td><td>1e-02        </td><td>14.50        </td></tr>\n",
       "\t<tr><td>Fvarium_Mic  </td><td>1e-03        </td><td>17.34        </td></tr>\n",
       "\t<tr><td>Fvarium_Mic  </td><td>1e-04        </td><td>20.15        </td></tr>\n",
       "\t<tr><td>Fvarium 2_Mic</td><td>1e+00        </td><td> 7.20        </td></tr>\n",
       "\t<tr><td>Fvarium 2_Mic</td><td>1e-01        </td><td>10.15        </td></tr>\n",
       "\t<tr><td>Fvarium 2_Mic</td><td>1e-02        </td><td>12.96        </td></tr>\n",
       "\t<tr><td>Fvarium 2_Mic</td><td>1e-03        </td><td>15.39        </td></tr>\n",
       "\t<tr><td>Fvarium 2_Mic</td><td>1e-04        </td><td>17.91        </td></tr>\n",
       "\t<tr><td>⋮</td><td>⋮</td><td>⋮</td></tr>\n",
       "\t<tr><td>EcNissle_Quantstudio </td><td>1e+00                </td><td>12.835               </td></tr>\n",
       "\t<tr><td>EcNissle_Quantstudio </td><td>1e-01                </td><td>16.026               </td></tr>\n",
       "\t<tr><td>EcNissle_Quantstudio </td><td>1e-02                </td><td>19.569               </td></tr>\n",
       "\t<tr><td>EcNissle_Quantstudio </td><td>1e-03                </td><td>23.395               </td></tr>\n",
       "\t<tr><td>EcNissle_Quantstudio </td><td>1e-04                </td><td>26.572               </td></tr>\n",
       "\t<tr><td>EcNissle2_Quantstudio</td><td>1e+00                </td><td>12.366               </td></tr>\n",
       "\t<tr><td>EcNissle2_Quantstudio</td><td>1e-01                </td><td>16.088               </td></tr>\n",
       "\t<tr><td>EcNissle2_Quantstudio</td><td>1e-02                </td><td>19.475               </td></tr>\n",
       "\t<tr><td>EcNissle2_Quantstudio</td><td>1e-03                </td><td>22.901               </td></tr>\n",
       "\t<tr><td>EcNissle2_Quantstudio</td><td>1e-04                </td><td>26.003               </td></tr>\n",
       "\t<tr><td>Fvarium_Quantstudio  </td><td>1e+00                </td><td>11.971               </td></tr>\n",
       "\t<tr><td>Fvarium_Quantstudio  </td><td>1e-01                </td><td>15.475               </td></tr>\n",
       "\t<tr><td>Fvarium_Quantstudio  </td><td>1e-02                </td><td>18.802               </td></tr>\n",
       "\t<tr><td>Fvarium_Quantstudio  </td><td>1e-03                </td><td>22.261               </td></tr>\n",
       "\t<tr><td>Fvarium_Quantstudio  </td><td>1e-04                </td><td>25.732               </td></tr>\n",
       "\t<tr><td>Fvarium 2_Quantstudio</td><td>1e+00                </td><td>12.327               </td></tr>\n",
       "\t<tr><td>Fvarium 2_Quantstudio</td><td>1e-01                </td><td>15.773               </td></tr>\n",
       "\t<tr><td>Fvarium 2_Quantstudio</td><td>1e-02                </td><td>19.360               </td></tr>\n",
       "\t<tr><td>Fvarium 2_Quantstudio</td><td>1e-03                </td><td>22.913               </td></tr>\n",
       "\t<tr><td>Fvarium 2_Quantstudio</td><td>1e-04                </td><td>26.482               </td></tr>\n",
       "\t<tr><td>Pcopri_Quantstudio   </td><td>1e+00                </td><td>13.874               </td></tr>\n",
       "\t<tr><td>Pcopri_Quantstudio   </td><td>1e-01                </td><td>17.230               </td></tr>\n",
       "\t<tr><td>Pcopri_Quantstudio   </td><td>1e-02                </td><td>20.817               </td></tr>\n",
       "\t<tr><td>Pcopri_Quantstudio   </td><td>1e-03                </td><td>24.070               </td></tr>\n",
       "\t<tr><td>Pcopri_Quantstudio   </td><td>1e-04                </td><td>27.399               </td></tr>\n",
       "\t<tr><td>Pcopri2_Quantstudio  </td><td>1e+00                </td><td>13.316               </td></tr>\n",
       "\t<tr><td>Pcopri2_Quantstudio  </td><td>1e-01                </td><td>16.634               </td></tr>\n",
       "\t<tr><td>Pcopri2_Quantstudio  </td><td>1e-02                </td><td>20.113               </td></tr>\n",
       "\t<tr><td>Pcopri2_Quantstudio  </td><td>1e-03                </td><td>23.409               </td></tr>\n",
       "\t<tr><td>Pcopri2_Quantstudio  </td><td>1e-04                </td><td>26.631               </td></tr>\n",
       "</tbody>\n",
       "</table>\n"
      ],
      "text/latex": [
       "\\begin{tabular}{r|lll}\n",
       " Sample & Dilution & Ct\\\\\n",
       "\\hline\n",
       "\t Cbut\\_Mic      & 1e+00           & 11.21          \\\\\n",
       "\t Cbut\\_Mic      & 1e-01           & 14.01          \\\\\n",
       "\t Cbut\\_Mic      & 1e-02           & 17.23          \\\\\n",
       "\t Cbut\\_Mic      & 1e-03           & 19.98          \\\\\n",
       "\t Cbut\\_Mic      & 1e-04           & 22.91          \\\\\n",
       "\t Cbut 2\\_Mic    & 1e+00           & 10.28          \\\\\n",
       "\t Cbut 2\\_Mic    & 1e-01           & 13.30          \\\\\n",
       "\t Cbut 2\\_Mic    & 1e-02           & 16.54          \\\\\n",
       "\t Cbut 2\\_Mic    & 1e-03           & 19.50          \\\\\n",
       "\t Cbut 2\\_Mic    & 1e-04           & 22.44          \\\\\n",
       "\t EcNissle\\_Mic  & 1e+00           &  9.53          \\\\\n",
       "\t EcNissle\\_Mic  & 1e-01           & 12.43          \\\\\n",
       "\t EcNissle\\_Mic  & 1e-02           & 15.47          \\\\\n",
       "\t EcNissle\\_Mic  & 1e-03           & 18.34          \\\\\n",
       "\t EcNissle\\_Mic  & 1e-04           & 21.16          \\\\\n",
       "\t EcNissle2\\_Mic & 1e+00           & 10.12          \\\\\n",
       "\t EcNissle2\\_Mic & 1e-01           & 13.03          \\\\\n",
       "\t EcNissle2\\_Mic & 1e-02           & 16.18          \\\\\n",
       "\t EcNissle2\\_Mic & 1e-03           & 18.65          \\\\\n",
       "\t EcNissle2\\_Mic & 1e-04           & 21.45          \\\\\n",
       "\t Fvarium\\_Mic   & 1e+00           &  8.32          \\\\\n",
       "\t Fvarium\\_Mic   & 1e-01           & 11.17          \\\\\n",
       "\t Fvarium\\_Mic   & 1e-02           & 14.50          \\\\\n",
       "\t Fvarium\\_Mic   & 1e-03           & 17.34          \\\\\n",
       "\t Fvarium\\_Mic   & 1e-04           & 20.15          \\\\\n",
       "\t Fvarium 2\\_Mic & 1e+00           &  7.20          \\\\\n",
       "\t Fvarium 2\\_Mic & 1e-01           & 10.15          \\\\\n",
       "\t Fvarium 2\\_Mic & 1e-02           & 12.96          \\\\\n",
       "\t Fvarium 2\\_Mic & 1e-03           & 15.39          \\\\\n",
       "\t Fvarium 2\\_Mic & 1e-04           & 17.91          \\\\\n",
       "\t ⋮ & ⋮ & ⋮\\\\\n",
       "\t EcNissle\\_Quantstudio  & 1e+00                   & 12.835                 \\\\\n",
       "\t EcNissle\\_Quantstudio  & 1e-01                   & 16.026                 \\\\\n",
       "\t EcNissle\\_Quantstudio  & 1e-02                   & 19.569                 \\\\\n",
       "\t EcNissle\\_Quantstudio  & 1e-03                   & 23.395                 \\\\\n",
       "\t EcNissle\\_Quantstudio  & 1e-04                   & 26.572                 \\\\\n",
       "\t EcNissle2\\_Quantstudio & 1e+00                   & 12.366                 \\\\\n",
       "\t EcNissle2\\_Quantstudio & 1e-01                   & 16.088                 \\\\\n",
       "\t EcNissle2\\_Quantstudio & 1e-02                   & 19.475                 \\\\\n",
       "\t EcNissle2\\_Quantstudio & 1e-03                   & 22.901                 \\\\\n",
       "\t EcNissle2\\_Quantstudio & 1e-04                   & 26.003                 \\\\\n",
       "\t Fvarium\\_Quantstudio   & 1e+00                   & 11.971                 \\\\\n",
       "\t Fvarium\\_Quantstudio   & 1e-01                   & 15.475                 \\\\\n",
       "\t Fvarium\\_Quantstudio   & 1e-02                   & 18.802                 \\\\\n",
       "\t Fvarium\\_Quantstudio   & 1e-03                   & 22.261                 \\\\\n",
       "\t Fvarium\\_Quantstudio   & 1e-04                   & 25.732                 \\\\\n",
       "\t Fvarium 2\\_Quantstudio & 1e+00                   & 12.327                 \\\\\n",
       "\t Fvarium 2\\_Quantstudio & 1e-01                   & 15.773                 \\\\\n",
       "\t Fvarium 2\\_Quantstudio & 1e-02                   & 19.360                 \\\\\n",
       "\t Fvarium 2\\_Quantstudio & 1e-03                   & 22.913                 \\\\\n",
       "\t Fvarium 2\\_Quantstudio & 1e-04                   & 26.482                 \\\\\n",
       "\t Pcopri\\_Quantstudio    & 1e+00                   & 13.874                 \\\\\n",
       "\t Pcopri\\_Quantstudio    & 1e-01                   & 17.230                 \\\\\n",
       "\t Pcopri\\_Quantstudio    & 1e-02                   & 20.817                 \\\\\n",
       "\t Pcopri\\_Quantstudio    & 1e-03                   & 24.070                 \\\\\n",
       "\t Pcopri\\_Quantstudio    & 1e-04                   & 27.399                 \\\\\n",
       "\t Pcopri2\\_Quantstudio   & 1e+00                   & 13.316                 \\\\\n",
       "\t Pcopri2\\_Quantstudio   & 1e-01                   & 16.634                 \\\\\n",
       "\t Pcopri2\\_Quantstudio   & 1e-02                   & 20.113                 \\\\\n",
       "\t Pcopri2\\_Quantstudio   & 1e-03                   & 23.409                 \\\\\n",
       "\t Pcopri2\\_Quantstudio   & 1e-04                   & 26.631                 \\\\\n",
       "\\end{tabular}\n"
      ],
      "text/markdown": [
       "\n",
       "Sample | Dilution | Ct | \n",
       "|---|---|---|---|---|---|---|---|---|---|---|---|---|---|---|---|---|---|---|---|---|---|---|---|---|---|---|---|---|---|---|---|---|---|---|---|---|---|---|---|---|---|---|---|---|---|---|---|---|---|---|---|---|---|---|---|---|---|---|---|---|\n",
       "| Cbut_Mic      | 1e+00         | 11.21         | \n",
       "| Cbut_Mic      | 1e-01         | 14.01         | \n",
       "| Cbut_Mic      | 1e-02         | 17.23         | \n",
       "| Cbut_Mic      | 1e-03         | 19.98         | \n",
       "| Cbut_Mic      | 1e-04         | 22.91         | \n",
       "| Cbut 2_Mic    | 1e+00         | 10.28         | \n",
       "| Cbut 2_Mic    | 1e-01         | 13.30         | \n",
       "| Cbut 2_Mic    | 1e-02         | 16.54         | \n",
       "| Cbut 2_Mic    | 1e-03         | 19.50         | \n",
       "| Cbut 2_Mic    | 1e-04         | 22.44         | \n",
       "| EcNissle_Mic  | 1e+00         |  9.53         | \n",
       "| EcNissle_Mic  | 1e-01         | 12.43         | \n",
       "| EcNissle_Mic  | 1e-02         | 15.47         | \n",
       "| EcNissle_Mic  | 1e-03         | 18.34         | \n",
       "| EcNissle_Mic  | 1e-04         | 21.16         | \n",
       "| EcNissle2_Mic | 1e+00         | 10.12         | \n",
       "| EcNissle2_Mic | 1e-01         | 13.03         | \n",
       "| EcNissle2_Mic | 1e-02         | 16.18         | \n",
       "| EcNissle2_Mic | 1e-03         | 18.65         | \n",
       "| EcNissle2_Mic | 1e-04         | 21.45         | \n",
       "| Fvarium_Mic   | 1e+00         |  8.32         | \n",
       "| Fvarium_Mic   | 1e-01         | 11.17         | \n",
       "| Fvarium_Mic   | 1e-02         | 14.50         | \n",
       "| Fvarium_Mic   | 1e-03         | 17.34         | \n",
       "| Fvarium_Mic   | 1e-04         | 20.15         | \n",
       "| Fvarium 2_Mic | 1e+00         |  7.20         | \n",
       "| Fvarium 2_Mic | 1e-01         | 10.15         | \n",
       "| Fvarium 2_Mic | 1e-02         | 12.96         | \n",
       "| Fvarium 2_Mic | 1e-03         | 15.39         | \n",
       "| Fvarium 2_Mic | 1e-04         | 17.91         | \n",
       "| ⋮ | ⋮ | ⋮ | \n",
       "| EcNissle_Quantstudio  | 1e+00                 | 12.835                | \n",
       "| EcNissle_Quantstudio  | 1e-01                 | 16.026                | \n",
       "| EcNissle_Quantstudio  | 1e-02                 | 19.569                | \n",
       "| EcNissle_Quantstudio  | 1e-03                 | 23.395                | \n",
       "| EcNissle_Quantstudio  | 1e-04                 | 26.572                | \n",
       "| EcNissle2_Quantstudio | 1e+00                 | 12.366                | \n",
       "| EcNissle2_Quantstudio | 1e-01                 | 16.088                | \n",
       "| EcNissle2_Quantstudio | 1e-02                 | 19.475                | \n",
       "| EcNissle2_Quantstudio | 1e-03                 | 22.901                | \n",
       "| EcNissle2_Quantstudio | 1e-04                 | 26.003                | \n",
       "| Fvarium_Quantstudio   | 1e+00                 | 11.971                | \n",
       "| Fvarium_Quantstudio   | 1e-01                 | 15.475                | \n",
       "| Fvarium_Quantstudio   | 1e-02                 | 18.802                | \n",
       "| Fvarium_Quantstudio   | 1e-03                 | 22.261                | \n",
       "| Fvarium_Quantstudio   | 1e-04                 | 25.732                | \n",
       "| Fvarium 2_Quantstudio | 1e+00                 | 12.327                | \n",
       "| Fvarium 2_Quantstudio | 1e-01                 | 15.773                | \n",
       "| Fvarium 2_Quantstudio | 1e-02                 | 19.360                | \n",
       "| Fvarium 2_Quantstudio | 1e-03                 | 22.913                | \n",
       "| Fvarium 2_Quantstudio | 1e-04                 | 26.482                | \n",
       "| Pcopri_Quantstudio    | 1e+00                 | 13.874                | \n",
       "| Pcopri_Quantstudio    | 1e-01                 | 17.230                | \n",
       "| Pcopri_Quantstudio    | 1e-02                 | 20.817                | \n",
       "| Pcopri_Quantstudio    | 1e-03                 | 24.070                | \n",
       "| Pcopri_Quantstudio    | 1e-04                 | 27.399                | \n",
       "| Pcopri2_Quantstudio   | 1e+00                 | 13.316                | \n",
       "| Pcopri2_Quantstudio   | 1e-01                 | 16.634                | \n",
       "| Pcopri2_Quantstudio   | 1e-02                 | 20.113                | \n",
       "| Pcopri2_Quantstudio   | 1e-03                 | 23.409                | \n",
       "| Pcopri2_Quantstudio   | 1e-04                 | 26.631                | \n",
       "\n",
       "\n"
      ],
      "text/plain": [
       "   Sample                Dilution Ct    \n",
       "1  Cbut_Mic              1e+00    11.21 \n",
       "2  Cbut_Mic              1e-01    14.01 \n",
       "3  Cbut_Mic              1e-02    17.23 \n",
       "4  Cbut_Mic              1e-03    19.98 \n",
       "5  Cbut_Mic              1e-04    22.91 \n",
       "6  Cbut 2_Mic            1e+00    10.28 \n",
       "7  Cbut 2_Mic            1e-01    13.30 \n",
       "8  Cbut 2_Mic            1e-02    16.54 \n",
       "9  Cbut 2_Mic            1e-03    19.50 \n",
       "10 Cbut 2_Mic            1e-04    22.44 \n",
       "11 EcNissle_Mic          1e+00     9.53 \n",
       "12 EcNissle_Mic          1e-01    12.43 \n",
       "13 EcNissle_Mic          1e-02    15.47 \n",
       "14 EcNissle_Mic          1e-03    18.34 \n",
       "15 EcNissle_Mic          1e-04    21.16 \n",
       "16 EcNissle2_Mic         1e+00    10.12 \n",
       "17 EcNissle2_Mic         1e-01    13.03 \n",
       "18 EcNissle2_Mic         1e-02    16.18 \n",
       "19 EcNissle2_Mic         1e-03    18.65 \n",
       "20 EcNissle2_Mic         1e-04    21.45 \n",
       "21 Fvarium_Mic           1e+00     8.32 \n",
       "22 Fvarium_Mic           1e-01    11.17 \n",
       "23 Fvarium_Mic           1e-02    14.50 \n",
       "24 Fvarium_Mic           1e-03    17.34 \n",
       "25 Fvarium_Mic           1e-04    20.15 \n",
       "26 Fvarium 2_Mic         1e+00     7.20 \n",
       "27 Fvarium 2_Mic         1e-01    10.15 \n",
       "28 Fvarium 2_Mic         1e-02    12.96 \n",
       "29 Fvarium 2_Mic         1e-03    15.39 \n",
       "30 Fvarium 2_Mic         1e-04    17.91 \n",
       "⋮  ⋮                     ⋮        ⋮     \n",
       "51 EcNissle_Quantstudio  1e+00    12.835\n",
       "52 EcNissle_Quantstudio  1e-01    16.026\n",
       "53 EcNissle_Quantstudio  1e-02    19.569\n",
       "54 EcNissle_Quantstudio  1e-03    23.395\n",
       "55 EcNissle_Quantstudio  1e-04    26.572\n",
       "56 EcNissle2_Quantstudio 1e+00    12.366\n",
       "57 EcNissle2_Quantstudio 1e-01    16.088\n",
       "58 EcNissle2_Quantstudio 1e-02    19.475\n",
       "59 EcNissle2_Quantstudio 1e-03    22.901\n",
       "60 EcNissle2_Quantstudio 1e-04    26.003\n",
       "61 Fvarium_Quantstudio   1e+00    11.971\n",
       "62 Fvarium_Quantstudio   1e-01    15.475\n",
       "63 Fvarium_Quantstudio   1e-02    18.802\n",
       "64 Fvarium_Quantstudio   1e-03    22.261\n",
       "65 Fvarium_Quantstudio   1e-04    25.732\n",
       "66 Fvarium 2_Quantstudio 1e+00    12.327\n",
       "67 Fvarium 2_Quantstudio 1e-01    15.773\n",
       "68 Fvarium 2_Quantstudio 1e-02    19.360\n",
       "69 Fvarium 2_Quantstudio 1e-03    22.913\n",
       "70 Fvarium 2_Quantstudio 1e-04    26.482\n",
       "71 Pcopri_Quantstudio    1e+00    13.874\n",
       "72 Pcopri_Quantstudio    1e-01    17.230\n",
       "73 Pcopri_Quantstudio    1e-02    20.817\n",
       "74 Pcopri_Quantstudio    1e-03    24.070\n",
       "75 Pcopri_Quantstudio    1e-04    27.399\n",
       "76 Pcopri2_Quantstudio   1e+00    13.316\n",
       "77 Pcopri2_Quantstudio   1e-01    16.634\n",
       "78 Pcopri2_Quantstudio   1e-02    20.113\n",
       "79 Pcopri2_Quantstudio   1e-03    23.409\n",
       "80 Pcopri2_Quantstudio   1e-04    26.631"
      ]
     },
     "metadata": {},
     "output_type": "display_data"
    }
   ],
   "source": [
    "datalongmerge"
   ]
  },
  {
   "cell_type": "code",
   "execution_count": 283,
   "metadata": {},
   "outputs": [
    {
     "data": {},
     "metadata": {},
     "output_type": "display_data"
    },
    {
     "data": {
      "image/png": "[encoded data removed]",
      "text/plain": [
       "plot without title"
      ]
     },
     "metadata": {},
     "output_type": "display_data",
     "source": "R display func"
    }
   ],
   "source": [
    "ggplot(data = datalongmerge, aes(x = Dilution, y = Ct))+\n",
    "geom_smooth(method = lm)+\n",
    "geom_point()+\n",
    "facet_wrap(facets = 'Sample')+\n",
    "scale_x_log10()\n"
   ]
  },
  {
   "cell_type": "code",
   "execution_count": 284,
   "metadata": {},
   "outputs": [
    {
     "data": {
      "text/html": [
       "No documentation for ‘commit’ in specified packages and libraries:\n",
       "you could try ‘??commit’"
      ],
      "text/latex": [
       "No documentation for ‘commit’ in specified packages and libraries:\n",
       "you could try ‘??commit’"
      ],
      "text/plain": [
       "No documentation for ‘commit’ in specified packages and libraries:\n",
       "you could try ‘??commit’"
      ]
     },
     "metadata": {},
     "output_type": "display_data"
    }
   ],
   "source": [
    "?commit"
   ]
  },
  {
   "cell_type": "code",
   "execution_count": 285,
   "metadata": {},
   "outputs": [
    {
     "data": {
      "text/html": [
       "'/home/mcfernan/qpcr'"
      ],
      "text/latex": [
       "'/home/mcfernan/qpcr'"
      ],
      "text/markdown": [
       "'/home/mcfernan/qpcr'"
      ],
      "text/plain": [
       "[1] \"/home/mcfernan/qpcr\""
      ]
     },
     "metadata": {},
     "output_type": "display_data"
    }
   ],
   "source": [
    "getwd()"
   ]
  },
  {
   "cell_type": "code",
   "execution_count": 4,
   "metadata": {},
   "outputs": [
    {
     "ename": "ERROR",
     "evalue": "Error in setwd(\"fh/fast/kublin_j\"): cannot change working directory\n",
     "execution_count": 4,
     "output_type": "error",
     "traceback": [
      "Error in setwd(\"fh/fast/kublin_j\"): cannot change working directory\nTraceback:\n",
      "1. setwd(\"fh/fast/kublin_j\")"
     ]
    }
   ],
   "source": [
    "setwd('fh/fast/kublin_j')"
   ]
  },
  {
   "cell_type": "code",
   "execution_count": 5,
   "metadata": {},
   "outputs": [
    {
     "data": {
      "text/html": [
       "'/fh/fast/kublin_j/microbiome/mark'"
      ],
      "text/latex": [
       "'/fh/fast/kublin\\_j/microbiome/mark'"
      ],
      "text/markdown": [
       "'/fh/fast/kublin_j/microbiome/mark'"
      ],
      "text/plain": [
       "[1] \"/fh/fast/kublin_j/microbiome/mark\""
      ]
     },
     "metadata": {},
     "output_type": "display_data"
    }
   ],
   "source": [
    "getwd()"
   ]
  },
  {
   "cell_type": "code",
   "execution_count": 6,
   "metadata": {},
   "outputs": [
    {
     "data": {
      "text/html": [
       "<ol class=list-inline>\n",
       "\t<li>'efficiency.csv'</li>\n",
       "\t<li>'efficiency.ipynb'</li>\n",
       "\t<li>'MicvsQSraw.csv'</li>\n",
       "\t<li>'nyvac-lab-2b.yml'</li>\n",
       "\t<li>'qpcr.csv'</li>\n",
       "</ol>\n"
      ],
      "text/latex": [
       "\\begin{enumerate*}\n",
       "\\item 'efficiency.csv'\n",
       "\\item 'efficiency.ipynb'\n",
       "\\item 'MicvsQSraw.csv'\n",
       "\\item 'nyvac-lab-2b.yml'\n",
       "\\item 'qpcr.csv'\n",
       "\\end{enumerate*}\n"
      ],
      "text/markdown": [
       "1. 'efficiency.csv'\n",
       "2. 'efficiency.ipynb'\n",
       "3. 'MicvsQSraw.csv'\n",
       "4. 'nyvac-lab-2b.yml'\n",
       "5. 'qpcr.csv'\n",
       "\n",
       "\n"
      ],
      "text/plain": [
       "[1] \"efficiency.csv\"   \"efficiency.ipynb\" \"MicvsQSraw.csv\"   \"nyvac-lab-2b.yml\"\n",
       "[5] \"qpcr.csv\"        "
      ]
     },
     "metadata": {},
     "output_type": "display_data"
    }
   ],
   "source": [
    "list.files()"
   ]
  },
  {
   "cell_type": "code",
   "execution_count": null,
   "metadata": {},
   "outputs": [],
   "source": []
  }
 ],
 "metadata": {
  "kernelspec": {
   "display_name": "R",
   "language": "R",
   "name": "ir"
  },
  "language_info": {
   "codemirror_mode": "r",
   "file_extension": ".r",
   "mimetype": "text/x-r-source",
   "name": "R",
   "pygments_lexer": "r",
   "version": "3.4.3"
  }
 },
 "nbformat": 4,
 "nbformat_minor": 2
}
